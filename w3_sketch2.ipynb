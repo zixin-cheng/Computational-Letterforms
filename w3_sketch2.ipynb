{
 "cells": [
  {
   "cell_type": "markdown",
   "id": "162e451e",
   "metadata": {},
   "source": [
    "## CHARACTERS HAVE NUMBERS"
   ]
  },
  {
   "cell_type": "markdown",
   "id": "757865da",
   "metadata": {},
   "source": [
    "Python can convert characters to their Unicode codepoints \\\n",
    "[Reference here](https://unicode-table.com/en/)"
   ]
  },
  {
   "cell_type": "code",
   "execution_count": 28,
   "id": "8c1e77a1",
   "metadata": {},
   "outputs": [
    {
     "name": "stdout",
     "output_type": "stream",
     "text": [
      "97 98 99\n",
      "a b c\n"
     ]
    }
   ],
   "source": [
    "print(ord('a'), ord('b'), ord('c')) #converts chacracters to codepoints\n",
    "print(chr(97), chr(98), chr(99)) #converts codepoints to characters"
   ]
  },
  {
   "cell_type": "markdown",
   "id": "76e05698",
   "metadata": {},
   "source": [
    "---\n",
    "\n",
    "Unicode & Emojis"
   ]
  },
  {
   "cell_type": "code",
   "execution_count": 40,
   "id": "2d98f561",
   "metadata": {
    "scrolled": false
   },
   "outputs": [
    {
     "name": "stdout",
     "output_type": "stream",
     "text": [
      "10024\n",
      "✨\n",
      "0x2728\n",
      "✨\n"
     ]
    }
   ],
   "source": [
    "print(ord('✨')) #using number corresponding to Unicode codepoints\n",
    "print(chr(10024))\n",
    "print(hex(ord('✨'))) #formatting to hexidecimal number\n",
    "print(chr(0x2728))"
   ]
  },
  {
   "cell_type": "markdown",
   "id": "158af18d",
   "metadata": {},
   "source": [
    "### Doing math on character numbers"
   ]
  },
  {
   "cell_type": "markdown",
   "id": "eaba5ec7",
   "metadata": {},
   "source": [
    "Applying basic maths"
   ]
  },
  {
   "cell_type": "code",
   "execution_count": 41,
   "id": "c6c8c2e6",
   "metadata": {},
   "outputs": [
    {
     "name": "stdout",
     "output_type": "stream",
     "text": [
      "195\n",
      "9506\n"
     ]
    }
   ],
   "source": [
    "print(ord('a') + ord('b')) #97+98\n",
    "print(ord('a') * ord('b')) #97*98"
   ]
  },
  {
   "cell_type": "markdown",
   "id": "bae91398",
   "metadata": {},
   "source": [
    "---\n",
    "\n",
    "Using math like adding and multiplications to the string"
   ]
  },
  {
   "cell_type": "code",
   "execution_count": 3,
   "id": "00cbc9ec",
   "metadata": {},
   "outputs": [],
   "source": [
    "msg_a = \"betty botter bought a bit of butter\"\n",
    "msg_b = \"so, she bought a bit of butter, better than her bitter butter\""
   ]
  },
  {
   "cell_type": "code",
   "execution_count": 27,
   "id": "56bb338b",
   "metadata": {
    "scrolled": true
   },
   "outputs": [
    {
     "name": "stdout",
     "output_type": "stream",
     "text": [
      "betty botter bought a bit of butter\n",
      "cfuuz!cpuufs!cpvhiu!b!cju!pg!cvuufs\n",
      "ÄÊèèò@ÄÞèèÊä@ÄÞêÎÐè@Â@ÄÒè@ÞÌ@ÄêèèÊä\n",
      "🍢🍥🍴🍴🍹🌠🍢🍯🍴🍴🍥🍲🌠🍢🍯🍵🍧🍨🍴🌠🍡🌠🍢🍩🍴🌠🍯🍦🌠🍢🍵🍴🍴🍥🍲\n"
     ]
    }
   ],
   "source": [
    "print(''.join([chr(ord(c)) for c in msg_a])) #original string\n",
    "print(''.join([chr(ord(c) + 1) for c in msg_a])) #add 1 to each character codepoint\n",
    "print(''.join([chr(ord(c) * 2) for c in msg_a])) #multiplies 2 to each character codepoint\n",
    "print(''.join([chr(ord(c) + 0x1F300) for c in msg_a])) #0x1F300 starts with emojis"
   ]
  },
  {
   "cell_type": "markdown",
   "id": "3f147306",
   "metadata": {},
   "source": [
    "---\n",
    "Using for loop"
   ]
  },
  {
   "cell_type": "code",
   "execution_count": 13,
   "id": "1eaf6fb9",
   "metadata": {
    "scrolled": false
   },
   "outputs": [
    {
     "name": "stdout",
     "output_type": "stream",
     "text": [
      "betty botter bought a bit of butter\n",
      "cfuuz!cpuufs!cpvhiu!b!cju!pg!cvuufs\n",
      "dgvv{\"dqvvgt\"dqwijv\"c\"dkv\"qh\"dwvvgt\n",
      "ehww|#erwwhu#erxjkw#d#elw#ri#exwwhu\n",
      "fixx}$fsxxiv$fsyklx$e$fmx$sj$fyxxiv\n",
      "gjyy~%gtyyjw%gtzlmy%f%gny%tk%gzyyjw\n",
      "hkzz&huzzkx&hu{mnz&g&hoz&ul&h{zzkx\n",
      "il{{'iv{{ly'iv|no{'h'ip{'vm'i|{{ly\n",
      "jm||(jw||mz(jw}op|(i(jq|(wn(j}||mz\n",
      "kn}})kx}}n{)kx~pq})j)kr})xo)k~}}n{\n"
     ]
    }
   ],
   "source": [
    "for i in range(10):\n",
    "    print(''.join([chr(ord(c)+i) for c in msg_a]))"
   ]
  },
  {
   "cell_type": "markdown",
   "id": "f47e1c1c",
   "metadata": {},
   "source": [
    "---\n",
    "Generating your own data"
   ]
  },
  {
   "cell_type": "code",
   "execution_count": 44,
   "id": "505d7a49",
   "metadata": {},
   "outputs": [],
   "source": [
    "import math #import math to use sine wave"
   ]
  },
  {
   "cell_type": "code",
   "execution_count": 54,
   "id": "2517ae5b",
   "metadata": {},
   "outputs": [
    {
     "data": {
      "text/plain": [
       "'ffghijjjjjjjihgfedcbbaaaaaabbcdefghiijjjjjjihhgfedcbaaaaaaabcdefghhijjjjjjiihgfe'"
      ]
     },
     "execution_count": 54,
     "metadata": {},
     "output_type": "execute_result"
    }
   ],
   "source": [
    "''.join([chr(int(102 + (math.sin(i*0.2)*5))) for i in range(80)])"
   ]
  },
  {
   "cell_type": "markdown",
   "id": "2d12451f",
   "metadata": {},
   "source": [
    "---\n",
    "\n",
    "Getting largest and smallest number"
   ]
  },
  {
   "cell_type": "code",
   "execution_count": 64,
   "id": "b8e9fa0b",
   "metadata": {
    "scrolled": true
   },
   "outputs": [
    {
     "name": "stdout",
     "output_type": "stream",
     "text": [
      "y 121\n",
      "  32\n"
     ]
    }
   ],
   "source": [
    "print(max(msg_a), ord(max(msg_a))) #shows the character that has largest codepoint\n",
    "print(min(msg_a), ord(min(msg_a))) #this is going to be the space which is the smalles"
   ]
  },
  {
   "cell_type": "markdown",
   "id": "8380f988",
   "metadata": {},
   "source": [
    "---\n",
    "Average and sums"
   ]
  },
  {
   "cell_type": "code",
   "execution_count": 63,
   "id": "80ee1a35",
   "metadata": {},
   "outputs": [
    {
     "name": "stdout",
     "output_type": "stream",
     "text": [
      "3340\n",
      "95.42857142857143\n",
      "_\n"
     ]
    }
   ],
   "source": [
    "print(sum([ord(c) for c in msg_a])) #adding up all the codepoint numbers\n",
    "print(sum([ord(c) for c in msg_a]) / len(msg_a)) #divide it by the length to get average\n",
    "print(chr(round(sum([ord(c) for c in msg_a]) / len(msg_a)))) #rounding the average and convert to character"
   ]
  },
  {
   "cell_type": "markdown",
   "id": "3a74a682",
   "metadata": {},
   "source": [
    "## UNICODE\n",
    "\n",
    "Unicode characters comes with number and descriptions \\\n",
    "Unicode characters have \"categories\" \\\n",
    "[Reference here](http://www.unicode.org/reports/tr44/#General_Category_Values)"
   ]
  },
  {
   "cell_type": "code",
   "execution_count": 66,
   "id": "51fa767b",
   "metadata": {},
   "outputs": [],
   "source": [
    "import unicodedata"
   ]
  },
  {
   "cell_type": "code",
   "execution_count": 85,
   "id": "dea98d5e",
   "metadata": {},
   "outputs": [
    {
     "name": "stdout",
     "output_type": "stream",
     "text": [
      "LATIN SMALL LETTER A\n",
      "a\n",
      "Ll\n",
      "SPARKLES\n",
      "✨\n",
      "So\n"
     ]
    }
   ],
   "source": [
    "print(unicodedata.name('a')) #gives the description of the Unicode character\n",
    "print(unicodedata.lookup('LATIN SMALL LETTER A')) #vise versa\n",
    "print(unicodedata.category('a')) #give the Unicode category, Ll=Lowercase_Letter\n",
    "print(unicodedata.name('✨'))\n",
    "print(unicodedata.lookup('SPARKLES'))\n",
    "print(unicodedata.category('✨')) #So=Other_Symbol"
   ]
  },
  {
   "cell_type": "markdown",
   "id": "8e4df706",
   "metadata": {},
   "source": [
    "---\n",
    "Using strings & array"
   ]
  },
  {
   "cell_type": "code",
   "execution_count": 78,
   "id": "6bdccc7f",
   "metadata": {},
   "outputs": [
    {
     "name": "stdout",
     "output_type": "stream",
     "text": [
      "LATIN SMALL LETTER B\n",
      "LATIN SMALL LETTER E\n",
      "LATIN SMALL LETTER T\n",
      "LATIN SMALL LETTER T\n",
      "LATIN SMALL LETTER Y\n",
      "SPACE\n",
      "LATIN SMALL LETTER B\n",
      "LATIN SMALL LETTER O\n",
      "LATIN SMALL LETTER T\n",
      "LATIN SMALL LETTER T\n",
      "LATIN SMALL LETTER E\n",
      "LATIN SMALL LETTER R\n",
      "SPACE\n",
      "LATIN SMALL LETTER B\n",
      "LATIN SMALL LETTER O\n",
      "LATIN SMALL LETTER U\n",
      "LATIN SMALL LETTER G\n",
      "LATIN SMALL LETTER H\n",
      "LATIN SMALL LETTER T\n",
      "SPACE\n",
      "LATIN SMALL LETTER A\n",
      "SPACE\n",
      "LATIN SMALL LETTER B\n",
      "LATIN SMALL LETTER I\n",
      "LATIN SMALL LETTER T\n",
      "SPACE\n",
      "LATIN SMALL LETTER O\n",
      "LATIN SMALL LETTER F\n",
      "SPACE\n",
      "LATIN SMALL LETTER B\n",
      "LATIN SMALL LETTER U\n",
      "LATIN SMALL LETTER T\n",
      "LATIN SMALL LETTER T\n",
      "LATIN SMALL LETTER E\n",
      "LATIN SMALL LETTER R\n"
     ]
    }
   ],
   "source": [
    "for c in msg_a:\n",
    "    print(unicodedata.name(c)) #printing out description of each character on a line"
   ]
  },
  {
   "cell_type": "code",
   "execution_count": 81,
   "id": "73035406",
   "metadata": {},
   "outputs": [
    {
     "name": "stdout",
     "output_type": "stream",
     "text": [
      "LATIN SMALL LETTER B, LATIN SMALL LETTER E, LATIN SMALL LETTER T, LATIN SMALL LETTER T, LATIN SMALL LETTER Y, SPACE, LATIN SMALL LETTER B, LATIN SMALL LETTER O, LATIN SMALL LETTER T, LATIN SMALL LETTER T, LATIN SMALL LETTER E, LATIN SMALL LETTER R, SPACE, LATIN SMALL LETTER B, LATIN SMALL LETTER O, LATIN SMALL LETTER U, LATIN SMALL LETTER G, LATIN SMALL LETTER H, LATIN SMALL LETTER T, SPACE, LATIN SMALL LETTER A, SPACE, LATIN SMALL LETTER B, LATIN SMALL LETTER I, LATIN SMALL LETTER T, SPACE, LATIN SMALL LETTER O, LATIN SMALL LETTER F, SPACE, LATIN SMALL LETTER B, LATIN SMALL LETTER U, LATIN SMALL LETTER T, LATIN SMALL LETTER T, LATIN SMALL LETTER E, LATIN SMALL LETTER R\n"
     ]
    }
   ],
   "source": [
    "names = [] #creating array for all the descriptions\n",
    "for c in msg_a:\n",
    "    names.append(unicodedata.name(c)) #pushes all the descriptions to array\n",
    "print(\", \".join(names)) #joins the descriptions with comma"
   ]
  },
  {
   "cell_type": "code",
   "execution_count": 88,
   "id": "21e730f7",
   "metadata": {},
   "outputs": [
    {
     "name": "stdout",
     "output_type": "stream",
     "text": [
      "Ll_Ll_Ll_Ll_Ll_Zs_Ll_Ll_Ll_Ll_Ll_Ll_Zs_Ll_Ll_Ll_Ll_Ll_Ll_Zs_Ll_Zs_Ll_Ll_Ll_Zs_Ll_Ll_Zs_Ll_Ll_Ll_Ll_Ll_Ll_\n"
     ]
    }
   ],
   "source": [
    "out = \"\" #creating a variable\n",
    "for c in msg_a:\n",
    "    out += unicodedata.category(c) #referencing category of each character\n",
    "    out += \"_\" #adds _ afrer each character\n",
    "print(out)"
   ]
  },
  {
   "cell_type": "markdown",
   "id": "b4daa7b6",
   "metadata": {},
   "source": [
    "### Playing with the Unicode database\n",
    "\n",
    "To lookup and search through by description/name, you can download  [the official Unicode database](https://www.unicode.org/Public/13.0.0/ucd/UnicodeData.txt) to build a small index that makes it easier to search (v.13.0.0)."
   ]
  },
  {
   "cell_type": "code",
   "execution_count": 89,
   "id": "1f047cad",
   "metadata": {},
   "outputs": [
    {
     "name": "stdout",
     "output_type": "stream",
     "text": [
      "  % Total    % Received % Xferd  Average Speed   Time    Time     Time  Current\n",
      "                                 Dload  Upload   Total   Spent    Left  Speed\n",
      "100 1808k  100 1808k    0     0  1151k      0  0:00:01  0:00:01 --:--:-- 1151k  0  0:00:01  0:00:01 --:--:-- 1159k\n"
     ]
    }
   ],
   "source": [
    "!curl -L -O https://www.unicode.org/Public/13.0.0/ucd/UnicodeData.txt"
   ]
  },
  {
   "cell_type": "code",
   "execution_count": 90,
   "id": "d811cc1c",
   "metadata": {},
   "outputs": [],
   "source": [
    "unicode = [] #creating an array to store the database\n",
    "for line in open(\"UnicodeData.txt\"):\n",
    "    line = line.strip()\n",
    "    fields = line.split(';')\n",
    "    row = {\n",
    "        'char': chr(int(fields[0], 16)),\n",
    "        'name': fields[1],\n",
    "        'category': fields[2]\n",
    "    }\n",
    "    unicode.append(row)"
   ]
  },
  {
   "cell_type": "markdown",
   "id": "d37d2215",
   "metadata": {},
   "source": [
    "---\n",
    "Searching through the database using the conditional expression of a list comprehension"
   ]
  },
  {
   "cell_type": "code",
   "execution_count": 112,
   "id": "27054121",
   "metadata": {},
   "outputs": [
    {
     "data": {
      "text/plain": [
       "[{'char': '٭', 'name': 'ARABIC FIVE POINTED STAR', 'category': 'Po'},\n",
       " {'char': '۞', 'name': 'ARABIC START OF RUB EL HIZB', 'category': 'So'},\n",
       " {'char': '༌', 'name': 'TIBETAN MARK DELIMITER TSHEG BSTAR', 'category': 'Po'},\n",
       " {'char': '≛', 'name': 'STAR EQUALS', 'category': 'Sm'},\n",
       " {'char': '⋆', 'name': 'STAR OPERATOR', 'category': 'Sm'},\n",
       " {'char': '⍟', 'name': 'APL FUNCTIONAL SYMBOL CIRCLE STAR', 'category': 'So'},\n",
       " {'char': '⍣',\n",
       "  'name': 'APL FUNCTIONAL SYMBOL STAR DIAERESIS',\n",
       "  'category': 'So'},\n",
       " {'char': '␁', 'name': 'SYMBOL FOR START OF HEADING', 'category': 'So'},\n",
       " {'char': '␂', 'name': 'SYMBOL FOR START OF TEXT', 'category': 'So'},\n",
       " {'char': '★', 'name': 'BLACK STAR', 'category': 'So'},\n",
       " {'char': '☆', 'name': 'WHITE STAR', 'category': 'So'},\n",
       " {'char': '☪', 'name': 'STAR AND CRESCENT', 'category': 'So'},\n",
       " {'char': '⚝', 'name': 'OUTLINED WHITE STAR', 'category': 'So'},\n",
       " {'char': '✡', 'name': 'STAR OF DAVID', 'category': 'So'},\n",
       " {'char': '✦', 'name': 'BLACK FOUR POINTED STAR', 'category': 'So'},\n",
       " {'char': '✧', 'name': 'WHITE FOUR POINTED STAR', 'category': 'So'},\n",
       " {'char': '✩', 'name': 'STRESS OUTLINED WHITE STAR', 'category': 'So'},\n",
       " {'char': '✪', 'name': 'CIRCLED WHITE STAR', 'category': 'So'},\n",
       " {'char': '✫', 'name': 'OPEN CENTRE BLACK STAR', 'category': 'So'},\n",
       " {'char': '✬', 'name': 'BLACK CENTRE WHITE STAR', 'category': 'So'},\n",
       " {'char': '✭', 'name': 'OUTLINED BLACK STAR', 'category': 'So'},\n",
       " {'char': '✮', 'name': 'HEAVY OUTLINED BLACK STAR', 'category': 'So'},\n",
       " {'char': '✯', 'name': 'PINWHEEL STAR', 'category': 'So'},\n",
       " {'char': '✰', 'name': 'SHADOWED WHITE STAR', 'category': 'So'},\n",
       " {'char': '✴', 'name': 'EIGHT POINTED BLACK STAR', 'category': 'So'},\n",
       " {'char': '✵', 'name': 'EIGHT POINTED PINWHEEL STAR', 'category': 'So'},\n",
       " {'char': '✶', 'name': 'SIX POINTED BLACK STAR', 'category': 'So'},\n",
       " {'char': '✷',\n",
       "  'name': 'EIGHT POINTED RECTILINEAR BLACK STAR',\n",
       "  'category': 'So'},\n",
       " {'char': '✸',\n",
       "  'name': 'HEAVY EIGHT POINTED RECTILINEAR BLACK STAR',\n",
       "  'category': 'So'},\n",
       " {'char': '✹', 'name': 'TWELVE POINTED BLACK STAR', 'category': 'So'},\n",
       " {'char': '❂',\n",
       "  'name': 'CIRCLED OPEN CENTRE EIGHT POINTED STAR',\n",
       "  'category': 'So'},\n",
       " {'char': '⧦', 'name': 'GLEICH STARK', 'category': 'Sm'},\n",
       " {'char': '⭐', 'name': 'WHITE MEDIUM STAR', 'category': 'So'},\n",
       " {'char': '⭑', 'name': 'BLACK SMALL STAR', 'category': 'So'},\n",
       " {'char': '⭒', 'name': 'WHITE SMALL STAR', 'category': 'So'},\n",
       " {'char': '⯨', 'name': 'LEFT HALF BLACK STAR', 'category': 'So'},\n",
       " {'char': '⯩', 'name': 'RIGHT HALF BLACK STAR', 'category': 'So'},\n",
       " {'char': '⯪', 'name': 'STAR WITH LEFT HALF BLACK', 'category': 'So'},\n",
       " {'char': '⯫', 'name': 'STAR WITH RIGHT HALF BLACK', 'category': 'So'},\n",
       " {'char': '𐫰', 'name': 'MANICHAEAN PUNCTUATION STAR', 'category': 'Po'},\n",
       " {'char': '𑿯', 'name': 'TAMIL STARTING FROM SIGN', 'category': 'So'},\n",
       " {'char': '\\U00013432',\n",
       "  'name': 'EGYPTIAN HIEROGLYPH INSERT AT TOP START',\n",
       "  'category': 'Cf'},\n",
       " {'char': '\\U00013433',\n",
       "  'name': 'EGYPTIAN HIEROGLYPH INSERT AT BOTTOM START',\n",
       "  'category': 'Cf'},\n",
       " {'char': '🌃', 'name': 'NIGHT WITH STARS', 'category': 'So'},\n",
       " {'char': '🌟', 'name': 'GLOWING STAR', 'category': 'So'},\n",
       " {'char': '🌠', 'name': 'SHOOTING STAR', 'category': 'So'},\n",
       " {'char': '🍮', 'name': 'CUSTARD', 'category': 'So'},\n",
       " {'char': '🔯', 'name': 'SIX POINTED STAR WITH MIDDLE DOT', 'category': 'So'},\n",
       " {'char': '🝒',\n",
       "  'name': 'ALCHEMICAL SYMBOL FOR STARRED TRIDENT',\n",
       "  'category': 'So'},\n",
       " {'char': '🟀', 'name': 'LIGHT THREE POINTED BLACK STAR', 'category': 'So'},\n",
       " {'char': '🟁', 'name': 'MEDIUM THREE POINTED BLACK STAR', 'category': 'So'},\n",
       " {'char': '🟂', 'name': 'THREE POINTED BLACK STAR', 'category': 'So'},\n",
       " {'char': '🟃', 'name': 'MEDIUM THREE POINTED PINWHEEL STAR', 'category': 'So'},\n",
       " {'char': '🟄', 'name': 'LIGHT FOUR POINTED BLACK STAR', 'category': 'So'},\n",
       " {'char': '🟅', 'name': 'MEDIUM FOUR POINTED BLACK STAR', 'category': 'So'},\n",
       " {'char': '🟆', 'name': 'FOUR POINTED BLACK STAR', 'category': 'So'},\n",
       " {'char': '🟇', 'name': 'MEDIUM FOUR POINTED PINWHEEL STAR', 'category': 'So'},\n",
       " {'char': '🟈',\n",
       "  'name': 'REVERSE LIGHT FOUR POINTED PINWHEEL STAR',\n",
       "  'category': 'So'},\n",
       " {'char': '🟉', 'name': 'LIGHT FIVE POINTED BLACK STAR', 'category': 'So'},\n",
       " {'char': '🟊', 'name': 'HEAVY FIVE POINTED BLACK STAR', 'category': 'So'},\n",
       " {'char': '🟋', 'name': 'MEDIUM SIX POINTED BLACK STAR', 'category': 'So'},\n",
       " {'char': '🟌', 'name': 'HEAVY SIX POINTED BLACK STAR', 'category': 'So'},\n",
       " {'char': '🟍', 'name': 'SIX POINTED PINWHEEL STAR', 'category': 'So'},\n",
       " {'char': '🟎', 'name': 'MEDIUM EIGHT POINTED BLACK STAR', 'category': 'So'},\n",
       " {'char': '🟏', 'name': 'HEAVY EIGHT POINTED BLACK STAR', 'category': 'So'},\n",
       " {'char': '🟐',\n",
       "  'name': 'VERY HEAVY EIGHT POINTED BLACK STAR',\n",
       "  'category': 'So'},\n",
       " {'char': '🟑', 'name': 'HEAVY EIGHT POINTED PINWHEEL STAR', 'category': 'So'},\n",
       " {'char': '🟒', 'name': 'LIGHT TWELVE POINTED BLACK STAR', 'category': 'So'},\n",
       " {'char': '🟓', 'name': 'HEAVY TWELVE POINTED BLACK STAR', 'category': 'So'},\n",
       " {'char': '🟔', 'name': 'HEAVY TWELVE POINTED PINWHEEL STAR', 'category': 'So'},\n",
       " {'char': '🤩', 'name': 'GRINNING FACE WITH STAR EYES', 'category': 'So'}]"
      ]
     },
     "execution_count": 112,
     "metadata": {},
     "output_type": "execute_result"
    }
   ],
   "source": [
    "[row for row in unicode if 'STAR' in row['name']] \n",
    "#searches for characters with CAT in the name"
   ]
  },
  {
   "cell_type": "code",
   "execution_count": 107,
   "id": "17cbd6d9",
   "metadata": {},
   "outputs": [
    {
     "name": "stdout",
     "output_type": "stream",
     "text": [
      "['٭', '۞', '༌', '≛', '⋆', '⍟', '⍣', '␁', '␂', '★', '☆', '☪', '⚝', '✡', '✦', '✧', '✩', '✪', '✫', '✬', '✭', '✮', '✯', '✰', '✴', '✵', '✶', '✷', '✸', '✹', '❂', '⧦', '⭐', '⭑', '⭒', '⯨', '⯩', '⯪', '⯫', '𐫰', '𑿯', '\\U00013432', '\\U00013433', '🌃', '🌟', '🌠', '🍮', '🔯', '🝒', '🟀', '🟁', '🟂', '🟃', '🟄', '🟅', '🟆', '🟇', '🟈', '🟉', '🟊', '🟋', '🟌', '🟍', '🟎', '🟏', '🟐', '🟑', '🟒', '🟓', '🟔', '🤩']\n"
     ]
    }
   ],
   "source": [
    "print([row['char'] for row in unicode if 'STAR' in row['name']d]) \n",
    "#using char() to just get the character"
   ]
  },
  {
   "cell_type": "code",
   "execution_count": 115,
   "id": "13aa9d4a",
   "metadata": {},
   "outputs": [
    {
     "data": {
      "text/plain": [
       "['≛', '⋆', '⧦']"
      ]
     },
     "execution_count": 115,
     "metadata": {},
     "output_type": "execute_result"
    }
   ],
   "source": [
    "stars = [row['char'] for row in unicode if 'STAR' in row['name'] and row['category'] == 'Sm']\n",
    "stars\n",
    "#only showing STAR characters that are in SM(mathematical symbol) category"
   ]
  },
  {
   "cell_type": "code",
   "execution_count": 119,
   "id": "411099e9",
   "metadata": {},
   "outputs": [],
   "source": [
    "import random"
   ]
  },
  {
   "cell_type": "code",
   "execution_count": 123,
   "id": "561b5dc8",
   "metadata": {
    "scrolled": true
   },
   "outputs": [
    {
     "name": "stdout",
     "output_type": "stream",
     "text": [
      "⧦≛⋆\n",
      "⧦≛⋆\n",
      "⋆≛⧦\n",
      "≛⋆⧦\n",
      "≛⋆⧦\n"
     ]
    }
   ],
   "source": [
    "for i in range(5): #creating a loop that randomly puts the previous stars in a line\n",
    "    print(''.join(random.sample(stars, len(stars))))"
   ]
  },
  {
   "cell_type": "markdown",
   "id": "0711328e",
   "metadata": {},
   "source": [
    "## COMPUTERS USE BYTES\n",
    "\n",
    "Binary representation with the `bin()` function"
   ]
  },
  {
   "cell_type": "code",
   "execution_count": 130,
   "id": "5f757891",
   "metadata": {},
   "outputs": [
    {
     "name": "stdout",
     "output_type": "stream",
     "text": [
      "97\n",
      "0b1100001\n",
      "97\n",
      "a\n"
     ]
    }
   ],
   "source": [
    "print(ord('a')) #get the codepoint for \"a\"\n",
    "print(bin(97)) #get binary code using codepoint\n",
    "print(0b1100001) #revert binary code back to codepoint\n",
    "print(chr(0b1100001)) #revert binary code back to character"
   ]
  },
  {
   "cell_type": "markdown",
   "id": "869a8028",
   "metadata": {},
   "source": [
    "---\n",
    "Converting to hexadecimal with `hex()` function"
   ]
  },
  {
   "cell_type": "code",
   "execution_count": 137,
   "id": "75d5e710",
   "metadata": {},
   "outputs": [
    {
     "name": "stdout",
     "output_type": "stream",
     "text": [
      "0x61\n",
      "97\n",
      "a\n"
     ]
    }
   ],
   "source": [
    "print(hex(97)) #get hexadecimal for \"a\"\n",
    "print(0x61) #hex to unicode\n",
    "print(chr(0x61)) # hex to character"
   ]
  },
  {
   "cell_type": "code",
   "execution_count": 140,
   "id": "5311ffcf",
   "metadata": {},
   "outputs": [
    {
     "name": "stdout",
     "output_type": "stream",
     "text": [
      "a\n",
      "a\n",
      "a\n"
     ]
    }
   ],
   "source": [
    "print('a') #character\n",
    "print(chr(0b1100001)) #binary\n",
    "print(chr(0x61)) #hex"
   ]
  },
  {
   "cell_type": "markdown",
   "id": "8570339d",
   "metadata": {},
   "source": [
    "## LOADING THINGS WITH ENCODINGS\n",
    "\n",
    "Opening and encoding files \\\n",
    "If text has non-ASCII characters like Kanji you can use UTF8 `encoding=\"ascii\"`, or skip character that could not be encoded with `errors='ignore'` (characters would be deleted)"
   ]
  },
  {
   "cell_type": "code",
   "execution_count": 149,
   "id": "0de7f485",
   "metadata": {},
   "outputs": [
    {
     "name": "stdout",
     "output_type": "stream",
     "text": [
      "111133334444\n",
      "111112224444\n",
      "111222222  1\n",
      "314422222111\n",
      "344442223111\n",
      " 44444433331\n",
      "22444333333 \n",
      "2211111133 4\n",
      "23111111222 \n",
      " 33311444444\n"
     ]
    }
   ],
   "source": [
    "print(open(\"CLL_WK2_HW1.txt\", \"r\", encoding=\"ascii\").read())\n",
    "#encoding using ascii"
   ]
  },
  {
   "cell_type": "markdown",
   "id": "057b6b7e",
   "metadata": {},
   "source": [
    "---\n",
    "Using wrong encodings"
   ]
  },
  {
   "cell_type": "code",
   "execution_count": 571,
   "id": "bf674a77",
   "metadata": {},
   "outputs": [
    {
     "name": "stdout",
     "output_type": "stream",
     "text": [
      "\u0016\u0016\u0016\u0016\u0016\u0016\u0016\u0016\u0016\u0016\u0016\u0016\u0016\u0016\u0016\u0016\u0016\u0016\u0016\u0016\u0016\u0016\u0016\u0016\u0016\n"
     ]
    }
   ],
   "source": [
    "#encoding with EBCDIC\n",
    "print(open(\"CLL_WK2_HW1.txt\", \"r\", encoding=\"cp037\").read()) "
   ]
  },
  {
   "cell_type": "markdown",
   "id": "6fc2cce1",
   "metadata": {},
   "source": [
    "---\n",
    "Non-text files"
   ]
  },
  {
   "cell_type": "code",
   "execution_count": 143,
   "id": "83afb2ad",
   "metadata": {},
   "outputs": [],
   "source": [
    "from IPython.display import Image as showimg"
   ]
  },
  {
   "cell_type": "code",
   "execution_count": 243,
   "id": "ec63db78",
   "metadata": {
    "scrolled": true
   },
   "outputs": [
    {
     "data": {
      "image/png": "[encoded data removed]",
      "text/plain": [
       "<IPython.core.display.Image object>"
      ]
     },
     "execution_count": 243,
     "metadata": {},
     "output_type": "execute_result"
    }
   ],
   "source": [
    "showimg(filename=\"CLL_WK2_HW.png\", embed=True) #showing image"
   ]
  },
  {
   "cell_type": "markdown",
   "id": "f02927ed",
   "metadata": {},
   "source": [
    "Opening image with encoding (`latin1` is a one-byte-per-character encoding)"
   ]
  },
  {
   "cell_type": "code",
   "execution_count": 246,
   "id": "dd3b9479",
   "metadata": {},
   "outputs": [
    {
     "name": "stdout",
     "output_type": "stream",
     "text": [
      "PNG\n",
      "\u001a\n",
      "\u0000\u0000\u0000\n",
      "IHDR\u0000\u0000\u0000k\u0000\u0000\u0000\b\u0006\u0000\u0000\u0000ã¹\u0017»\u0000\u0000\f",
      "jiCCPICC Profile\u0000\u0000HW\u0007XSÉ\u0016[RIh\u0001\u0004¤Þ\u0004\u001a@J\b-ô\"Ø\bI ¡Ä\u0010TìeQÁµ(VtUD±­Ø±+bï\"\"Êº¨\n",
      "7!\u0001]÷ï|sï3gþSîÜr\u0000ÐúÀJóPm\u0000ò%\u0005²ð`æè´t&©\u0003 ð§\u000b",
      "PàÀãË¥ì¸¸h\u0000eàüwyw\u000b",
      "ÚB¹î¬äúçü\u0015]PÎ\u0007\u0000\u0019\u000b",
      "q¦@ÎÏø$\u0000øz¾TV\u0000\u0000Q©·\\ UâÙ\u0010ëÉ`\u0010¯Râl\u0015Þ©Ä*|´ß&)\u0003ñU\u0000È4\u001e",
      "O\n",
      "æ\u0003¨g\u0016ò³!æg]%\u0002±\u0004\u0000­a\u0010\u0007ðE<\u0001ÄÊØåçOTârí¡½\u0014b\u0018\u000f`e~Çý7þÌA~\u001e",
      "/{\u0010«òê\u0017rX.ÍãMý?Kó¿%?O1àÃ\u0016\u000eH\u0016 Ì\u001fÖðNîÄ(%¦AÜ%ÉUÖ\u001aâ\u000fbªî\u0000 T\"\"Yeðå\u001c",
      "X?`\u0000±«\u0017\u0012\u0005±\tÄa¼hµ>3K\u001c",
      "Æ",
      "\u0018î\u0016t¸\u0004±!Ä\u000b",
      "",
      "òÐDµÍfÙÄ\u0004µ/´6KÆa«õ\u0017x²~¿J_\u0014¹Él5ÿ\u001b«æÇ4DI©\u0010S!¶.\u0014§Ä@¬\t±<71Jm3²HÄ\u0019°)\u0012ñ[C \u0007«ø±Â,YXÚ¾$_>/¶Y$æÆ¨ñ\u0002QRª>Ø\u0019>¯?~\u000b",
      "vU(a'\u000fð\bå££\u0007r\u0011\bCBU¹cÏ",
      "äD5Ï\u0007iApj-NæÅ©íqKa^¸Ro\t±¼0Q½\u0016O)SÅgI\u000b",
      "âTqâE9¼È8U<ø2\u0010\n",
      "8 \u00040\u0002L0\u0011ä\u0000qsW]\u0017ü§\t\u0003< \u0003Ù@\bÕ\u0015©ý3\u0012xL\u0004Eà\u000f@>¸.¸V\b\n",
      "¡þË Vut\u0006Yý³",
      "ý+rÁ3óA\u0014Èÿ\u0015ý«$ÞRÀS¨\u0011ÿÃ;\u000f\u000e>7\u000f\u000eåü¿×\u000fh¿iØP\u0013­Ö(\u0006<2µ\u0006,¡Ä\u0010b\u00041è\u001bã\u0001¸\u001f\u001e",
      "\n",
      "Ap¸á,Üg oög\u0016Â\u0013ÂMB+áî\u0004ñ\\Ù\u000fQ\u0002­?L]ÌïkÛBNO<\u0018÷ì\u00197À3î\u0001ý°ñ@èÙ\u0013j9ê¸UaþÀý·\f",
      "¾»\u001aj;+\u0005¥\f",
      "¡\u0004Qì\\©é¨é9È¢¬õ÷õQÅ9XoÎàÌþ9ßU_\u0000ÏQ?Zb\u000b",
      "±Øyì\u0014v\u0011;Õ\u0001&v\u0002«Ç°cJ<¸»öï®\u0001o\týñäB\u001e",
      "ñ?ü\n",
      "\\Ye%å®Õ®®Us\u0005Â)\u0005Ê\u001b3Q:U&Î\u0016\u00150Ùðí dr%|aL7W7w\u0000ï\u001aÕãëm|ÿ;\u00041hú¦÷;\u0000þ'úúú|ÓE\u0000`¿7¼ý\u000fÓÙ³\u0000ÐÑ\u0000àÂa¾BV¨ÒáÊ\u0003\u0001>%´àf\u0004Ì\u0015°ù¸\u0001/à\u0007@(\u0004± \t¤ñ0z\u0011Üç20\u0019L\u0007s@1(\u0005ËÀj°\u000el\u0002[ÁN°\u0007\u001c",
      "\u0000uà(8\u0005ÎËà*¸\tîÃÝÓ\u000e^nð\u000eô\"\bBBè\b\u00031BÌ\u0011\u001bÄ\tqCXH\u0000\u0012D#\tH\u001ad#\u0012DLGæ!¥È\n",
      "d\u001d",
      "²\u0005©Bö#SÈE¤\u0005¹<F:7È'\u0014Ci¨\u001e",
      "jÚ¢ÃQ\u0016ÊF£Ð$t\u001c",
      "NBÐùè\u0012´\u001c",
      "­Dw£µè)ô2z\u0013mE_¢=\u0018À40\u0003Ì\u0002sÆX\u0018\u0007ÅÒ±,LÍÄJ°2¬\u0012«Á\u001aàu¾µb]ØG3p&î\f",
      "wp\u0004óñIøL|1¾\u000eß×âgðëøc¼\u001bÿJ \u0013L\bN\u0004_\u00020ML(&\u0011¶\u0013\u000e\u0011ÎÂ{©ðH$\u001a\u0010íÞð^L#æ\u0010§\u0011\u0017\u00137\u0010÷\u0012O\u0012[mÄ\u001e",
      "\u0012dDr\"ùbI<R\u0001©´´ttÔNú@Ö ÝÈaät²<\\FÞE>N¾Fî ÷R´)6\u0014_J,E@JYJÙFi \\¡´Sz©:T;ª?5CC-§ÖPÏR\u001fPßjhhXjøhÄk5fkkìÓ¸ ñXã#MæHãÐÆÒ\u0014´%´\u001d",
      "´´»´·t:Ý\u001e",
      "DO§\u0017ÐÐ«è§éè\u001f4\u0019.\\Mæ,Í\n",
      "ÍZÍk¯´(Z6Zl­ñZEZeZ\u0007µ®huiS´mµ9Ú<íÚ\u0015Úµok÷è0tFèÄêäë,ÖÙ¥sQç¹.I×V7TW ;_w«îiÝ6\u0006Æ°bp\u0018|Æ<Æ6ÆYF»\u001e",
      "QÏN«£Wª·G¯Y¯[_WßC?E~",
      "þ1ýV\u0003ÌÀÖkg°ÔàÁ-OCL°\b,\u001aR3äÚ÷C\n",
      "\f",
      "",
      "%{\n",
      "o\u001a~2b\u001a",
      "\u001aå\u001a-7ª3zh\u001b;\u001aÇ\u001bO6Þh|Ö¸k¨ÞP¿¡ü¡%C\u000f\f",
      "½g8$L3ÙjÒdÒcjf\u001an*5]kzÚ´ËÌÀ,È,ÇlÙq³Nsy¹Ø|ù\tó\u0017L}&Ç,gav[XDX(,¶X4[ôZÚY&[ÎµÜkùÐjÅ²Ê²ZeÕhÕmmn=Êzºuµõ=\u001b\n",
      "ËFd³Ææ¼Í{[;ÛTÛ\u0005¶u¶Ïí\f",
      "í¸vEvÕv\u000fìéööì+ío8\u0010\u001d",
      "X\u000e¹\u000e\u001b\u001c",
      "®:¢\"Ç\n",
      "Ç+N¨ØiSË0Â0aaÃn;ÓÙÎ",
      "ÎÕÎ]\f",
      "\\¢]æºÔ¹¼\u001an=<}øòáçuõtÍsÝæzîÈ\u0011sG4xãæèÆw«p»áNw\u000fså^ïþÚÃÉCè±Ñã'Ãsç\u0002ÏFÏ/^Þ^2¯\u001a¯Nokï\f",
      "ïõÞ·Yz¬8ÖbÖ\u0005\u001fO°Ï,£>\u001f}½|\u000b",
      "|\u000føþéçìë·ËïùH»ÂÛF¶ù[úóü·ø·\u00060\u00032\u00026\u0007´\u0006Z\u0004ò\u0002+\u0003\u0004Y\u0005\t¶\u0007u°\u001d",
      "Ø9ìÝìWÁ®Á²àCÁï9¾\u0019!XHxHIHs¨nhrèºÐGaaÙaÕaÝááÓÂOF\u0010\"¢\"GÜærùÜ*nw¤wäÈ3Q´¨Ä¨uQO¢\u001d",
      "£eÑ\n",
      "£ÐQ£Vz\u0010c\u0013#©\u0005±ÜØ±\u000fãìâ&Å\u001d",
      "'ÆÇÅWÄ?K\u00180=á|\"#qBâ®ÄwIÁIKî'Û'+\u001bS´RÆ¦T¥¼O\n",
      "I]Ú:zøè\u0019£/§\u0019§ÓêÓIé)éÛÓ{ÆY=¦}¬çØâ±·ÆÙ2îâxãñyãMÐÀp0±+ã3/WÉëÉäf®Ïìæsøkø/\u0005AUN¡¿p",
      "°#Ë?kEÖólÿìÙ¢@Q¨KÌ\u0011¯\u0013¿ÎÈÙó>76wGn_^jÞÞ|r~Fþa®$Wrf¢ÙÄ)\u0013[¤NÒbië$ßI«'uË¢dÛå|¼¾@\u000f~Ô7)ì\u0015?)\u001e",
      "\u0017\u0006\u0014V\u0014~2ùà\u0014))MS\u001d",
      "§.ÚQ\u0014VôË4|\u001aZãtés¦?Á±e&23sfã,«YógµÏ\u000e½s\u000euNîßæºÎ]1÷¯y©ó\u001aæÎ=¿í§ðª5eÅ·\u0017ø-Ø´\u0010_(^Ø¼È}ÑÚE_K\u0004%J]KËJ?/æ/¾ôóËî[µ¤y©×ÒËË$Ën-\u000f\\¾s",
      "Î¢\u0015m+G­¬]Å\\U²ê¯Õ\u0013V_,ó(Û´ºF±¦µ<º¼~­õÚek?¯\u0013­»Y\u0011\\±w½ÉúEëßo\u0010l¸¶1hcÍ&ÓM¥>m\u0016o¾³%|Km¥meÙVâÖÂ­Ï¶¥l;ÿ\u000b",
      "ëªíÆÛK·Ù!ÙÑº3aç*ïªª]&»V£ÕêÎÝcw_Ý\u0013²§¾Æ¹fË^½¥ûÀ>Å¾\u0017û3öß:\u0010u ñ ë`Í¯6¿®?Ä8TRÔN­í®\u0013ÕµÖ§Õ·\u001c",
      "<ÜØà×pèË\u001d",
      "G-V\u001c",
      "Ó?¶ô8õøüã}'Nôì:}ª­qBãýÓ£Oß8\u0013¦ùlÔÙ\u000b",
      "çÂÎ>Ï>âÿ",
      "£\u0017}/\u001e",
      "¾ÄºTwÙërmgÓ¡ß<;ÔìÕ\\{ÅûJýU«\n",
      "-#[_\u000b",
      "¼vêzÈõs7¸7.ß¹Ùr+ùÖÛco·Þ\u0011Üy~7ïîë{",
      "÷zïÏ~@xPòPûaÙ#G¿;ü¾·Õ«õØãÇMO\u0012Üoã·½|*ú¹}þ3ú³²\u000eóªçnÏvu^}1æEûKéËÞ®â?tþXÿÊþÕ¯\u0006ýÙÔ=º»ýµìußÅoÞîøËã¯Æ¸Gïòßõ¾/ù`ôaçGÖÇóR?uôNþLú\\þÅáKÃ×¨¯\u000fúòûú¤<\u0019¯ÿS\u0000\u0003ÍÊ\u0002àÍ\u000e\u0000èi\u00000`ßF\u001d",
      "£ê\u0005û\u0005Qõ¯ý\bü'¬ê\u0017ûÅ\u000b",
      "\u001aøý\u001e",
      "ß\u0005¿nn\u0003°o\u001bl¿ ¿\u0016ìUãè\u0000$ù\u0000ÔÝ}p¨Eåî¦â¢Á>",
      "ð¨¯ï-ìÙH+\u0001ø²¬¯¯·²¯ïËV\u0018,ì\u001d",
      "OJT=¨R°gØ\u001c",
      "÷%3?\u0013ü\u001bQõ§ßåøã\u0019(#ð\u0000?ÿ\u0005\n",
      "¯Ñ¿\u000b",
      "%\u0000\u0000\u0000eXIfMM\u0000*\u0000\u0000\u0000\b\u0000\u0005\u0001\u0012\u0000\u0003\u0000\u0000\u0000\u0001\u0000\u0001\u0000\u0000\u0001\u001a\u0000\u0005\u0000\u0000\u0000\u0001\u0000\u0000\u0000J\u0001\u001b\u0000\u0005\u0000\u0000\u0000\u0001\u0000\u0000\u0000R\u0001(\u0000\u0003\u0000\u0000\u0000\u0001\u0000\u0002\u0000\u0000i\u0000\u0004\u0000\u0000\u0000\u0001\u0000\u0000\u0000Z\u0000\u0000\u0000\u0000\u0000\u0000\u0000\u0000\u0000\u0000\u0001\u0000\u0000\u0000\u0000\u0000\u0000\u0001\u0000\u0003\u0000\u0007\u0000\u0000\u0000\u0012\u0000\u0000\u0000 \u0002\u0000\u0004\u0000\u0000\u0000\u0001\u0000\u0000\u0000k \u0003\u0000\u0004\u0000\u0000\u0000\u0001\u0000\u0000\u0000\u0000\u0000\u0000\u0000ASCII\u0000\u0000\u0000Screenshot[ü÷\u001f\u0000\u0000\u0000\tpHYs\u0000\u0000\u0016%\u0000\u0000\u0016%\u0001IR$ð\u0000\u0000\u0002×iTXtXML:com.adobe.xmp\u0000\u0000\u0000\u0000\u0000<x:xmpmeta xmlns:x=\"adobe:ns:meta/\" x:xmptk=\"XMP Core 6.0.0\">\n",
      "   <rdf:RDF xmlns:rdf=\"http://www.w3.org/1999/02/22-rdf-syntax-ns#\">\n",
      "      <rdf:Description rdf:about=\"\"\n",
      "            xmlns:exif=\"http://ns.adobe.com/exif/1.0/\"\n",
      "            xmlns:tiff=\"http://ns.adobe.com/tiff/1.0/\">\n",
      "         <exif:PixelXDimension>110</exif:PixelXDimension>\n",
      "         <exif:UserComment>Screenshot</exif:UserComment>\n",
      "         <exif:PixelYDimension>156</exif:PixelYDimension>\n",
      "         <tiff:ResolutionUnit>2</tiff:ResolutionUnit>\n",
      "         <tiff:YResolution>144</tiff:YResolution>\n",
      "         <tiff:XResolution>144</tiff:XResolution>\n",
      "         <tiff:Orientation>1</tiff:Orientation>\n",
      "      </rdf:Description>\n",
      "   </rdf:RDF>\n",
      "</x:xmpmeta>\n",
      "ËvÇ;\u0000\u0000@\u0000IDATx\u0001|\u0005VÅþ÷çÙ\"véî]ºQÊ\u000e\u0010õ\u001a¨x¯bwëµ[P1¯Ý \"b\\»EDÁ@QB\u0010iX\u0016ní÷óýÍ9Ï®^ÿïÀ³çé_KOO÷\tð\n",
      "dñËôTâ]Âù\f",
      "ß¥s¶½;â8çëÂp}ë×³W\u000fó¿äÒ}yE¡÷Õ¥¾ººØ{_êßyç­d¼8~Ëæ­ýø\u0007î÷6ä\u0011§ÜWVðôþ",
      "\u0017³¸»t¶2×¯_kþÞWù;wøC\u000f=ÔÊiÕºOÔ*_ù¦§¥úÖ­[[ºeK",
      "tÕÕ¾²²Ê_qå\u0015o§N\u001d",
      "íH¶dw¢m¤ôÊ+Ô·Êø*ÒìÙ³Û\u001f>üP\u000b",
      "kÔ¨¡åÙ°Qcß¹sgß¶M(ö+¸_Úwhïs²³}½zu,^J¾$¼iÓÆö\u001c",
      "~Ä¡~ïÞ½¾\u001aVWUûââb¿eÓ&¿`Áoþ?ö\u000f>ô?õÔS¢>òµ¶&|ZzFº«¬¬t",
      "{'»ÔTG",
      "]Ã\u0006Y®n½º.7o­;øÀ\u0003Ý¹çáú÷\u001bà4iâ\u0018LW\\TêÖåç»3¿s>ò¸K$RÜ/¾än½å&×¡c«®*&/çN9åD·jõR·sûnî2êd¸\u0016-ºfÍ[k>¸Ê2Vß-úc»ì²+\\§ÜÜ5n@¿~®nÝúÄ RT¬´´Ø­\\±r\u0012®¢¢Âº×àRUå-o&+,¦-®ÚùjçR¨CfýúV?:Îâ'RH¨°TbIJZªù§gd¸\u0014Ò§(A\n",
      "++/s\u001d",
      ";tpùùë]aA\u0001ñ¼;rÄp·ï>\u001c",
      "\u0003ç2êÖq%%%nýúõnö/?¹Ù³ç¨Æ®UËVô¡wÛ¶oµ|\\\"Õ¥\u001fcäª|µIyÕ­WÏú¹E«®ÿ\u0001näÈ\u0013\\Ii{ôÑG­Ì\u0015+»ß\u0017.tO>ñ¤sõ\u001bdú\u000435ÅêÁæÍ\u0006?ªüæ¯ú=\tZ-\u0015<ËÂ»¯ÐÜàWä\u0017/ï/ºðBòHøG\u001e",
      "\u0019o%AÌjfPV\u001aéøY|f®'¼ªR+¯\u0010ÿj¿jÅbß©c\u001b[-²;Ú³Oß>~ÇöíQ\u001aï7oÝè{÷êm3®yæêIg3:zïÐ¡ù-ü}a²¨ªÊ\n",
      "Õ\u0015«ÿ|vv6+@éÂÊÊÉÉ6ÿWmey_QYNÝ«}AÁ\u001e",
      "VÖá\u0016·W¯öT¿¼ðü\u000b",
      "~ñÅ\u0017XË­\u0010KÁ\u001b+s÷î~áÂ\u0005þ¡\u001e",
      "\f",
      "i(+Õ¬:6oÞÌÊ=úè\u0011¾¢¢\\\t¬mjUe%~ê¯\n",
      "VvUh3C!awØ¼y³wõëgFKN\n",
      "Høºuêúzu2¬\u0011³fÍ$\u0005\u0019Ó¹loUU{y/Mþ*Ê5\u0010ZÒå¾¨x¿óÎÛ-^|Þï-Üaé´",
      ")½gõTgP=Þ+|IÉ\u000e?í«Ï¢òoÓ¶­OOM÷éé¡ü\n",
      "ëó\u0017\\Qá\u001e",
      "ÂÈã¬ámÛ¶KÖY¯¨[·®oÐ-ïukãíéPTèO:q¤Åi×®­=ÕñêÀ\u001c",
      "¶[_d",
      "¨û¨/+-ó#F\f",
      "³¼\u0014÷¦\u001bnð¬Pè¯:U[l\u0015¿\n",
      ":»¥m.\u0001ú»?þ¸c­\u001d",
      ";vôiiiVVï>½üÔ¯¦úÜÕ«\u0018ÜÝ6PÑ¨¨èðÊK\u0015ù±7\u0013íRÎÕ¯W\f",
      "m425-Åw`ÏU\u0003¾ýökK©\u0001ª¬Ð*¨\"³\u0012_°{\u000b",
      "3~£/-ÕìR\u0005÷úòò\u0014Ræ¶ùÓO?ÝÒ\u001f{Ü1~òäWü¯¿üäW®^ìóòVú5kû«\u0016ù¹ó~òo¿õªÿç)£,®ÊoÕªerÐâ³å·ßæ?%Ó!r\u000f<øur.]B:ê©ºê×±C8Î>ë,_^ª\t\u0015Üúüõ¯\u0006§qãF¡\f",
      "í$|·g%*íÓÏ<mgâúõëüÆ\u001bü²eKü#\u000e·°ç{6êP¦\u0006\u000e]èÂð7ô4SPá¶:¼åùÏO¶2ã³N\u001fOýö\u001fâ¯»î\u001aÿ\u0002û«©_øß\u0017-ðZAeeª¿òJ`°´\u0002]½ú\f",
      "\u0016\u0015Ö`ådw²÷ûï¿Ú\u00121E¼Wø%Kæû[o½É\u001f~Ø!~èÁþ3Fû\u000fÞw\u0011^B%w[¼",
      "\u000b",
      "çX\u001e",
      "!ÏÎ¬ù\u000e+AßúuïÞÍ\u000b",
      "`Èd",
      "s¶_çÎ]¬3ßzû-«nÜA\u001a<¥éÓ§\u000f\u001d",
      "ÝÞ×§îõêÕõíY1\u0003÷\u001d",
      "ha_MJ=¢Nã9ã»æßµkWË3\u0006¬>ê8òSúªGs­Lçëe¤YÜ±cÇFÝÅ@1Ãc·{÷.¿hÑï~æÌ\u0019~úô¯ýÏ³fùÕ¬\u0014ÛÞ¤µAã}un®åY·n=îS\u0012©¬è\u001c",
      "¡\u0000¨¨¼ø§\tÔ¥s\u0007ùeùg~ÊôÑ~ö/³\u0019t\u001d",
      "\u0007ZYt­ªÔTßªe\u000b",
      "K¸|ùï\u0004iëcÛ«.÷ß}÷u2ÃqMßsÏT¬øET3çu×]mñ\u0007ì3ÀwìØÉ7kÒØ§×IõumïîÙ³\u001f:tï\u0002Ô§\n",
      "ÆÕö×¶];\u0006³\tÿÓO;­2@Ú\n",
      "4Ï^xáyÂBù4j[fø¾ï¾{\\ÚrCi/¸ñÆ\u001b-¯vÑ\u0011\u0015?SS\u0002´\u0016×­eñ»vÉñÛ·nUF¡ã)\\[êk¯½ê\u0007\u000eÜÇâÄiâúþ9¶:B\u00054À¡.^}ÙV&LM\u001aGÔ·Ò­k7û\f",
      "Ø÷Oáç5ÆOýâs¿cv®h°Aó\u0016Í,âù\u0017ïËËvSGOe~ÃÜdj\u0015´nÙÒ·à×¾}{?h`Èü/>\"®\u000eI\n",
      "núå'ä°ÁÐ3+3\u0015P4í|\u001e",
      "®°Â;´ïà[¶\u0002ì¦\u001e",
      "µ\u0007Oßßÿð½µ=©ÕU\u0015þO?ò'tb²aÇ\u001d",
      "{çí·Ù9\u0017iTy\u000epï\u0017.ÐJL°EíÎ\u0000h5ÕtZÂêÖ¢esß¨Q#ß«gOË÷7^·r+9øåö\u0000tsÎÙÉú\téÔ©\u0013¿l{¶§\n",
      "qsýÕÊw5¹«-,+«oÐ0+\tàÔc¡(½¥êÕ\u001fÀjâ\u0017ýªU+­\\ûÃ±mP+K",
      "tí\u001a\u000eÛ_yp µª=´·Ü¿ÉÙ¢pu²V ~q¥âóíÜsÇ°\u001d",
      "î!VA9\u0005ýaq7mâU!Åo\u000b",
      "ð\u0010Ò%ü\u0018ÎO?ýØ/[¾ØoÚ´Áoß¶ÕoÛºC<\u001fÈr-­*Å?âal\u0003Ì,jc\u001d",
      "Ç È\u0015\u0017\u0015q¾lô\u001b7¬ç¬ÔÄ\n",
      ".Þvqxpü±G«V­xÆõæ\u0019Av~PFÜ\u001e",
      "=[Û¤IÐ\u0015\u001aïäêxæ§¬í\u0006\u000e\u0002\u0000\n",
      "ÀBítz×@\u000b",
      ":\u001fyü1¾¸Dç¼\u0019»C±\u001d",
      "\u001b!ÿ6ôI=ú»«oÄ\u0013çqÆèÑþóÏ?÷Û\f",
      "\u0002¶¤V¾&i¨Y:+@«FÏéß|IL\u001d",
      "\u0005\f",
      "X\u0001Ðµæß±c\u0000<âÌÕÐ,Ò¦°}ÊoÃUN`û¶íë}¶@ù7iÒ(\t´\u001c",
      "~øaþKV\u0013¹¨ßk^\u001e",
      "À%Eþõ×_·|Ýµ×H4ºâ\u0019kD´ý\t|V\u0016»Aj/½ì\u0012+?\u0006Võ¦N5ïñ\u0000âG{\u001a2ó\u00156ìðC=8U2{¡\u00109 \u0014ii\u0019¾\u000eP§\u0006\u0004\\Í§¸0\u0019|p3KÛQ6áË/µôêäÆÞs·",
      "çä\u0010¬CÂß}÷]~î¯s|i\u0019\u0013=j¿Ò¨,(sZU;wí\f",
      "g\u0012wbIk\u000b",
      "3g6\u0011t\u0016]oó'\u001c",
      "½Ñ¨F",
      "¥@íhÛ.l_K.Òù½\u0005ÛýQG°JõèÑÝ'pß²u\u0015®s°¢R\u0010Ï_]Xîá0\u000f50ñEKÖYg\u0002ä\u000ePª¨\u001d",
      "Q\u0006á«|\u0017,ç;þ8K#Ú\u0016ãUá½ö`",
      "A;¯utf_táy¾-U¤V,[nù4n¤¢\u001e",
      "@B<ÈZ¥!¿¸\u0018\u001d",
      "Ã\u0000ÈÅçÖ#<ly\bßê×¯¯H»rss-Nü§\u0012ü+Ä\u000fåjÐV¯^é§¼þ?pÿ¡>-ô{Â1+m\u0014RÓÒ©;ÃáRE8Z\u0000¶mN~8üTCý¥!<?ç?~z\u0017iÀ\u001b¶Î+\u0003\u001b÷#ÞëZ¶èà*Ê]ZF]î¶oÛâ6mÞè\n",
      "\u000b",
      "K-/]×­k\u000f\u0006U¥\n",
      "ÊFª\u001buÒÉîùç_p¯¿þýÆ\u001bë\u001d",
      "~¸kß¡\u001d",
      "ÀQÕ»¨¨Èå­ÍsÓ¦~é\u001e",
      "¢*±¢\u001c",
      "A=T#ÕMU£T!þ«öþR°",
      "¥eÔ!<P5\u0014±ÚÆ \u0011@jµ?úÀ\u0013Çr\u0013ÕÃÈ&d\u001e",
      "Ò«|È (ÛgîÕ×&¹ömÛ\u0000B++«¡$\\è{ç G9k\u00074èþó\u001f¨CPT9.ÍêN\u0002XkeY¶ÎË SÛµkgß\"1Õ¸ÐH\u0010=W^\té\u0007W·N={*¿ò²J·{÷^ÕÍ­]»Þ=õÔc®{·~®²ªÐ¥Ó\u0011åeÅnÊoºÛo»ÃmÞ¼ÍÒÅÞ2Ùqæ\u0018ú-tl³fÍÜÉ£F¹ùós½zörwÝu·EU'÷èÙÝíÙ»ÓmÚ°/ùxÇaÍ\u0004+§ÜuôòPôxPìhòW;í¯½YØæ\u001b\u001d",
      "³É\u0012ÚÔ´q\u0013×¸qÒ@Çª½a2*W¯ÅE\u001e",
      ",@êâK\u0015ìÚ@K0èååån\u001d",
      "d;\u0005ÔÖ²y3\u000b",
      "cëfÒlRÊ\u0003\"ûá\u001fÜ$\u0006ó«¯¾¶8mZ·q\n",
      "\u001a6p«rW¸$5dè`UÛüñ»¶*+\u001c",
      "Tá|êqóïmO;ÕZ~ÍCö!Í\u0007\u001d",
      "ä÷ìÞL:Q)ÊAÙ6\boÚ´\u0011{»óûì³ÿþûoY:SÊüøñ÷ÚVZ\u0007J¶_\u001d",
      "¶ýú÷÷í\u0001óßf\u000e9;x¾>å5/ÒâwéÚÅCS\u000b",
      "õ!~fM}7üÚ\u0003m2dæ¯r×ÿõã%ÃÙÚÁÉD\u0004gðÆ¨\u000eaKz\u0004\u0012â\u000e\u001a4È :hªvN¥rf×©[ÇÐÁ\u0007[ùÏ>óLH\u001báf7o\u0002",
      "\tgþ©\u0000N{,c'\bö÷ß\u0007á\u001f_«®\tß¹KWßÁÒ@doÜÐÈV®i¦¾wï^VÈõ7\\ï-ý\u001d",
      "½\u00124SÍ\u0019öeÒ@?\u0006Àö\u0003;`Uñ}\f",
      "HøG\u001f~¸Úo\u0003\u0004ôÃ÷ßX\u001a\u0019\n",
      "EÍT§1xï¾ó6\u0010\u000f`=ïC÷\u001b\u0002nÑ\u000b",
      "ÊEÀíjwÞïÐ×ä´Ë½÷Î;GvN=µ`\u0004\u0006kÿoÒ´Ï¬\u0007ÄÊÏ\u000e+Óæ|4`2´\u0014B}B\u0010Î.déãsn\u001a$!µ?@b\u001aqêiPÃ­\f",
      "\u0007BåY=I#.ÿúëÿí\u000b",
      "\u000b",
      "!ÃáDR\u001e",
      "ï¾Ký£ò\u0007\n",
      "\u001c",
      "l(ÆÞÂ\u0002?mÚWþâ/\f",
      "yo}P\u001c",
      "Qg\u0002D\u001aê+2ZL¹B\u001e",
      "F|üx\u0011`Ë9Ä\u0017\u0000N¯åb !\tÑ½ñÆë­0un÷n]}·î]¼\bqc×­[®ªÑ¹¢vTúG\u001f} jx¶uP£Æ}Ë\u001025hü2ê×I¾«\u0011û\n",
      "ÙÏ5æLÇwø§ÁÜ7o^oå\u0007@ÃÃfyÛÊÏÉ\tùi°â²íù×ï¨\u001c",
      "",
      "ÅeþïµÓ2\u0019[µìEº\u0013 '\n",
      "=\u0013U®\u0010ôÍ)o\u0000tô§ò[·ií/¾äbÿÕW_\u00117L°\u0018°(\u001d",
      "2vì=þ{îò0©_yy¢4i?ðýC\u001e",
      "¯Ý\"V¶\n",
      "j´(\u0002º\u0000\u0018èçÎ+Ú`}ÿÖÛoBí-µ\n",
      "Íøv*³ÿS{//*\u0001áv×îþºk\u0001á­a5¸Öþûí\u0007y.qî*´´«ØÂÖ&ã\u0019ñ2J#j",
      "u\u0018ß\n",
      "3ø{ÇÝÍÌúÔ¯\\¹Øoß±Ép\u0011¥\u000fí\u0012*}UH^\u001e",
      ":â\u001b6§³V\u0016`2\u001c",
      "\u0002\n",
      "q\u000b",
      "j¯ø=*SåÅu¶w\n",
      "",
      "i°Ya\n",
      "ÿËSma/¾ø_{",
      "É£¤¸Äçç¯3ð|åÊ~\u000b",
      "ô<\u0011\\cÊ\u0003vËqVÙN\u0012Ó6C>%þ \u0003÷³rû\u0000\u000b",
      "zÌj\u0005!º\u001e",
      "´ËÆ¾i&s_ÓhA$ü¤×^±üÒ^~e¢;ý´Ñ@UEÔ½ËjÐÈýóÔ£]þÚ¢Ès¨\u0016¸Æ¹\u001f¹Ï9û\f",
      "·6o\n",
      "q«í\u0000íÛ··kØ°\t¼¤\bñnÊ\u001bo[\u0017dgwty\u001c",
      "ªi\u001c",
      "º-áí¬Î]ãN=åtwÚi'»\u0003\u000f\u001aâZ·nAy\u0004¸è\u0004Ly\u0007²ÂO=Fç\u0019«Ìé/}\u0002\u001c",
      "§}ðG\u0000",
      "xU6\f",
      "\u0002Ãø\u001fÀ\"øS\u0002ªÉÕxX!qÅR\u001e",
      "zÈë ø\u001bo«¼¢\u0014ÞRwÉ%[\u001f\u0019s6@@¯¶Ï×\u000e@Fu\u000b",
      "NÜ3ÕOZ|ÒÈ·Ú=öÄã®do;öÔ¹ø©\u0000?Õ®;Ò¬\u0001ð(s ôðù2ð/\u0002(Û\u001d",
      "²SÆ4mw\u0001@\u001a/Ë,\u000fþ3f|K}«\u0005\n",
      "°páoê\u0001ÿà\u000f2³áa±½\u0001n\u0013\u0007¤Íð/Í\u001a~Æ*cE)]X~ú¡¥íØ±C$& ¸CâË\u0013`=Õ'ê}LÎR^U\u0005\u0005»8ÔóYi+¡Á",
      "ºTUw\u0006ñúdË·Wï\u0000\u0017]9|»øÎ99¾Sv\u0007ð¼¶¿ZØLl\u0000¹¨n½Lfi}_\u0007VOz:ÀBJjr+¤\u000f,\u001fF1zj¥Õ¼.ªÓ°!]Vâ\u001d",
      "wÜî×­pDêcN\u0015û\u001bW\f",
      "-sÞ¼¹~Ô¨\u0013)#áï¼ë\u000eU\tO+«\u0004d¿ÿ¾\u0003åÿ¹Lv\u000b",
      "\u0000\u000e:øîà§C\f",
      "ò\u0007\u001d",
      "´¿\u0005¡X.%Jühfë-LE8¾·¸:uÒÜ",
      "\u0017]à²2\u001b\u0011RÉì\u0000lef\tÒ,I°\u001aÒRë\u0003Î¸\u000f?xßzÚ¦-\u0000Ç7Ù,ÌÉÎvkÖ®u¯OäÆu¶å\u0001ÓUH·%ÒÝªU«Ü¼y\u000b",
      "Ü%ËÜ¯sf»Upµ\u0002çÍãö\u001d",
      "8ØòÐ¨¬\bèÄRâÙrQÿª¹ë¢i\u0019±jâ¨ZÇM\u001a5tu²\u001aÐ¶\f",
      "·\u000eînEy\u00058Q;òa®QÃF®~V&G\u0003¿úuÝÌïg«­s÷ßw¿»ß£>ì\u000e<à`×¾c{Q~\f",
      "äfÖ9\u0006Èò©\u0002\u00143wáHC\u0006\u000fq\u001e",
      "rëÕ§Õ\u0004>1Oz\u0015úÒóÏÛ*õï22ê_*8%¢\tc¦ï¥ïjÖ©WßÕ\u001bm®`¯ènbp",
      "///ñ»8CöìÙf¿·Þâ?ùä\u0003;W*$_¡UÁJªñ¸mÇFÿãßú\u000b",
      ".<×fJ\u001b\u000eg±Á\u001d",
      " ôR¿ìÒ\u0000<4&kQ\n",
      "¹iæÿX¸âÐ\u0006K#â°fã\u001fâôâ*+ÃaýÊ+ñðÃ\u000fûß~ç",
      "Pú\u001b³wáïsü¥üËüj\bk×äúµëÖú|Výòóý\u00066m4>ÑÖ-[ ¤o1Z£\u0018°ç­\u000eý¡(lØ°]¢\u0002ªM\tm\u0013d[áo¾ùæ\u0010Þ\u001fHX34L\u0011{î\u000fh\u0004é\n",
      "\u001fæÓë¥ßâ?~·À*\\yñ¨3êãø\\¶Xÿ'N\u0012",
      "2\tì-­Nz]êÀ¨ó_ò\u000e°)\\ã¦ÍyÓ\u001e",
      "[ÇU\bpÂÉîàC\u000eqöíÏùÓ\u0015æ\u001c",
      "\u001d",
      "à¾ù³#J<ç8üñÛìAK)\u001af¹|fîYgÁ9Ps­óDs;Ã}òñ\u0017îÊ«®w@ÀJ6!«Q#7î|\u0007Ðâ:æt¢|ª\bçX5\u0018¾\n",
      "éÕ³\u0007\u0014}\tQ8\u000fUÀ(\n",
      "5«'\n",
      "Q ¿ð\u0015¿ÅO%",
      "=áêôË¥pâ@F2\u0004\u0015\tõä$=´?\u000b",
      "ßµk·kÔ(Ë5kÚ¶W»í;w¹_æÌµ\u0012\u0014¡%»ÉÖmî¢K/u\u001fø¡kÞ¼%íe\u0017\"#å%ÄØjH;U\u001a¢\u00066;5áÔV!y«D¨¬Q\u001e",
      ")Egª\u001c",
      "äãè\u000eZö9\u000b",
      "°\u0011a2é@û\u0011ÌZ¿¿º.];»½{\n",
      "]^n\u001e",
      "Ùz·nÝz¢Ôt\u000b",
      "LBÖ\u0016\u000fÿ\u0012Ê»ÚíÚ]hQ´ÕlÞR\bæ¾!J#²Ô®AV#\u0004n+`â3êÒ©dYTTL¼Q\u0004\u0012@Ià8ÇF+¢U?g\tã¶hÝZÙ J\u00032¥\u000fmÕ\\¨¬¦Pù\b¸I%¸í#nÏ\u0002û\u0011l\n",
      "¸\t<ÕwÎmÝ¶ÝuíÒÅýôãOîÚk®u/¼ð\u0012Z",
      "Ù\u001fëÐ\u0007V¾HzQ\u0017iJ¨\\ûÏ û&$&HQa¡K«Dº¨\u000e\u0012NgTIÑ\bÁ+ TÒI\u0014\u0010&;~äq\u0006-í`V­\\¹\\ ?¾Û­^k+I\u0003ÕºmKwÖ\u0019c\u001c",
      "\b+éR AÕTÉL¡#lv¨Þ\u001auûjê(÷\u0001³P®U³ÖîÄ\u001e",
      "ç.<ÿ<7d¿\u0003\n",
      "BÓ\"4z#éZ´lm\u0003\u0001WØâ#\"ÇS¿dÿôf\u0001µþ¾Ò\u0014¯ñ¬W¿\u000eÁÊÅ\tbMhyF#e  ¢\"",
      "ÄÐ½Í\u0006Ð!ú\u0000ßir¦OI¿jõj\u0007SÕ½ñæÛ®\u000b",
      "»ÌåW\\å\u0000á!¯¥¹V­Ú0amW[øû\u0002\u0006~¯Í)ÆD\u0002¶sOä¬ð^DW©+..4ÒÝÜy¿º´Y³f»£:\u001c",
      "fÒÚ¼uîÖÛo\u0017eÃ­X¾Ò{Î\u0018Fu+a&Öç@\u0004*¢Rý©¢7V\f",
      "(nÝÚ|wÆè³Ü\u0003\u000fÞg3O øÎ\u001d",
      "ÛL|\u000b",
      "j5\u0003¦å\f",
      "HKe·hå&O~ÑÝ¹êfÄÕ\u0018V­\\\u000b",
      "¶ÔÔ:6Ih½um\u001d",
      "bDX8·téR\u000e÷\u000e¶**+K¡5Ò¡\u0015t\u0019*Â¯\u001a©\u0003_¢tå\u0000%{vï¡c«\u0012ýb«ÍÌ$'6\u001e",
      "â#\u0014c\u001d",
      "¬¬7nÙ8Ý#\u0000\u001d",
      "uébò­°Áøá\u001fm6l\u0001`³¡Ñ\u0000Ú¨Ç\u0003H~ì\u0002\u0012s[¶l¹ÑRÇÝ7ÞÝwÿxÛn¿ífÞ\u001f´´+\"èÞtó\n",
      "nú´ï¬Ê7Î.ù¢a\u001e",
      "X°¶fM4£+>³Iá wî¿oÿ7J@¾¯©;mô)®~fcB+]\u001e",
      "Ý ÀÞìî\u001fÿ øW#·· ¾\n",
      ";h`:¼.³²AÐl[å/[æÎ:û\\\n",
      "+¶#Z]¯U+¨\u000b",
      "¡JæGzf«m\t)QgÐÁZY)L~\n",
      "*wËm·¹[n½­¦m¤L60~\u001aÚ·wo\u0007EÄä E\u0001/",
      "@=zôq¬d²ôô4·mË\u000e7~ü\u0003Ê,éB6ÞÒ\u001d",
      ",\u000fþQÞDÖü±'¡\u0000:{7lÜÀÕ\u001c",
      "È.Ý â´\u0014mÓÄb\u001bVû`+¹®{¸¯\u00133Ý\u0000p9­\u001e",
      "ä2,íÖÊC»&h~ÕJ//",
      "0½\u000e5Ô:\u0014ªºhûëí\u001a°ï¾óî;îÆ\u001b¯s\u0007ïo3:­í\u001fÿ\u0018aÁö©\u0002ÿ¶G÷\u001e",
      "Jj\u001d",
      "Ï¦\u000fRëÎ>çBwàû¹.]{\u0012\u0002E£Û1\u0010\u0017",
      "Q}\u001d",
      "¾)üÒhÜ\u0006\u0013\u0014\u001d",
      "<d;îØãé(â¿±\u001b( wÏÞ¶µØÖ¬sÉJå/aZáò\u00017rfÜ)§æN;}4>ÁiFúÉÇîÓ/¦¹nlS[·nã¼ÜÌOÝir»6íèHmq¡¢\u0015ºcÇ\u000eÊc B\u0001\u001a\u0011¶47\u0001ÿíL%k¥\u0016è6o\u0002]¡N4\u0006Án\f",
      "@Ò\böÏ&\u0007\u0004G,ÕN\u0003¢Ã¦ÊV*»4[·Â1øÿ¡\"´-íZ\u0014ú4Û­=:p9»!êxñ7(Óé_Ë`í\u0017ñhª\\¿þ}Ü\u0001\u0007\f",
      "u?ÿ<í²m-[4ÇÔÁr\u0012«\u0000Æ;l\u0005ö}È¡ÇCöÆ\u001d",
      "°ÿ pð&2\u0002®EI\u0015\u0015%nCÞ\n",
      "÷ÍïÜE\u0017^f\u001d",
      "®òÿûÎ[î°Ã\u000f\u0005÷iìJ\u0005X0íTá­t°&x@e%å¬¾2Kc\u0005ñ\u0007ÄØê f¨?#¡U°[¿a\u0003ÀÐn7Áol»-B§i \u0018\u0004@wK\u0017O\u0001=cg+ò\u001b4h@ù[Ü\u0016~Á",
      ")¢¸Úb\u0019¬Ý@{øÅéï¼ónVO\u0019å\u0017³eWÀ«Úã^{}%×ÓXµjÓÊÕc!@vM`ÉÔÏlÀÄhIhµ{\u000b",
      "ªñ÷ìðÄKc®\u0002´\u0000õT\u0003wîØe>·s}îY\u000b",
      "·£\u0003YÍÝ\u0005\u0017Ç`ýjd»ö¸þë®Y3Î&UXê;wlu\u001fü\u0011«£\u000e3h­;úèî°C\u000fq\u001c",
      "ràu9ÿ¶oßÉ*øÍMðrh\u001c",
      "\u001d",
      "×µKg\u000eÔ\u0002wÚ©£9¨»ºìÎÙnú7Ó©s+VÀÓù\u001f§¡\n",
      "]Ó¶M\u000b",
      "×¶m\u00077wÞ|;l;¡\u001d",
      "rél",
      "\u0003\u0006\f",
      "\u0000µhC¹[Ýß»\u000e00óó7ØêÐ9'Y\u001d",
      "\u001e",
      "úA©ÂjÕy«²\u0007êk¯11gñ¶´\u001b4Èª\u000fR¿Ø\u001bw¯\u0012¸/¾Øý¾Ð!àBH0H\u0012¢ÝÃË«ËoìØ{íè\u0010Ò«eF\u001d",
      "uP\u0011ÞY¼§°mÖÏ¬Ë¶ºÕ½ÿîÇ®¨\u0004rà\u001f~H^b\u0005²W¬X¦º\u0004êÚµ[á\f",
      "\u0010ºJ#ØV@ÄüÝâõë×Ç/¿ü¢!n\u0015\u0015âiUûù¿ýhþ\"7eff!Ôcßê\u000eå¯\u001f}£m\u001a¾W\u0013bOI|Zå\u000f\u0019:ÈùÙ§°n\u0002â|Þ5«àå\u001a13ÂoÞ¸ÉoÙ²ÙoÛ¶\u001d",
      "±-ývø={EÚ\u0012v\u00190LIÐî",
      "u!åí[·ù3Çaå\u0003rGuù3Òkã¤±êØ¥sQùnæ\f",
      "òü³ûù§ÀF¢çýóÏ?ûçÀZ_¡&xð|·ðèË\u001e",
      "qH|å~ã¦µ¾y}q\u0002PL\u0010\u0018ª\u0019¤ú<ìiêÒÒ\u00123Î½÷þûî\u001fÇ\f",
      "\u0003ÌÏ°ÕCç»+®¸Ô=ûì\u000b",
      "¶¥÷kk\t\f",
      "ZªvKþ\bÄG!ÙElA¹¹",
      "¶¬3³@>uÖC\f",
      "@Wm+;A\tìp¥\u0012M5uÿX\f",
      "2~{ù\u0017]ó¦­mT©9&ª©Pûð7\u0004òW\u0011å\u0015¡¶ú\u0014´\u0016 Aï\u0010zqÿyä?î7HCKàºuëÊöTh\u0013JlÑÚJË\"Îyµð42*gE©|ö*D^¨>*\f",
      "ç\n",
      "ÊÔ[%d,A\t\u001aíÕ# Fª¸Àx«^ME ÅÖÆÇ*£\u0010I\\{ú(#\u0013Ð\"Ò\u0012t®\u0016¾m\u0001J@<9\u001d",
      "°¢`¯\u0007a<Ã\u0014öÙn¸ój\u0010û'ìùôzîÇØ`y0ñ\u001d",
      "Û\n",
      "(0\u001d",
      "à\u0001Pv.Ô\b9ÈXV\u0001½oÙº?zû;'&P[\u00016;9Üï¸ó\u0016×\u001c",
      "\u001c",
      "¬ª²Ü¶\u001c",
      "mUÚÚ´ek`!{ZüÐp¥UÇÐ`ë\f",
      "uNøg¥)zÆ3¯\u001d",
      "RÀî©S]vv\u000exãª\n",
      "Y\u0010µmûvàhÒä®&O2à¿èv|ÐQG2=¢(\u0013m}riöTfrø%ËçÓ¼c\u000f\u0005",
      "!µ¨üI±~HBR\\F=!Ñ©A²J+\u0017å_©=U§Ï\u0000!&Üôé3\u0019¬}l×¬E2Õ:é8H1\u0002í\u0005\u0015¦r&lAØã3\u000b",
      "+*\u0014ò\u0018¹äKì\u0011*_ÕC¬\u0018(r­;îøãþ\u0004]V\u0002¾«\u0003ÂÞ®8\u0002õk;¥»ÅÞð\n",
      "Rè¡ðW³6 ¼FØ#­AV1w7Üp­\u001b6ì(\u0003 ´ÑìÜ±ÝÍ7×Í÷åÛ\b5§z\u0010nåêø\u000b",
      "cÒ\u0000\u0014­ÒíÛ·[<Õc3»Ä:w¤¶#â~(2 ¡´LÙã4æL»ÐÏ\u0001\u0011.\u0005Å o\u0010a©\u001a\u0015î-6¦>·-,4­+9\u001d",
      "¢ri¢Çá\u0004`´nÝ\u001ar±(wÿyôY¨ç§AYoÃl/\u0003¹mÍÁz+\u0000ù¬¤QUu9é foÈGÚh-ºV\u001d",
      "ÀòCO2£C¢\n",
      "Å©¨Pvô\u0005\u0019GnÿýºÌ,lÂ¬\u0013HýË/³ÝÊU+µ@#Ä\u0005 ©ô®èpB\u001fÊè\u0014mwÒÏêíF~&\u0007·Êuì>ùÄ\u0013&²qóf\u0013¾\u0019qÄ\u0011nà Aîç_æ\u0019OId(Å®¬*7p\\ÀÇßBBº\u000e(oCrØÝqÇàO¸b&¡:TÛø¦(í\n",
      " âÞq÷Û\u000f\u000fsª«5íÿÓ~«`ÔþZ½\u0014e -]v¦i»3GfÊÖ\u0006Wî·÷È[K\u001d",
      ";µBÉ-ÏÍÿm¡;ú¨\u000e®*ÁG)#FÒ!Ö",
      "z\u0019ÏJ\u0010á\u0015V~º\u0019td<*Ê&ñ©}Ø\u0010?ä\u0017Õ8.¿EóVxÂ¬\u0003Á\u0016¿>Ï\u001d",
      "pàAÑÀ<ÎW¹(«äË",
      "çëNg°t&)4äÃ>rsçÌuo¼ñ&+÷8ÃÉl«Gqc§3á4\u0011\bÝ\f",
      "È¯\u001byünÜ½cÝk^!¸Çí\u0005Úükùè\u0010Û\u0006½IC\u000e6\f",
      "g{jZ²¬uëX1J V½¶:=\u0018\u0004\n",
      "FãÆMa¯üjýôÑG¹C\u000f=ÌuëÒÅ!,CxºÛS°;Fé*\u0012¨Ã7máÎ\u001c",
      "=\u001a\u001a×[¦",
      "W\u0000^ð=`®2ûì/Ü\u0011Ãp\u0019¶5U9ä2\\ËV¢Ò³]Q¡jfå|xT\u001a\u000fáj5½Hb\u001b\u0014å\u0012*¨\u001c",
      "µý",
      "±Ó\u0017uÐàòãF­HñxÂJK·ò@¼»\u0001ÈÐX\u0014ß,~ØJ´Å1*üZBGT£µl\u0011½¦-\u0001oÛ¶µû\u0015\u0019\t%«Ø4P¶«0§Õ¡ª\u001c",
      "ÞÂëD÷\u00130õâsÏ¦ã\u000f<èúöíÇù\u000b",
      "¾\u0017ºÞV²\b­rÀ&\u0006d\u0014\u0014øS/Á\u0004ôÎIOì4=Âá\\Ní­Î§È_yù\u0015\u000e!Pë\u0006Ä\b»úÃ*<éÕW\u0002ðÈ\u0012\búVÞ4ÿòó× ²¼Ã=¯¤~ZÂ¯¢\u0010¿|Ù\"Ò\u0000Æ#\u0005%É]éhUVJõ§\u0010¾Wï`\n",
      "Ã­ÍP1ö®tÉ÷H?Ê¾-ÜºÈâIAþ­P\u0014xå\tþïg\u0004^ÕÚ\\?â¨\u0011V¾érÅùEÏÖÈ³wë\u0016Àk¥?ûì32Úëö\"Y\\Z\f",
      "¸ëajRGZ)8[ëwÿâ}÷ý·ðç~\u0000MX\u001ak\u000703´\u0012-ýód«\u001fGDhÏ_êQÓ¦¨½\n",
      "§/j·?ù¿\u0014\u001c",
      "X)~ÂÄ\tP\u0007é0¥¾­¨DÇzª|¶yï.ºä¢¤µÔ%%²\u001b»ÒBò?GYAÌJäû\u0002N\"A\u0012É\bV#\u000f¯bx\u0011]Ó`¡·4Û\u001a!99«`-¶¹¾A\n",
      "ÐÖh`òï;wB®\u0003²zaPÙ\u000e,-gÇÒ*Ý\u0001½kpµ(^ÓfML¸%Ö\u0012QGõB\u0019}Ò¤W=ç\u001bZ\u001fcüñ'\u001c",
      "ç»õÈñÏ¢0§Ñ\u0011\u001f/fæI\u001e",
      "ý[nJvz²CY_b,~öùg´+\f",
      "X,i%EmÓAÊ{\u001a\u0004êR®Ö\u0000\u0011ç¯þá»Fà(''Ûò\u001e",
      "Í\u001c",
      "zP\f",
      "ÐÀ¤ä\u0003g¥s`ÉÁ¾®ïÿºLm\u0017ô=R;ùÉ@´E¾\u0001\tØwß}á¶®'I1\u0019k°­R¦+G\u0003\u0004±1âtî\u001c",
      "*\"]e}Ç\n",
      "³w}G¿¸A²\u001a\u0010âÅ\u0003jr\u0016à@ýy\u0016\u00031þi\u0015i\u001f»\u0004Q°¯¿\u0006÷z5E\f",
      "¡ß\n",
      "´BäÔ\u0019r³\u000e¬ÊÏD\u0006Pâ`Ò©àà¯0)µ£¿Øj\u0019ht¯ºÒòÜ`í2BýkÚö§0\u0006¶öwNN}?ôÀ\u00035\u0003\u0015ésÃQ;÷WÿÚ¤ýCh{C>\n",
      "17ôC¢\u001fô+i{\u000b",
      "v#<SÈ2,FTìs\u000b",
      "ëÐ¾ÞgïR2S¡3f|I\u001bÊ©<ªA6`Ú\u000e\u000b",
      "ýÝwÝ\u001a¥\tl}u¤\u001a­ÁUQ¿úê\u000b",
      "¶ÒÅþÝ÷ÞF:w\\\u0010\u0016¥1\u0012h\u0007ÏPÒ©,ù!Ûa\u001d",
      "Ú9j¤üÛ¶mãxâq¿\u00045¡@9¡\n",
      "ü¶lÚâ\u000fØ?|]qù¥\u0011",
      "&\u0004nß¾Í7n\u001aO¥E\tÎd).KÏ6È\u0002JJXïs¤o",
      "\u0003\f",
      "·çû\u001f¼kþÝ»w·§¶néiÀÚ\u00002Ù\u001e",
      "9PwÍò±üÁ±X`ïÀ\u001b&n`yG¢lR}ºúÆñõ\u00042\u000fß\u0010 };\u0006#Îðè£öW^q",
      "?côiÉ\u0004Ð­ì#Ø4õÁõ×_\u001c",
      "$\n",
      "d3víÊG\u001ag År^§¶XÔzÿ¡\u0007ø½Aíæ31üyçki$,i\n",
      "ä\u0002õ®ÉÔ",
      "\u0019oþ¯çÙh\u0004~úÉ'´ºc\u0017\u0014¦c¹½W\u0007\u001f¸¿Å¶¤\t^2^ÓXÊGÊØz&óÖf¿ Ø5:\u0003\u001f{ü?¤\u0006TÐÈÿ_çübi¤Ø-5Ù8\u000fË'¹°­%â­I\u001bâI4:>Nþ\\/\u0014\u0012ü)ÿú'ñ\u0012¦ýÙ\tµaMÎ»ØÄD\u0018N\u0002ñ\u001b\u001c",
      "Ë\u0012D¯Ø}5í+ûÑÑ¡`Î@XÆOâ­Ìí½áþóØ\u0013î²K/õÑ",
      "(\u0004áå¬_ïfÍ\u000f\u0005¹¥á^ª\u001c",
      "-5®±ÞG\u001c",
      "y¸I\u0006¡û\u0005ô%mjxbA!bp\u001b×®-,\u000b",
      "HUyP\u000fâ|P\u0000Q:ÂõîÓ\u0003Ð8°ÍQó¡|Q\u0014\u0000\u0018\u0015\u0017Ñd\u0013ð_\u000b",
      "CTNü¥¤£Ï6¬\u000fþÂÕbg(\u0003CYZh@\"ÖòÌ_oe\bp\u0014\u0011!+\u0013ê\u0002ïâÍ@;lØaîØ\u001c",
      "\u0003º\u0001®",
      "]\u000b",
      "P?þ\u0018YOàg³I&3n\u0005p3²Ü\u0001HJÉ1\u0001\f",
      "Ïÿò/Ý»ï½o|¾",
      "\u000b",
      "¨)Dc/¶È^äxQ5kò\\=\n",
      "a\u001f6\n",
      "µ@á\u001d",
      "PÝ",
      "é$\u0002?½±\u001a:çt\u0004³\u0016\u001e",
      "Î\u0016\u0006«+Å\tWónED¶A)ÍmÙ\u0004i©¨¸ÆÂ\u001b|¢Üò«W/Ë\n",
      "\u001b>ÜhY ÁÙÙÙðx¶ºµù¡CG~ª;\u001d",
      "\n",
      "üýº6­!i©÷ \btg\u0011\u0004<\f",
      ">Ñêrssm&N\bG`6 w\u0017E(.qwÑ|\u0018zÁ\t\tãMýÈ/~Uu-íÕSBê#*ÌÒá) ³\u0001T\n",
      "¾G\f",
      "\u001fænºéæ(rWµa£\n",
      "VcØ\u001d",
      "a°ÌÓ\u0014ÒZ·Ï>®]Û6æ)Ü\f",
      "\n",
      "}Ü¥}oÝ\n",
      "MNÙDåkRÈ\t\u001f\u000e¹\u0002F¯l,¢è!â\u00193ä$g×\u001c",
      "\u001e",
      "8«Z\n",
      "rÙ\f",
      "`!{ðÝ\u0005\u000b",
      "­\f",
      "±Åcge\u0012^\u0006Â¨<ÿX²Ô(\n",
      "u2 æVQ\t¶ã³Ï>Û½7ÝLµyR{ï\u001d",
      "$ë±¬¢>Fx¯p\u0016uê¦\u0006$eØìáB÷É§»§x\n",
      "¿\u0005\u0000\u0003+-¬Õ] rtêäV´Ô8YÓQ¾ÂÛØß¢¢C»Õ'¡\n",
      "u=zõ$:äØêR\b\u0001õÜ6èrZÉÊ¤ãEï´×òU`h\u0012\u001f\t\u0016ÈV»\\ô´\u0007¦\f",
      "ðß\u0005!ûßµw­Ö$á\u0000X?,©",
      "\u0015,\n",
      "±ðKe!§rÄ\u0011\u0016k[\f",
      "ºØ=ùøUådö\u0007Å8ècï¼ó¾¥Ûºe[\u001c",
      "'9°ÌwS\u0019Éj\u0000V»k®¾Âí³ï Ú\u0005)´¢n¼ñ&ÈC£Ñ«Ê3&f§NÙÉ<´Êµý®-wykÖ¸ï¾å^xqûeöl+GÊxbV\u0002\tÏZ­<\u0012nùÒå\u0013V",
      "ª3H4M¾¯XWO£¿3QE²Ò,'æ2D\u0012Ôþ#XùÁiûªr¿/Xdþ6É ¾Jö\u0019ÍNø(",
      "Í\u0000\"(\u001f­Sq½µµ5iÔ\u0018¢oººFcë¡%\u0016í­ÆÚÝLR\\Ê5¤SZË@j¼ª%ü\u0014\u0003\u0010:¥!føºihg\u0005%å¨÷\b'¹ôÒËMÅ²¤DÂ¡Å@H²$SþÕO\f",
      "-²ÚB¾¡T{Ç=!ÒúÝ;1[\u0013^§?ÀiòÑ\u001by\by54§ÜömÛ\f",
      "½üK¢º\u00063;\u0006\u000fô9èn\tbúÎÂd\u00060¨}°Ð-ëXà»3ÿT¿fèµiÛÎÃÇ_u\u000fý1\u0013;\u001aJhæÐªÙÁ.èN©¯²\u0001\u0000÷ýãï³úÕþs/¶D\u0014Ö>\u0012vµ>æ;;Bin0\u0000\n",
      "ä<Â¡Öä­±ø²\u0018´o²|Õ£n$8kZ$Ò^P#",
      "?-Y²\u0010M|4ç×\u0001mmô>òeróM× \n",
      "¤\u0017^%eë2¾1Áàwá·Ó_uõÅ\u0016¯M 2\u0013*W3`\u001a<\u00110vçÏ8s´ÏÍ]V«}²Q\u00144Ó¥\u001f\u001aÁÆ\u00175F\u0011çc´ä¡Æ£ù~\u001a\n",
      "ë1$\u0017Aç\trì\n",
      "¤2¤¡ÆLÏÉèåÊÉ\u000f¹Ú»ØnD'\n",
      "rYÍ SÇ^=zøqcïÁ¦T¨\u001f$4&\u00158%©^FfEnÈx\u000b",
      "Ù¢k¯¹Ú¯Zµ\u0014\u0014â\u000f´j\u0016ý¦/¾ÈÂ8£¬_4¸j»v 4¼N\u001b¤Å\u001f;Ä\u0015|NNG0©=ãW\u000f¹}ëO­¬æÖ0ç\u0011Ì\u0012f|h÷¯BRÄI¯N _¡ÿÅ[iÐ*ÄT\u0002&àcÒL\u0014N\u0000dh3}>(KóT\u0003c|A o\\ç\u000e®ór\u0016¤\u0004Qãô®Ò¯å\u0015w°bÈÊ¶­\u0016Ìñï«ÝuÏ\u001d",
      "þC\u000e\u000e\n",
      "¢®ñ,æLñ\u0010TQèkd~\"#ÉI%§:21¤|¥Èç\u0017ý(öåp·%ë\"j\u0007Z2îç~´z·iÓÊÌû©\u001c",
      "XðÉU\u001e",
      "\u001b?ëÔ©¥F\\µ\u0019Â°Õå\u001c",
      "ôÑ`",
      "X¾ú#dýÒËÀ¯è§Ød\u0005§'q\u0013¡,üme5AûQÛ`¿¾û°ÕH=SÚô=ÿò+a°æÏýÅ2\u000e2ñÒ\u001a\u0011]°8Ç§+#*ÒX¶ùT)¶#D®L\u0004B(\u0003¥_4`|+\u0014Å\n",
      "°2Æ\u0019±\t^,rÙOn¶0á¯ÔV+Êµ%ê\u0017(\u0011¼àd#puø\u0017_|ê\u001ff78ñÄ ð¦ò[E\u0006Qz÷ìnf{\u0014_.vâ/óJþÑö,Q(¦õãhP\u0012\u001e",
      "\u0005ÐNÚ\n",
      "ØÞÃ\u0000Õ¬ru²Qe¬o¿,ëhÒ^wÝµ3­\u0019\u0007/ËRÆÓ\u000e\u001c",
      "8Ð\u0000\n",
      "\u001ad¢\n",
      "ÅjlëAe°Ý\u0004âfÛ têÃ¬>/ù,}¹WeÊ\f",
      "ô\\¿ÙP@# Øæcéå¿É¶GÖ\u0003¥ÜÉ\u0010çöíÛÚ~Ý\u00113<2Õ0\u0006ÂùA\u0013l×¡-ß\u001d",
      "ÌÌ@m\u0002¬5º\\zé%¶ªgÏmçML&²JñGçÎ:Q\u00154ûC§F¡|È IHý\u0016\u0005¿(*a¦ÊÞ\u0012B DþSªZ5þ;vlf\u0012=lgÜkrÇ$²\u0001¨ð^tÑ",
      "Ôù2\u0005æò¤x(ECµ¥®t¬fvò\u001f|à!«7¼0¯%§¶ÈUW¢d8îV*\u0010y(_³»ad¢&RÑ^G\u0013*-CÕþUèS¡¬\u001e",
      ":qÌgB\u001b»Â\u000fè\u0017H1\n",
      "ë\u0002\t*ÞÖ¬³©dx\u0019\u0015ÅÏd~Éxq|\u0019Oéþ§´*3«a\u001d",
      "ùåÝ¤Ù³6­*\u0006é¯N+\u0001aNóÍÀý±\u001d",
      "¡zÈmZ\u0007\u0000Gå{î9X¹æå\n",
      "(/;0ÁWlVaÀ<òØÓXà'LxÉ÷\u001c",
      "¥øÚ\tÐ·|l ?Íx",
      "Ý",
      "\u000e4O´\u001bæK5j©÷t£-\"Eù×'O¢na·\u0000Éõ×pÖmÀBüt^ËI!üc´vÎ=ç</#/Ã\u0018A]ÏCçco {u5=\"8Ô\u0006LÝ´\u001b8\u0002\"s@(ìüþHØ®D³ñMÕ¸Îeg·\u0007ìLs«W¯!®s\u001c",
      "þ`ß²öÙti ªâpVX³ÀbHA¤Ã\u000b",
      "RÚ\u0000\u0010»\u0011\u0002Õ\u0012o%-\u000eO\u0018\u0017úµ!°Á×Ã©~\u000e~~ªÊ¿òËÝÐ¡û¹Þà@\u001d",
      ":f\u001bÈ+UÄ\u0001²öi^Ç-¿\u0007Û\u00126o1\u0001L¶}P×ì§Ä?ê\bä-víÚé>\u00105Ñê\u0001ëÖ V.Ä[<¬*S\n",
      "ª¢ÐlXÀ®åpy#2ÌvÛ­·Àe?ÇüÔwÂÑ¤òÒK\u0013\u001c",
      "\u0003k¢hì\u0014àéîãG\u0019Ed/ü@!îy\u001a2/\u0001«£f*<h$x\u000b",
      ">à\u0000àò$\u0013À0pU®\u0018i Îh\u0004jò@jÏD\u0016îN\u0006¯#q\u0003kÝÜú5¤Z¡\u00121GH­\\ütNÒDB\u0006",
      "®A\u000eCiUV¦\u0014Ü\u0010¢\u0002«W­vÏ>ó{&ñåÐ\u0011æÝ¨\u0013G!D*Éß\u001e",
      "®\u0013Â¦ªÿÌï¾³p\u0000\u0018\u0010áÖFìð0)ýI\u0016p÷=nÉÒeîEX;£J#c\u001d",
      "µ\u001d",
      "yUÑdTf\u0012ÖQÐ_üå?+#$ã)1 Ì£\u0018\u000eÅÀ¹öLh$\tWÜ@f«\u0002?MÐoc±ÝÑÖÞù6ÀS\u0010\u000b",
      "\u0010|Ö¤±¤yÜô³&½t\u0010\t¬2:\\\u0015ò\u0004¡.¬%4?Ô\t\u0012Ëi%Ì/ìZ®)bÂëó78¶\u001a¬ <\\B+0übêC8ÙÑyÔ1êÍ1V\u0013p\u001c",
      "þäÇ\f",
      "\u0010\"¨ÞQ¾±iéYîÅB6\u0019 \u0010GMm@\u0012Ó\u000f+*ªb²0Ë¯Ú\u0000e\u001e",
      "\u0014\tÊÊK]~^¾{òÉ§í§º½ùÆ\u0014I\u000fvK,11·\u001fgýh²\u0013\n",
      "Ó mÛ¶ÝD£õroeh\u001fïÕ«·Û¬z)²\u0015yk×Xù¡D\u0012\u0012\u001e",
      "OC}[",
      "¬Öò©¤^zäG\"ÏÞ\u000f}®Ý÷¤OÕhÚfQ\u0013H\u001c",
      "\u000fsÝº÷ ÌÍhY~oB¨Ò\u0001s\u0015\u0012Èà¦Hà_i%)Ê{ýúa?ÎÏ_k{'ª¡ö|óÍ×Î0õÔ~]û{êT\u000eI¦?««\u0003õ]V=\u0013ÒÇÙB8jý8TË,{\u001bÂÛ*|\u001e",
      "8WÓfálÑGñ¿?A¡ü8LhBNvg­G³<¶\t-G+*T ü¥huq+\u0001\f",
      "ÉïüóÏ÷C\u0007óM\u001c",
      "qù\u0011Jÿ$ÓÄik?ÛÃ­Ð÷Ø{ÆÖ.ÍÊ¿\u0011S­ÿøÃüKKá÷¡\u001d",
      " Ø\bxùó\u0003³\n",
      "{\u000b",
      "ýäSO\u001aG;\u000fAÖM\u001b×ûõ\u0000u,Bëÿ3\u0006b\u0007\u0015¸\u0002q\u0007(Èë¤\u001d",
      "®Ñ×#ìÌ¦\u0014`ß!DJ3;­!",
      "\u0019°Ï¾ý\b\\\u001fÝÅÌZµj",
      "ûõ¹R+<á8âf²X«Ü·_ãr×¬víÛµs\u0006\u000fEà³",
      "­ÄTfMþº\u0015nðÐÃÝ.T$ß½%¢OÚ\u0004VuÔ%<µ*\u0003ÍLêI6]H6ùPÑõ-\u000f\u0013eÓhgâóOõÚoèþnÞüù\u0006w99ÙF¼\u001e",
      "5ê$÷ôSO²r÷º{î\u001c",
      "ëéEíòòò(Ä\n",
      "­U¾^C",
      "T¾UJm'·ÌWÄ\u00109I.\n",
      "\u0012¶ö\u0010_O½\u0012_;\u0007Û¶C¥\u0001²",
      "\u0014wM\bç¯¬x#^AÎIö§z±u\u0016±2\u0006¼ÎfCEd-æ½wþ«\u001d",
      "\u0002Rqäa\u0017^p\u001e",
      "\u0018EvÒ*KL+\u0012\u0019yø\u000b",
      "Ê)\u0003½¢f\u0012öËìð\u0017²Yy¶õþ¸ã!\u001c",
      "¾\u0017\bú_IU*_ùY¾zWK#?qwõ>qÂD[P\u0002çå\u0004s\t¡Ö¿\u0018ÌÿäÉ-¯\u0006Y\n",
      "aÝ\u001fa6,ä/ú¿æê«-Ü(-V\u0016»ITÖ_ËéW\u0006ÍßwÌÔ\n",
      "\u0004\u000b",
      "ï×bÍtåÀ\u00169.é¢:ýÕ\t:<ôÐÃíËj\t¤\u0013<-Y%H;ç\u0017\u000e6DW»ÛïºÝdá\u0018º§Vå Zë£.\u0014x9­\u0002iºkå oä>ùèSs(çÅ÷ßÿ\"\u0012?­IÄÿ¾\u0003X¸\u000f:Èý8kÛï\u0003ÝÆõ«\\\u001b$4n\u0003´tûüó/Qzhà¶CÕÖdÕa­\u0002U¾ýÊ×¸ÉOTñ½Æ+\u0012oh¨ÅÖ\n",
      "§#x\u000få*¢&uuJHsì±ÇÚ9²ð÷E®7:\\²3/Pñn½í\u0016÷\u001e",
      "\u001aëaÑ\bjÄ\u001e",
      "®å÷wåGÕ\t\u0005\u0010¡\u0006T¢ºØ¢½$]",
      "E\u0005¬²ºPdY½T7@\n",
      "v\u001d",
      "Æ§Òî\"\u0011ó£:\u0012\u001b!\u0007 ìå\u001a\u0003-o",
      "8>vì=(|4³3Vê(6È",
      "×]w\u0015\u0014%6î±Ý¤O?ý@ýâsºÔ¬¬.Ñû¸±wV«\u0003Û¸po½åß\u0016wÀ¾ê\"Î\u001f\bÓL¯ôS§F$)ý#e>|9\u0002éô2\u00189æÌ3,}@ ­{jVTíÅ»Î®LÖ·Oo,b\u0007Ù\u000b",
      "Q\u001e",
      "äD¢úôãÌFîª+Í/^uÏ<ý´£vµiÝÎç­Íµð\u0018ñ2",
      "ÕG_*KS÷/å+<&\u000b",
      "Ý äª\u000f«ö7Ýtï-Ñ£O÷uR3 iÊ¾\u0015ÍâHbéË/·~ó^¶,ÃdåZnïÞ]~8;BëÖÇ\u0013K\u0012Ãà5\u001buØ¨I³9\\iMÔÓþ\u0002ÄáÔ\n",
      " =íLÌh¹tc4z;{Â|N8±",
      "I\n",
      "´\u0018FÜÒe°.¤ÈM>uê4p§ú/óo\u0006^tj>´\u0019áÂ»ÞÉÌH}°²*à=%«àaä}âFx\u0012ö\u0007\u001fq£N>Ùô",
      "3Ê\n",
      "\u001a:Ø\u0007\u000f\u0006÷Úàî¹{¬IÖ\u001c",
      ";ì7t¨",
      "cfÁòüûò\u0002¨°p\u001e",
      "éÛñG ºsË¯Ïö+\u0003\u00148uì,\u001a\tXº\u0011\u0019ÄÐ§OF\u0014ÚE[««Ê`\u001d",
      "5t\u0017_xõ}3N\u0001¦\u0018\f",
      "!S,ât®Z`ä£<­vxª\u0002~\u0011êxÅ))+\u0001©¥§)]m³\u0016¡+À\u000b",
      "4ÄÒ|ÔW\u0004¨ñl;Ýá{",
      "-N\u0019äæ®A\u0003CÌK@S\\o®´Û]I\u0011º\"\u001a§Ð\u0013á¯b!æÌ!®\u0004\f",
      "ª3¨'\n",
      "2Tàë¯¿R$dØ¹E\u0016¹Y?~gßúÓ¡]{{d\u001e",
      "=$mW­ZE9j3®÷û\n",
      "\u001d",
      "Dòf3\u0007\u0014-V\tHP¡±K¾2QE»wëf¡bÊ",
      "\u0012ìÕ¶g½I4[îö»n3.¹¶ò\u0000â'Üð#Áík¼Ä\u0013^r\u0018ë",
      "÷ûò³/\u0003÷¨a\"óª¥±S6ÚåÖ¬ÎCß\u0015\f",
      "\u0014§\u001bÔAæ/-}5dÁo\f",
      "\u000fÒÒiÞ¬9:½gØ*|",
      "YX\u0001é\u0007 \u0019\"Ä\u001d",
      "v°Ù0jÀÙe«|BÃCOXcùÃ.aÊ\u0001\u0018J1q\u0002×[ñ\u001fÝñ!·\u0011K¡ªµ\u0014ÿØ¤ÌO",
      "'\u0001\u0005jl´\u000b",
      "Èwã&4\u001f-¸³0\u0015EóV~Ýz°ôÍ?¯É­\t!§¿ÚWÂÞ\u0013ûè\u0019\u0006ROá\u00169\u001bJW`ü\u001e",
      "R\"Üã`í ¬WÄ]&?)f?õ­@C³\u0015²öWàA¹7Þt»êªkÜ\u0015]î\u0016ýþ;q¢Î³©baÖÛàQ;\u0015¸\u0005N°´\u001c",
      "ß}ï=·Yj<Ví\n",
      "\u0010äÁP\u0012Np¿ü:×@ôW'M6ÝÝ\u0010pç®»à¢óÜLÄ±åÆ9JÕe5\u0001«\u001fv",
      "iXaq\u000b",
      "CÏ\u0004¯0XM¥ÈA JØ¼yó,°}º²;æØwÐ7ó²æ!\u000b",
      "!Ô\u0004ý,&SÏ\u001e",
      "=\u0018p\u0014¼á\f",
      "Ë Ì`Í\u0004?Õ©\u0007©J",
      ";m®Vù\"ÏÅNÕ3óFæÁÕ!7(««yZöa\u0002*_õ­@rqâë@zÚeáob¡$R\n",
      "\u000fyx7|ø0«[JÎÙNÖaúôëk\tµ­\tÏ\u001fAôV¶G^Âþ¢3¤\u001a¹\u001fú´ª¤åFÿ3Ï=î.¼à\u0002ÛÆ\u0004XL87\u0007ËµmÛÑ=ùø£\u0014ý\u00043\u0004¿¹!C\u000f KÈOQ¤µ$²\u0000&jIè¼¨ýV'(Çlú\u000b",
      "ÀÂª:aÂ\u0004ä1ö$;®wß^\u0016S\n",
      "tP\u0014øjêW#AçÕ\u0006òòÑÀÉ¥&\t{7\f",
      "x©Xë¡cAíG<ÛÉ¾\u0005ÆôWG\n",
      "{)¬^åtZJ\u0010£y[¨üä¢©sM\u0003\u0016\u001c",
      "b\u000fÁ:°ÿûÎ;(\u0012.\n",
      "ÞÖ/U.;'Çh)¹kòÜ:R^\u00131T=!\\[®Q²NÃOy+{\n",
      "Ø&¶\u001d",
      "\u0019â:ûì\u000b",
      "ÀÖ\u0004-b\u0006¤³{ðqFÀT~S¦¼ÎQ\u0001$$)-\u0018ïÈ£wÝ{ôaö31fÝº\\Â«JÊv;vî´F[sjþXùÊWNõÐìÚµûiÖO¬ØòµtC\f",
      "uÇ£ã5\u0007­Ø¼Ð.È>q\u0006-Zi°\u0010]p«Í¨mÛpiòÈÆæmÈÐÁ4Ù9ÙX\u0012Øb\u0004kÙû6M\u001e",
      "ç¤d8äÂYg¯üaUÑoBÄÓF)ïh´Ï\u0018QfñÏHn\u0002ÌöÅ\u0017_XR\n",
      "&ø=ù§\u0006ë\u0005ÊBäGl¡[×'OA\u0010¦m1¢\u0000^§\f",
      "ÐÕU*^ÃJ+Æpokf§ÎË/½Î½úÊó®]\u001c",
      "ò(s§¼iÝý\u0001\u0018Þ~û-7ú¡6s2\n",
      "ØP\n",
      "¥FÈ-¶Z³2E\u0014\n",
      "*9Ý:Néj°MZ{ÏÈ?ò\u0013aWúc\n",
      "Ù\u000eO:é$\u000eâõàníL\bç¥\u0017_rã\u001f¸ß=óì³äP¼\f",
      "IH'4Á¾ Ü\u0015«ÜÄ'º¾Ô\u0015û½¶ííFßìÇ\u001ff¡9ßØ$òÐ#F\u001c",
      "éÎ;w\f",
      "ªOÙFp^´ð\u000f7mú4÷í·3ã`\u001d",
      "¥Á¢I¢`È\u0005Z\u0003/Ñ\u001f¯\t¢É&çÁ\u0001å¤®\u000b",
      "²îî¾û\u001e",
      "wî¹g³s\\5Ð²vº¾ýúè¯§¼Õ õ¡ñ°É 2jx\u000f\u001c",
      "]ÅÃxF2\u00151}\f",
      " \u0002¼ê{ÿ\u0011\u0006\u0015O±[ÜT7ëðýëYô¿(\u001aºKøY,káÑ\u0016ù&¤)©ò",
      "[Äå«nVvíò\u0015Çê\u0019ä:\u0014÷î»îBÚ7\u0018Ï¯ð-á3èQþ¯PJ¤<\u0011\u001c",
      "Û\u000e·3ü\u000e?)\u000f\u001f\u0005«oe~ÚôO)/\u0001>\b¾H\u0019Õùj\u0000\u0000@\u0000IDAT\u0012m(\u0000ç\u0011/vJ±ä",
      "V/Ùl·<h\u0016w `+WyØ_Ô\n",
      "Ñº4Â³¤½rÃõ×[úvðÊâ6Ê¤­Ê<ù5Ë²\n",
      "³·¯WÖÆÖ\u0007§¶EçÚ\u0013¤mÂ`©S\u0011µ\u00064a÷^%ãSA)1<ÑÄGÓ#\u000eûðÃ÷Lû\u001c",
      "\u000b",
      "i\u0014AJÅ»¹Áæsî2Q\u001c",
      "¨s:{\t+\"­òa\u000eZ¸Êµ\u0001Ô·\n",
      "T\"°»II\u0003®Ø\u0000Á§UR\u0011dûþ$T,\u0014rÄ\u00180Ý'ËØ¥%Û=¥É:¥Õ]Y¥üÊ(G.LÎ¬n\u001a,(¤[È¸´qþôÚÔ\u001b]Ïx°T¶)ÏoºÙÂ`-\u0005n=\u00134¾é\bÅAî×9Â:¨þÈ\u0001\n",
      ")>¸\u0005$í;·»×^\u0004îÑÝ8\u001d",
      "Î¿þú\u000b",
      "Zù× ¤6p$Ö·mQ²¤\"\u0010X\u00073å\u001a\u0013P\u0012\u0000\u0012]\u0005Û@ÑÞ\"ÎÂ]ÄcËáÐ\u001e",
      "5\n",
      "¤Þ\u0006»w=ºvq\u0007\u001d",
      "r¨AqãÆ=@\u001d",
      "\u001c",
      "ÕÜP\u001d",
      "Þ¹ksOçJ\u0002ÛQèÖb»Bå\u001c",
      "§'ol#²§!wæ\u0019gø2\u001d",
      "fJÚ\u0001i!M\u0015)\u0002xØûã³Q%Hù@*ã|Ñ\u0019ò«{å7Ü[o¿cy^síÕØã8âÈCÛ\u001aK9\u0015h9ÃëTð7ñÀ$\u001aÎõêÆ\bé\u0016@%)^9fT¾\u000eß6ÏÔ\n",
      "j¹\u001aQ®>3«x\u000b",
      "\u0012ÔýóO³8Jæ¸#ø\u0007í¦\u001c",
      "g¦\b¥Ê°Õ¹\u0004c\toÀÚÞþè°UÖ\u0012ÄE\u0006pw5p«`\u0000Z\u0001Ô!\u0014L|éÖµ³ËGx÷Î=¿Iír5\u0003òðCZ-[×»3Î\u0018ãN<i$ö¶AÉ_í~Cò\u001f~t|ò\tªÚÖ¡R\f",
      "ou\u0006vª\\M\bÑõ\u0004¾«üPñåLJ§üôGK\u0011û¼Ã>\n",
      "\f",
      "dªõd\u0006\u0012Â",
      "nãºõîµÉo¹±ãî\u0005yï\u0003/l±;ï¼\u000b",
      "+À\bcù©n3hóNÎ\u0016«H¸Ô¹9 *ï¾û®Iá²lmP\u0017,\bv\u0018Ke÷I}¤c}\u00158Í4²Ý$'\u001d",
      "Ç¢³\u0018`-\u0017`#Tñ½÷?v\u001e",
      "v8¸ Ð\u000b",
      "8\f",
      "6Cíµ\u0006pP\u0006å sº1¡\u0002±gµOBüÙ99&\t[@'ê]xROØêÍ6¡ãR\n",
      "rÚ¶c§[¼h{øáÇPÖf¥Ðc\bÍÓ\f",
      ":]»[f¦Ì\u0018\u001aÆÌHqvNc~ÝÜð\u0011ÿpdªUÈÎ#\u000b",
      "á¾gð¾Õ'ñå\u0012®5æs21*\u0019z­O>ùÔýñÇ\u001fH¶\u0002$\u0010C8\bÂ»¨O\u0006¸T\n",
      "Àp7ùË,áOô_\tä¯eË³¢^µ{õîe\u0016c¸~É¬\u0005\u0018[Fè\u0005\u0000Âü\u0005óÝI#Ï`\u0002®&®zEf \u001a\u0000P½Áo}S8Õ$³P\u0010\\\t$6£\u0002Ù )\u0012»Á³ÜA\u0007\u001d",
      "l¢\u0006hUrµG v\b\u001fä\u001e",
      "1÷\"×z þ\u0003\u0005A\u0015X\u0018\u0003\u000f\u001d",
      " Ã\u001e",
      "uÍùì\u0010²8\u0013\b¼?ü8ÃÎ\u0001\u0003ÌÐÁCÐ\büØnò\tD\\Û­Yå\u0002\u001c",
      "øqyK5gÒ¦k0>?",
      "<\u0003  }YùCU\u000fÏ\u0006M1A¾",
      "4r:Gd½Fêµ\n",
      "«2{êçÓE÷Ã\u0018~ÄpËCùýß?[6Çç\\\u0014×ÎºÚéB<©(\tXÊÉÎ¶<ß|s\n",
      "ç\u001c",
      "RûÊ9?6¢À××ú¢k÷®&<\u0003Bmq%\u001d",
      "Ö³GO\u0013ö\u0011Ë\u0006\u0012)è©nºRkêÐC\u000eñE",
      "b´J8\u0006ÀlíìR!8l\u0010Z^ÙQùRõQú;ï¼¸b±\u0005Q4yÊ\b¼²>\u001d",
      "$W½ÿ\u0019Ê¹üõ\u0013´",
      "\n",
      "Á\u0010\f",
      "7¸\n",
      "\t]Ý\t)e:qõÓ·\u0000\b]A¨ÁË_¿Â_pþ9¤£kYî\u001aùÉ§ï!?·\u001aÝ_´& µ8Ì\u0012Æ¬DâM#$`ÙÄÏ¸qc\u0002:<YG&®]§!E¸.\u0002XøuA\u001fª\u000b",
      "\"ÏöìÌ\u0013©]{G§§:FÂ j£\u0004PU×E\u0016Zû\u0003%¾ÚÏün*.\b1\bi\"\\\u0013\u0000­¨oâ>Rùñ;x½w²¾Mýü\u0011hxy\u0000høG\u001f\u0006îFî\n",
      "\\ê6(\u000b",
      "*¯åÜ3¦ö'·Á\u001d",
      ";\u0003Rüê«¯²mu4­4öåõëÖ\u0012ß¹{ï\u001bën»íFöÞzP¨÷&GJ¢>!2Æ\u0001A©È\\¤`Z64\u0000fjß®{òéGÙú\u0013nâÄI('´\u0001\u0017Údy0ò\u0014aN¿5ØõíÕ×uéÖ\u0015À¢­=H7\t\u0011Ê\u001f\u00012lGìõÚzzöêe¿#wW_s%Æ¼6²}­@2é\u000b",
      "÷ÊË/[\"4\u0010\n",
      "ysøßg­=×zuë",
      "7Ùám\u000f±W¡T\u001bW`ÐfjêÝ^8Êr¥\u001c",
      "\u0013Z³\t\u000eçªxNú\u0001í±Õ&ì,^\u001c",
      "2®\u0011xÝèÓÏ@\u0017­Àp\u000fbÕ4EÆ·\u0000ðÃº\u0016W¶Þmü\u0019&ÙðUñ_ÃeïÞ½·Kh\u001b\u0014ÛB)R»¥ÆÕüùÇÑÇbwp²Ù®­\n",
      "V\u0017ªD±7ç73\t `c/µÝ{t5)£~\u0003úXA²ç^Ææb",
      "¬;Ã¸Gz&ÆPêio.\u0014}]\u0015ÓT:øà\u0003F@\u0018Þ\u0017®{hi&\u0004\u0004)Sú&äD_\u000b",
      "ç\u000e¥f%¸eK¸gÙï_|áE\u0010Ë6\u0000q§Ò·>Ùº¸P<àÈb1Iy+Ö7ÇQ3\n",
      "QNE\u0002j\tf$öAÃ¥­Û¿QøK¨,G¢b2Q÷W'ãÎ²v¶\t»bÏ üà¶¡{¥úßxã\n",
      ".;;Û¤\u0015°R\u001e",
      "yäQ Êtú5¨K)ûFh\bÒùºuÛFY\u0012NÑ²£T&®Ü#\u0013\u0013 ßwß}Ôw~ÆÌ¯m\u0019}_\u000e\"¹ÚTE\u0015üE85|Æ£YQR\"$\u0014UT\u0013)GHóe¶$e±\u001d",
      "4Ks_\n",
      "Þ\u0012è@¯Þ}°&Áü°",
      "(ÿÓ¸\u0019ç'äÌu~ÅNH¥ð)mÂy$Z\u001d",
      "\u000b",
      "J*%ãÚZÕ§SN¶\u000b",
      "\u0004\u0016ÕWm\n",
      "ùÓ)É²º÷@ÂðÁ{Vð*Ïµóbb¯\n",
      "Û ëËªòÑeï#O\u0018Âö$ÿá\u0007\u001fø¯LôW^\u0019ÄU~|9(¤¼èLüßòMº·V]âök[",
      "å?Ç2Q0\u001d",
      "NÆÖÙ<\n",
      "±åy8\u0007cAÔz\u0004p\u0014sØoE<\\î,!ûÎ]uk+¸¶R\tæ\u0017zs³ò|Bº¸\u0002\u001c",
      "¢\u00032/o1·¨\u000e²2²²¸8úiuëlÁR²|É",
      "?þøcvç<,oÊÖ\u0019*\u0007\u0014Q'Ô£:ét®ÄG^Z\u00181âÙÑÄ§Cyq\u001bãòõ ëÛpW²Â\u0016£I£\t Í\u0011³D`:Ó\u0015\\\f",
      "\u0013¸Ý]1ë\u0017Î#.ÿó­ô\u0012ó\u000eeÚÁåîËËý%\u0017£Dx{ÉªóÔ\u000fPÜn\u0000\"Ýá&³Ã$ÃþZ7Ø\u00135ç>¸Ñ\n",
      "\u0011£\u00162\f",
      "÷7i¥\u001f?¥\u000b",
      "+\u0007\u0005ÿõ×_Ø\n",
      "Üw`Xu\u0016xq!zJÇ(\u0016óÊË[mµ¯°ô\u0005\\ ü×Í\u0006¹uR%'é^v±ÿüË/<Ò³.\u001d",
      "ÏKõ&vV1Êè~ê)»ßñõ×&!}",
      "F ¦·åTÇì\u0018\"",
      "öÕÔ7þnÝ&\u001c",
      "æÃ\n",
      "çæT\u0001Q@µ¬ªªjÉl\u0004òýÛÖ£\n",
      "A{\u0005=JÄV\u0016ßëÖ®!\u000e\u0013§\u001c",
      "*\n",
      "² 8]ý^à2\u000euh\u0011Dí´Åý\u0015\u001f·_ßý\u0003Úlì\u0005mî³ï@\u0013 zO×:é\u001fEøkbºü^}²U\"è'1Û\u001fÑv\n",
      "\u0014Õ9jx´]ágùh{£\u001199Ù|'¸ãø\u001bKoÅ¨\u000b",
      ":ÕØ\u0018\u0017Q|ý\u0006\u000f\u001e",
      "Ä½õÏú¥K\u0004!\u0002\f",
      "¥±\u0012 1Ë¦{¾-\u0002ýù\u000b",
      ".¸0Jÿçò%».'ðX\u000e\u000e²?\u000b",
      "í~)%\tÛ^T×¨¾q\u001d",
      "r¢\u0015rï½H*Ü#«Òn\"Ã,Õö+÷Ï>û´µ_\u0010\u001e",
      "âßßHî¢AÓ]+R4\u0014¨§§[y\u0002ém+¦lIFõì\u0019Àý\u001e",
      "èÁ~\tôÐ¨^ &Õ¤úqfÙ](¦\u0000õ4Â>è\u0018ó\u0013blNÛ,>¥P\u000et@Ö8Õ¯ÈÚ\u0011N\\x\u001b2ÈQuÇ\u0006\u0000q·nÚ\u0006\u0014w\u0015àIfÆT­",
      "Ê\u0010É\bÐ\u0012\u0013¤Ä\u0007ÃrôòËÜ·Óg¸G\u001e",
      "|ØL{«|D$&^\u001aj=P\u0012~5JÂ­·Þ¦`sé×X2\u001d",
      "dB~öÂ{\\e$\u0015¡\u001c",
      "$\u0006Â|Q`]À\u0001\u0010\u0012M§ÛAÄðaÖ~Éí§ô*¿ì.ø0NÌ\u0011YÜ\u0014Ñ«WWò\u0013$\u0019Z\u0006\u0015+Ùv©üÙ¸!½µ7YP] D!í,\u0000\tØéÚ­ðÂ\u000b",
      "\u0000g\u001d",
      "d\u001c",
      "RÕÆ)wu2ù«1&3\u0005ò1®%\u0010Mkìä\u0002°\u001axjãAÔàè\u000f¯\u001a0¹FÐ\u000f­\u0004ûF\u0018\u0003Tr;\u0011ñºñÆë\u0001;)wãç\u001aL$(ÎfXòâ:¿ÿÞ»\\Î\t",
      "@\u0019Q_aú²\u0012¶\u001b^Ô\u0016øLª_ ÉÈ2h,cá\u0018¨ðÆÓR~\u0012ZI\n",
      "ËÌòÓ«LõÉõ\u0000u\u0010¨n\f",
      "X:cæ÷³Ý¡\u0007\u000f±\u000e{.ÝÜåpÕ{þ9x`màJÝÓO>mïªË²e ¯ö\u0001bÕC\u0002s-§ò11\u000b",
      "t¸ÙÝÿx\f",
      "võ1\u0014I\u0006%\u0005Ò?öØãN&\u0015î\u0019w?¤®³\u0011[(\u0004l\n",
      "",
      "£¡¥O\u0002\u00184B½\u001b~¼Çú²\u0018g,@\n",
      "¢«\u0004iþÅâ@f21ÒÛ\n",
      "Ôql¸\u0002í`\u000b",
      "Âî_T^ÐØü]Ü\u0005\tò'jGqñNÔc\u0005\u001aÚÈÒ^?û|¤î¢}®¨h3÷\u0017;+õ!/SAe\u001b).\n",
      "3\b6ªs8s\u0012þê«®ÂP\u0016\u0017¨m\u000fQæÏkõíM|´\u0014m:ÚX",
      "¶\u001e",
      "¼ÍÞ\u001c",
      "q\u0014\u0016vt^ië+\u0006a-ÀÈ©~Í\u001am­(×ÙÕT\u001e",
      "@cªÅ×QQ»\u0003\u0007\u000e²o±{\u0014¿Ünê«FØs¥.Ûf\u0013ÔhCyÔá\u0017ÜÞ½»ý#´ô_\"¶WÛU¡J$$7Õn¸*ÀR\n",
      "\u0015¡Su­\u001d",
      "¸°jÄsÏ=içâ\u0019ÈÝ%\u0001êÌ\u0000wäàE2êÀÙ³gR\u001d",
      "@ê\u0002ÕHáÎ´°®ÝÃy",
      "ñ\u0010Õý½Ëõos£ÐÉ'ÒkðÓ6¹\u0003±u\u001b;\u0007",
      "ÑKgX\u0006¿¸:Öâª òX\u001c",
      "èé\f",
      "\t\u0013n WÉßuç]Ü6>ÆÂ4m¬srÀ¢¸2\n",
      "¦t\u000f< ù?t¥+",
      "¢T\u0002°äj\u0001ráUMp.mÛ¶Å÷ì\u001e",
      " ^AÁ\u0002»QÔà\u001c",
      "Ï±|fÍ¡Ø´;ÜÿµzÕ*óoiõWù?þ(TD(Îµr\u0018·ø\u000f>Ôâ­\\µÜÂÊ°æ¦pè³öÍÊ\u0012\u0011\u001al¦rj¸~;g[â)¯¿j\u0003D\u0007´\u0003Cì£ÞáfÑZ\u0010aÔpåuþùç±\u0002\u0001e\u0019 \u000b",
      "D\u00054(që¸3õàþo¿ý\u0015À×Ë\u0017é«sN\u000e\u0003\u0014ê\u0005A\u0000{G1$\u001fß+5Î8¿xÐ¤?,ßØßf´økÉú",
      "´úwøösS²\u0000\bª0|\u0012RÛÏß[ºÑ§£¬],\u0012\u001aëÅvj»Ry¨z\n",
      "gì\f",
      " öÿðÃ·i<2uÜêÕ«-pZM6Åÿ\tu\\9nÁãoµß¾s«\u001f2d(Ö\u0002\u001aB\u0005Zþ_R8©åO\u0011öÆYÃ0Y{\u0012ØÈ-\u0012Øy(\u0013\f",
      "ä\u000e\u0012î\u001a®Ü\u000b",
      "¥;ÅxÂIîða\u0007AÎYk*4\u0015eU(Ç5p-Û´q9èK¥¦r\u0005!Â)©:ÏÒa}Ìsÿ¾îz\u0007a\u0012ÿj;h%þvß}ð²(\u001bQ\u001d",
      "ö\f",
      "9Ó¤n³4¡\u001e",
      "\u0002\u000e$WwâI'ºë®¹ÆXß«sW»9¿üêþ\u000b",
      "[B¶/À»Ì¤l­ë\u0012P\u0019\u0007ÔÁÜª\u0000\"\u000f;¾£µ\u0011®+ò\u001d",
      "{ÌÖQðÙ¹+Ø¸íjçà:i° \u001d",
      "\tï¼õöÝõØéR\u0003X\u001e",
      "5KsÃ¹ @U,ãÊAóã=¦¢ó]\u0000@_Æ\u0014þ\n",
      "\u0015ó2o¢¨4ÿàÍ!¨º{W¡»òÊ«ÝQGÿ\u0003VUwÓ!Û",
      "È",
      "HNimé\\ä·l",
      "\u0004dÒ\\søUÊJôrÙ\u001e",
      "Z¾w",
      "\n",
      "Øûï¾\u000e`¬ÿsGd£\u0006áÉ4³\"CÑ4P¥ÙÐB¸IÓ¿ýÒ}÷íOnÜ}÷\u0011^ãb\u000b",
      ".\u0007`\u000f7K u³4*Lzi/Q\u001aÉ\u0016j°tÛÝ\u0000è\u001bÉ\\ÄWÚÃÅÕS§M\u0005¸H5«1L?·\u0011þî\u001d",
      ")¬Ó±S'3»f\n",
      "2$\bàD®Y³ÆÁ=«ò§«)NDj\u0017ä\u0018Ø¡JCZË\u0006æÏý-Nâ¾>Ý\u0006K,\u0016Ñ>»c\u001aýó.ÄùÄp\u0016\u00026À\u0016\u001ff1£\u0010zÄFLÞ|\u001a+\b\u001c",
      "lM·\u0010·zNÆû\u001f~`?\u0001\u0002¾T¦$§Û `m0åfÙ\u0012ão\\²ä¿ýv\u001aøä\u001c",
      "´F8t¬[¿\u0001\u0014ºÛw\u0013\u001a'XÍï¸ý6¶DÙà:m%,í»îÐ²¿-³v=b\n",
      "q;w1*¼{7H2Q\u001e",
      "\u001d",
      ";J\u0001½!ÁqÚ>\u0000:\u0017^x¾ÿ÷¿¯ã.ÆåèÒë`\u0019-á\u001fìQkO°ðVvÉ:ß¡]`SÀéöuÓ\u001b³=m (&áìú\u0002©Úå\u0007þ\tÿÍtç\u0014Og¼÷kóÖFe&`£mpV|fE×\u0005ïÚ¹\u0003îA`ý\bpQ^9ÙÙPu°PÊÖÙ¶\n",
      "Z$W_}\u0015\u0006ðw¸\t\u0018§B1ÑqS\u0001WQüÃ@wélIº\u0016Ë.0×^C5µ\u0004Ã£ÝE\u0017ïNý×(l\u001au\u0005\u0014mHZÓè\u0016ÂÎß.ÔïnêÔén1×(\u001d",
      "wü1FI×\f",
      "a½j\u0001ÛÌëÐ¾\u0013Rº§\f",
      "¶2\u0003q\u0015Y&\u0003Áºå&\u0003°¶¤¨Ô\n",
      "\u00192$\u0002ÉA3­4Õø\u0001³pØáÃ \u0014¯u\b¶\u0000þ>m³SEÜÿýl'Gºìì\u001c",
      "\u001d",
      "Lå\"\u001aìm }û\u0000RIÓ¹â*³\u0004§yÙ@_RèÆT¶nð±õp\u0006ò7ä³tdµ§»Ü]«Í~üÈ\u0013­îD¦N\u0003õëDð\n",
      "4N\u001aÛ*íÝCßÑãE[¢p½Þè©µ#¼H;oºð\u001e",
      "\\\u0001ý'Ñm\u0011e=»\u0000m\u001c",
      "\u0011¾Ùz\n",
      "ýz\b³:UK.¾\bÂ«0p\u000eHÙÂà·\u0006\n",
      "¹¶kÛ>\u0002:lß1ÿ8ÚÌ \bd>ë¬³}NNÐÉ¾\u0003ìÝ\u0003j§Í®2nj-¯Ðª\u0013cQ4>­J1á¸_\u0011\u0002i%ü/Û0\n",
      "\u0006÷\u0011)\u001aê\u0010lüÕ¸ò+À¥êÎ®}ë\u0004png\u0005ËÒæêÜIÿ\u0017\u000eój\u0019GQù¥XùÕ\u000fà*yå·\f",
      "?n-\u0017i©Â¿õÖd·]¢ÍQaq¤á_Z\u0016W¸vxÕþ©'´x]áIàGiD±uÜÖs§1Ç",
      "q\u0013å5sÆw!­¬\n",
      "ìxìòG\u001fõ\u000f\u0013ó±b\b½¾l\u001aRGãg¥2¬Ò\u0001ÞÀ¬godÏÕHÛ\f",
      "A·îÑ¤5]Âá\\é5\u001d",
      "ÞõP2Øæ¾:Mõã\u0017âk/¾í¶±ÜÁõÙ}gÛãLÑñÉ²)¦rõ®½X3IaÔ26P\u0012T²\u0010k­DüU<¶\u000er\u0002¤ o¸ø¥V¬VJgk¥\f",
      "wûí·²\u00128{3\u001a\u0010®\u0010e\u001aê'dÝ\u0000(¡c\u0004Ïõê½\u000f¬óG¹ò\u001e",
      "dÊeA[\u001aÌê1-¥ÕM©\u0012h\u0015kÒk¯¹ë¯¿Þ¬O³ÃÞH¸C¸\f",
      "G®\u000eì\n",
      "\u0001+*Îú\"Õ.UNë \u001d",
      "JÞ",
      "\u0010\u0018P\u000b",
      "6?n\u0007³t\u0004Ú\u001e",
      "Ð\u0011½[ÊP}|t\u0004Z°´ëe~ )\u0017PÊ\u001f\u0014ú«\f",
      "óÖM5A*WY©³6çæ®AØ±\u00101ê\u0006v0\u000b",
      "P\u0011äÆ^Ë\u0016ó­»\u001c",
      "×ºÑN\tTÐ^ \n",
      "Ù\u0002VA0\u0012¥Ð K@\u001d",
      "\u0012CT]õ*»~Ä¥\u0001º)HL¼ðS]\u0004n\u0014f\u0016Ø\u001e",
      "|èAåb[+Ò\u0006\\ö\u000b",
      "MýGäSÄí\u0003Û\u0001$7\"æ(y2\"\u0018!'Bëß§'\u0010êuH\n",
      "ë*'l±§62ÞWÓ¦\u0013îøÚaùfèúY:ío¾Á\u001f(ãAnÀ¾\u0003ìf%K\u0002ñ.´8Rû%3Þø6QáLÝ7ÿ·y\u0016\u0004Xié'A{i[´\n",
      "Fc£\f",
      ",\u001f;>È/M §4\u00143\u001bÕs@´\u0006Òîæ¥r^d²oM{rl«\u001fHM^º¸RÖ=c'qfÌî ´ð\u00014²^îºë¯!.ÝÌjFV\u0004GÄ4,Ø»É\u0001ô¥\u0006Y¾º.O¯ÖÒàÅä`·±UQ\u0012·\u0016éØ\u001f}Ä}öÙç\u0014©:\u0000§¿6\u001d",
      "\u0004ZS·¹óæ¸/á\u001aKàfåò¥ä\u0010ÏxwÜqÇ2§8â§ë¦ë (\u0012Ó5«È\n",
      "{È¯/_±Nå-Ð\u0002iô«6ºTî§uÇ\u001c",
      "s\f",
      "Þæ \b\\­\bÃöáÃLe\b6\u000f\n",
      "\u0010\u000b",
      "ÉCôTé¬©^LU&ûI£F\u0016¤Ì9¼ñæ\u001bFS~\u0001te\u0003â",
      "",
      "\u0005YT%\u0006§:a!¡iæÎrÊ)9\u001c",
      "ÏÊ´¹\u001bY59bø\u0011~\u0018ÐÉðáGúý\"Ó6bÅ_~6u~Ì\u0002{\u0017ô¢¸\\¬ IO4ÿ\u001e",
      "`âÜq^p5<Ïb,Ý\u0019Å9\u00185ý<w@\u0005é\u0004RÛÂ·ÄXS\u0010D£öZ¼Úe÷d!âóA\u0010\"«|½Ý«L#ÿ&ÊcÉâWU\u0000dº4¥þõÉ/¸aÙÛ»ú\u0015È;&ä83dNHÔñìl 4înÝ`\u0000gÂO8³¹Ë\u000b",
      "\u0011)02ÈkÊ[m\u0016ôË\u0016hö¥$\u0010ôÒK/Áàü0\u0004ìæõrÂ÷ø'he´¦òÕ\u0006\u001bn\u0005O1VI\u001a\u0012CvOÆQÄ[hjîÛoØ\u0002j\u0006×­ó",
      "\u0003?x+'eS\u001fD¯ö¥mR³DzQÂ[\u0016þ1Ú\n",
      "Y½ÜtGVÌþjâ\u0014°ª%ÈËmß¶KÙÕ¸¸|\u0001ß\b:Äm\u0011üÔÖ&{¾rñ*W[äºü<»WYg.ý,\u0005AÖ¹&hí\u0017\u0010iÝ\u0006«nÐù)(OxUþú\n",
      "\u00176\u000b",
      "\u0000×qþd/¤3Ä\t\u001a¢kvIlÿf\u001aÝ²EKk¿Ú«²%ð\u001a®äµì¨x!:N23Ñ7Ã[ÍÊÂøJPHÔ,_­pXXJ\"i´ä/¼³ÝT\n",
      "\"iXXæVµvó(CM`*dþ\u00066púV&R×)5\u0012×T\u0003%kÐ\u0005m¯\n",
      "K9Åóó\u0003é_\u0015ÒÅÍRcóë\u001c",
      "°¢sh°åj³\u0018£ªê\u0006ºfM÷ì©¥Äm4\u001b\u0014¦§(à;Q*ÀV\u0004±í¹Úeui¤P¶\u0018å¥Ö:d\u0016\u0001\f",
      "¨s&²Ú\u0002k»Ç\u001e",
      "{\u0014!Ö\u0003H13lË\n",
      "îÁñO)É;ÔÍ\u0001âBmÂ6Û¶nwýúöu#QzÐMvØþã¨(G®#ÏÍñ-²\u0011[ÚVU\u0003p\u001f«\n",
      "\t*`aÖÔ Md:_³?\f",
      "£zA'1\u001b8G",
      "¤µí)§ÐxËÖþhðÒV¡¶R\u0017kÊºïI\u001aë\"§\u0014 ¤¡A²ÑUir\u001a!=ø\u000eä#)ÜÜ5æWû\u000eCé-É\"Láê5¦&£â'¼ø\u0012Y\\\u0002&³®º«±ÒÝu÷½ô_æÔd¡È\u0014eè=\u000eTp,4\u0019\u0003*iÌf­\u0007Î´aH¿»`'·\u001fätÇ}ß>}LO¸O¿äm\u0001xQ\u00064Ñ¹\u0013'¼æ\n",
      "\n",
      "·;¹ÖYû ÷q­qG\u001e",
      "u»åæ\u001c",
      "²(Æ¦ÐÕ½*K} ­Ý»¯7«\u0004Ò:Á0\t+\u0010òO\u0013°$JíÐÊ¡ï4PL\u000fÆI}+à#rÄ\u0017u\u0002HÒ@\u0012_ÍQÿ\u000b",
      "ÿÔSçVÚó0¶Î=ç\\3³{ÏND\u0001)\tT\u0004\u001d",
      "ìÚ\u001a\u0003p\u0007¥Ë8Ö\u001e",
      "x/#F\f",
      "u)+«n©H=ÀV1ËÎ¿ð\u0012\u001b¨3Ï8TÏ&\n",
      "\u0010\u001f''\u0007\u00043\u0012:j%ÇãéÓM3«ä\u001f\b;-5\bÈ*ÍöÀnõê¤)\u0018\u0017yÚ\u0010hÒZõrÚ~ô¦¾\u001bqä(ð-°[M³ØÂ2\u0001 `[ãe¤=Z\f",
      "zy¡{é",
      "W¸Pm,½:F¶¢ëÜ¥3bÜ¹L¤;¡e^ËÐÔò5Yw$´YIá]ÇBcn\u0001:á\u0013ÍtÂÛÐ\u000f?üð\u0013\u0016T¥»\u000b",
      "¥",
      "£)Ã\u0000b¼kÏ.÷ÀøûMZü,\u0004kÜ\u0013O>¥î´Q7@Î·¤_¼Pd»Wý·\u0018hSt4ÿöß²u\tôF\u001c",
      "¬o\u0002$ÐwÆ/¢\u0013¥ý\u0014yk{?÷³,Btu¨ë ",
      "¬²vi2îØ{î\f",
      "A\u0016nÁáO\u0004\u0004Ôò^\u0003pPã_û»Ú?öØ¬n\u0012ÜT}r²sì\u0019³\u001a¤â\u0013\u0003\u0018!%kga\u0019W£%²ÇÏ÷³?çs,½±G´XÈS¬zµñ[o\u0001`\bm\u0012b\u001b[ò¬©\u001boÊ^\u0003'I«\u0012Ï",
      "ÚÏ»ï½K\u0004\u0000\u000b",
      ".\u0018Ðs\u0007±úßÂ\u0019qÝwË®Âª¨W!Ú+£­üØdõ;qcCÿvÖi§\f",
      "{»å[Ý}úÆ¸È\"\u0002",
      "Óa×ÈcÏ¸²Øh \u000f%Û ôpÅaÆ}:\"å°wkáP%,nrò­ÙBN,\u001d",
      "~,}U7üáYj«W>\u0011ÜªôÊÄª\n",
      "â]j\u0002å\u0001¶hm?\f",
      "\"\u0000 ­\"æ\bËOE(§pê\u0016ð`8¤\u0010Jüf®PZºl6õk7Y\\gâåtÎ6-F%kÖ¼",
      "Y¬î×¿/7Õ]Ï­ÃYF\n",
      "8¨ê³tÙR¨ðK\u0000<ö\u0002 \u0000î÷îéú`Kñt\u001b¹¶°\u001b®û7(Å #:Ã\u0002\u001a=SÃMe\u0015`ÛÍ®{în68\u0004ráì\u0014\u0001ZÐ&mÖE©9d£«0\u001c",
      "»^B°uR5ßÖ\u001fJ¨(\u0011bÙm?q*\n",
      "gÈÒ¦\"D\u0019+\u001bËWc\u0010zÑ>µª\u0010CÎ¦\u0014m¾D¶ò\u0015Z»|«\u0019~<ÿT~\u001e",
      "n\u000b",
      "·òãæÍ¿¯¼ãò(TYðM¶?ö\u000fùZ3\u0014CÑHPã«ÜB¬X¥·\u0017âéE\u0011ÿ¦üØ/äd\u0012Rô\u001a÷¿²À",
      "²ØòC>)îëÿm7b?ñø!Æßü",
      "kË§\u0019¡³L\u0006\u001d",
      "E}¨\u000b",
      "±\u0017r\u0015L\u000b",
      "SR\u00035u*Ü\u000eÍdªMpê²¸\"±OMÕâxÊ;@j` Q)S¥ \u0007 .Ë\u0003ýd~[²t\u0011÷ÖOs{Yõ\u001b\u0010y\u0016±÷³/?·N¶$Öy@s,\u0003È®2",
      "¬nß±\u001d",
      "IÜ{Mr\u0016Ú\u001f«%URåî9»Xåk²X>þÀ\u0003ã\u001d",
      "Ö8­Ý\u0015EüÉr\u000f>x\u001f\u0017~®$T<»Lëïg7Ûû\u001a\"ÕPkbÎqb\u0005½0.át¥\täDeI:\"±_Úg\u001a2z,ã*'hè¢\u000b",
      ".àÔcÍfµ¶·í\u0014¶jù2Tj>ãéÉ<¶A\u0017ÏuzÂø«*ª¡\u0015Öý\u0011E\u0012cpq¾m[bÖAeÉ&§­TÐ-Ý\u000f\u001e",
      "Äv'\u001a\u001fÓ£xüØîl\u0015ò­É(7©\u0012V}²\n",
      "´D¾mÊ;lo,p×\\wÕS%",
      "f28L´:ÆEXÑ\u0005ÙãÆÞkq¤´'?¸¹\u00060ìI¹0\u0012îõ)SÜµ\\$Ð©QtÔo\u0002Ò\u0001Zn½í6+ÿf ÆTML KQïÍ&c\n",
      "øÙrwÑ¥W\u0001H}\n",
      "Ç -wCn´ÁW¥>üècð»õ|CÓ\u00048Óv¸,bvîbdu×J¢@\n",
      "zuç{.ìëQiAPÄô|Eeß$\n",
      "¹QÉõ¬ð{÷lõßÎø*²;\u0000o¡~~asÐwJ\u001av¸ZéÂ´[&ã×¼«:ç/¿¿\u000b",
      "kÌXã9\u0011 ñã¬\u001f¨(Ü\u001a>ã»éßA\u0007\u001d",
      "àQêæò³Þ¾\u0007\"ÈmÚµ6ÿÿ××y\u0000xQ{{\u0016\u0017\u000b",
      "M@zqwÁ\u0012D½Q\u0014\u0005c\"¢Æ\u0016óYR\u001aI4j,1\u0016¹±wc»¢]ÑØ[b\u0014P@£F\u0005i¢î\", \b(M`YïyÞ3ógInîÑeþ3sæôò·üÞ;ï¼ØM¸BY<`Ç!ÿJ:\u0018\u0017\u0001DÖ1¸×8'â¨gÒ¾\u001d",
      "Ü\n",
      "±¥ýõ\u0016\u0000&ï\u0014ï'O~?Ê\u0010²:®9ÖVýZ¼£kMA\u0014QÿXkÛ¶¥:Â¦õ¯F£l²þ[\u0015íY}Ç\u001d",
      "w\u0004ºXpÜ%\u001e",
      "ò¼®t¤óu¸\u001d",
      "$û°ý\u000eß60ûý\u001f®Ìn¹ùÀÍ\u001d",
      "\u0018ÄH©j\u0005 /¼´%Ù\u001a6\\- ºtíä0ÙãP1É¨o±æ£j\u001aï\"+vOï:uì\u0018¸\u0014\u0003u/\u0010g",
      "~%\u0004ÎiÓ8×¼\u001e",
      "È\u0001»ì¢ü)ÃAËÜ¸¦³=8\u0013©Æuï½\u000fòÈzZºî¹û®ìå\u0019(\u0007\u001c",
      "\tîDpv¿º\\¬q>H\u0018ÒUAÌ@Ù±Üæ\u00198ï¬2½y+çó\n",
      "\u0010\u001c",
      "EØ/I©÷\u0013'N\bÝG\u0007ª±²Y\u0001{o|e°\u0015ú}µõq\u0014ËBa6\töb³¸È\u0017L¤G*½Ë|qå\u000eÕÒ8Ýu\u0012´\u0017ÈT¸å°X²\\³QJ!º\\\u0002\u000e²útìØ3Ãï²\u0015\u001d",
      "î½ï\u0000ñhl\\@Á§\u001d",
      "ëãR\u0001\n",
      "s¶dñÒXÊ¢±b\u0014T»u¬'Dä¹ú\u0007a\n",
      "àø£ã~ýôäU¥ð®ÕmA:x×F?cÞ¼ÆìW_áw&dp\u0011^\u0003Hë\bâ\b E\u0007æ@·ÜrCvÒONÌV.\u0007\u0006òèÝ´®®\u001fV+Ø(s\u000eÒ±M5úKÑ;äAr\u0010CQ\u0014\u0018ªØûlÕOl0Ä~ï\u000f\u001b×ø7°v½\u0002\u001c",
      "í¥@·m»´wwÃEð\\8.\u00199±\u00185ë»à",
      "/Ì.ºè¢lÿáÃ\u0000GQÏQÏáMÙ\u001d",
      "è¤¼ú@Î[ÊÓÔ:ôf\u0019.Y?öGä>=\u001f>ì|È^û \f",
      ";4\u001fqá",
      "ùËcF\u0007ÄËÇÚ&-CÖ\u0000û6vHË cªKLyòÙôYùnkú\u001e",
      "ciÕ´L=ºvXÝÇÂâ?",
      "\u0010²¸OG§\n",
      "ùSsö×ÈãÕW_·\n",
      "\u0015BÄôÉÆÃ^\u001e",
      "Ê\u001c",
      "\u0007õ\u001fSþZ-ZÞ¿¿Äñ4<6ç:9³¹êêjÿ½.ÄÇ\u0000>¿\u0001Ô¸\"|UÏó",
      "xsèÞ--­áG¤²|f0X\u001fÅUj)Ä\n",
      "ùé§\u0016é¥óí'òAÇ` Cr(þè£HD\u0007FÁ6iô\u0016\n",
      "{*>\u0015íP;j}³>HÖÀm¾=*©£Íò;×ååóòÊÌÛ$®TWW\u0017Ï^xþ¹Jé{'5)kÅU\u00039×>Z´p^>|ø~ñíë¯ãI\u0011FK{.\u0016%»5á¡µ,\u000fFn\u0015,ùÑèÐ\u001b87ùo®ë\n",
      "ãõ«cÏ)ÛòÚÞ3\u0003¢þG\u001e",
      "ydáª\"}÷\u0019¾2»tî\u001bq4°=ÊïK'§\u000f=ô`\u0018\u0017NU!¥7\u001e",
      "Lè\u001c",
      "#û¼®6µKâþ#)^¾b)Ò_¡G0\n",
      "oØ»aé8µø+¦-«\"ÓZí&uÊï·§KöË¯¸\u000e÷ ±.ï\u001d",
      "Å\u0016mF}\u0001?¢\u0004Q¨\u000eqgíÒ=5uùó)ÿû»ÿ:ÖôÙÙ­·Ý®Æw\"Ú\u0006ø.Á«W/ÿø)=Ëq×ÔÐb\"\u0001¨¨UY×n½/ÝÄ^³\u001b\u0012ÛaÙï~ûìà\u000fÂïoï0ükÑla\f",
      "^³U,õ\n",
      "\n",
      "Ù\u000b",
      "Ïÿ5»\n",
      "}y6\u0002ô@È\u0004N¢\u001bjkÅÈâ\f",
      "I¶\u0019\u0014\u001c",
      "Ë¦÷´µûFâÛCþëÒo5ØSíÁb²\u001c",
      "àWCEÏe/l\u0017Â7©¬©¤å6\u0005åËÁÑ·Da±a: úÁ\u0007ZB~\u001d",
      "",
      "ÖÕá´xùXÁ'\n",
      "p\u0005ÁÛÊ¨ñwËû\u001d",
      "\u0007$O\u0006³Â¾Õeâ+ä3òaÃ÷x«Cîâ\u0014¦\u0003Bá±\u001fJpßã=ÄC\\[¦p/é$sêÎÎ\u001c",
      "d?þ:uJ~Ä\u0011Gl,õ£L\u000f±L²ç\u0010\u0007\u0017\u001c",
      "¨t#\u0011b\u0006ÜÊ»é\u001boèÐ½s\u001e",
      "ò£:&?\u0010,\\ÇÏýëËÈ",
      ")\\¹¬ßè4.\f",
      "\"´°\f",
      "\u001fÎ\u001e",
      "ßõ/¨¹ò{¯¦'¥IÛæÎ\u0012¹hëÐ3åõÎ;o¦|úö!ën#«IÍ%¿}äG\"\u000fW2¨ÇRsèÐ!XàG¹T¹XU]ßPOÞxëÚ2K\f",
      "û¸ØÿR\u0003°nb#Äÿ!²í±o5¦RÒþhÿ%\u000eí¶\n",
      "\u0019âHgEb!*YÕÂÓ÷¾vãW\u0012{Á\u0005\u0017d±Ç]\u0007³W\n",
      "úÙ\n",
      "è90hE8t^Pâáêu`\u001d",
      "9î\u001fH\u0001Õ\u0000þ=èÛÃl³`ÂªCh\u0019'½ñf%¢½Û1Û°ì*\u001aóaÛ(\"ø\u0015D\u0012=þ\u0018gª³ÐØê\u0012T0*nÙ\bÎRW]ye¶Ç Ý9ì~(@2Õ«â\u0015\u0013ùæ·ö\u0019\u0005e\u00123pæÌ\u000f£êdÄi15ªÅ ¯\u0015ït([åkÍ\u0010b¥½Kv\u0018õô3ÎÈ.\u0005CÈ\n",
      "ï!>dXãy içèNçüQ¦¸(¡\u0011Fv]×úPÓÍåh6ý<}Ck\n",
      "\u001e",
      "¼'NÏþ¿ûÎ\u001b¸æÑ\u001bØQ\u0010ïµLé1Ê¸ùWhqyM¥>àE#>á.;§sLY.±sµ¦wEúôÓ(¨\u0000Mkæ??åäÈ¥+\u0018ÑÂ\u001d",
      "x&Sò<\u0000#\n",
      "{³Ì?zÖÞmQßAèÆ{?fÌË1ÃÓ¹\u0001{°\u0005ù\u0007&2¾ù¿q",
      "\u0011ñ\u000b",
      ",ªU_-«èë÷jaíØ2ÿhim}ÜqÇåË%ü©fl¾ÂÎ¬Y5´\u00069\u0010\u0006\u0006G|ji\f",
      "öJ]\n",
      "]ax:Ó F9©7!á]\u0014£ÈâwD ~úæHZËP[3:~¶Å×H\n",
      "ÌVÖm¦µb\u001f¼×\u001e",
      "\u0001db\"\n",
      "æDÔÔk*vÅs¦\u000f£\u000f|§âË\u00008\tn{=öÝ¶6Nþ­ÉO×\"\u00039*ô{\b\u0012ÝKP°\u001d",
      "\u0002ÚõA\u0007\u000eG\u0013·g0gÕ6þ\n",
      "ó£ÆùÙ¸q¯\u0001¿ÃL$Ü1ò%\u0014\u0005\u001adoú®Ú>ú`öè_\u0000]û¹l\f",
      "¬¬>}{\u0007¤\u001c",
      "ªiÙ^{\n",
      "á+ö\u001d",
      "Å¹Ìê7A\f",
      "}ê©§ôAÔR_O­hN\u0013¨%\u000f/[mÃ¾±DÌ<ÛXø Ì/ùÃ% ø´ÇæÙ\u0004çFÅ¡",
      "-\u0002£ñÅ\f",
      "¨ù\u0007»â\u0012}WNêírøzaµ\u0001K\u0005ý6ùÎ;§ýlÿý÷Ç¦X\u001c",
      "wIã¯òùófQ\u0004gH\u0012\f",
      "CocéRÍK\u0001®\n",
      ";ß&¼Ý¨5»ÑC\\9*\u001d",
      "õVáøãO\bÏ<ÅàÉK\u0013\u001d",
      "qÕ#n\b¹¢ª1;tïäL¿\u001a\u000fuÉâCy\u001d",
      "z\u0017G>ýû×D<ÎU¾e\u001a?~,û«¦<Rk%ÅÈO\u0002ÐüeKó\u0013'æ?üÁ\u000fc\u001c",
      "92½$~:\n",
      "¸\u0001\u0002^íµdñÂ\n",
      "ÇDR=Y8âÈ\u001aX_Û¶bÖh \u0011]\u00143hã~jR\u001bÏªòÚÚ(;àË¯{fÚ77`Àðf2©¢­ª;bqxÏ=·g»î²g6yò\u0014Ç\u0000#5\u001e",
      "øSuàE´ª\u001e",
      "áÖÛnàÀ×\u0011SÎê­²ÉA±ä¡«å£(\u0018­P7\u001a$È·SÀa¥ª³'Aî\u0015:\u001a<ôÊgswt\u001bvM7!©/XWk\u001d",
      "\u001f8è;âÉg\u0014^(\u0019ÉxÝ¶\u000fÂDöbµ/e¤\u0000\u0011Q¾R×*\u000e­AI#õ_IÁPïÄl\u001aíºó.Mê\u0002\b[ap¥\n",
      "]DA-¥ôTShÛÖ|\u0014Õ4S\u0016¼«ÂLPL²ôÏÑ)¼\u0000h¡\u0019àô",
      "I<7Õ\n",
      "G\n",
      "¬\u000få/ë\u001fe %÷¢h\"^îû}xÂº\u0005×¨\u001a¡å'\u001f\u0014³ÜC5*ÔBì<p7t\n",
      "ê\u00016¾\u0019U­ÃQ\u0012ár9äñ\u0006á¿Ýtã\n",
      "lÚ³@>\u001bH",
      "W\u0007Y½fÕÒì®;ï!iÜ¼6Ñhñ+-WôL,!%F)Åw\u0016Ò\u0012ûÄ\u0011\u001a¤\bt6\u001aïâ«XÌý2Bqñwýú\u0017yË\u001fÊÁPOã»èL\\qù\u0015Yc9C»$¤¶­Ð»PýBÆ©êq±ÌrTpÉS÷ä¼ó~\u0015xJÇ\u001d",
      "wBv\u0005Åü\u0005ó\u0019xm\u0018r%ÌË|Ô;ÜÜ2¤\u000f ÑdÇÿèDPK\u001f\f",
      "c²£¬UbsÓ²þ¾³r\u001aZ44Ìæ\u0006ÈóÞ½âjú\u0017_|)>Þe]ÁÁúÈ:kÃÛòË¶@Õ\u0004GZ·Eê)h3«h¼\u0003£Ì¯`B­Éi=4ê1ÄØÏg:þäã(0¤W_u=û\u0006ü5Î\\VéÕq¯Ä;\u001c",
      "P¦»\u0006PRÙ3\u0006Z´\u001e",
      "Ñ¡S§­ã*\u0012Y\u0004*U]üÞ\\a µïy¦D0£nòã\f",
      "¥.ùµ×\\Å\u0019±=g&øÃ¯û\u0012W¹¯¡\u000fø>{\u00060°\f",
      "\n",
      "ÏßýîÑÁ)o\u00153¯U¢+àV§e&à\u0019èâÿ¿Ûo½%\u001b¼÷ ¯õ\f",
      "p/)·\u0015(ðÌ\u001d",
      "õ÷1¯dÓ©\u0006\u0019læ0£èè\n",
      "\u001e",
      "\u0016õõ½ýBñxI¶\n",
      "°\u001d",
      "é¸´×oÆ9VK³hO?Z\u000ek/ÂêÕêvË\u0015ÀÂ.ü°\u001f",
      "µzÒ\u0007\u0017R YÅúÒrdUþð¨{cmGi?\n",
      "\u0017ZS\u000b",
      "}ËH¢«¿ý\u000b",
      "H\u0003â¸×\u0018G®s¿ººxwÅåá\u0019@KCÃØóô@-Iù\u0002GÕúz5­\u0001",
      "ÿK£øÉKP3Ö·EÚ0cã:êá)wÒG3gvø\u001d",
      "ùßÊæ³R/>èóü\u0003¸èæ/Îï[þéÚ·ý0êê(â¯ä8¤g©-¿ßÆ%­²â7ká6ø^1\n",
      "q?P\u0003V 3ðñ²&?­Â~*(õË\u0003ýä£©¬\n",
      "¥7SY2:¦ Ã°^´3%*\u001a>_üd¥Ø§wÏB\t2\u0015 lÌ²e¡¼\"¯©TXºx\u0010\u0014\u0010%\u0013D/ËòY3%ÝÉ%\u000e»ëó?ýù¶x¿Ç Al)Ö\u0004ÌQXbÛ\u0017\u0015î\u0004&Å<Ê&Á°­ÈOþi\"Ý·\u00054\u000b",
      "¥hk¯½x\u000b",
      "ó\u0013N<1¾\u001b¼×àð1©(â{XU\u0007Äsy¢d\u0003¬.ÉìÈ+P$ãÀ,ëd\u001d",
      "á¨\u0007GÊó´\u0011\u0015eü÷Î)ÛÆ`ýÙ.\u00023$¾ç\u001e",
      "#Â(\u0007ªm´_{õ5\u0016>SRüÒLuÄ\u0011>¿÷îÛyý'3ðÛô\u0011Ö#\u001fæS¦¼\n",
      "dÝ3Xg\u000fÍP\u000e\u0005{Kå¾SGíu«òÝwÛ\n",
      "ÙØx\u0010Ë&*öÏ|úÉù¯Î=x(ÚÐ¹¥¡µi¼<fL\u0014\f",
      "µüûïg0Y@\u0007Æ:Î\u0019\u000b",
      "ó\u001f|ÿÈJú\u001b+\u001a`Ü¸W§Í®³½\u0019\u0003ë\u0019?Xó(´ïjjjã\n",
      "FÅÖ©.Ý·LË\u0019ë=®üèx­Zìü<\u0007 9s\\aVÓ°ÄÑnX/ªÎ\u0004ÿ¬ËÆ6p6¥xÑ\u0011Äßxý×ß)OÓ4Øt1S½4ibä/'ÄòàÑ!ò\u0016á-ì¥~[o\n",
      "ë",
      "\u000f+#$2+\u0012-*ä{\u0010\n",
      "·Rµ8ÅÑàËÌ¾1thùD1\u001bóü¦?^\u001fïäl£\u0018\u001a¿ßyçm¢$\u0016N-tì±tn\u0012à55I¯G\u0018º(¿cäíù\u0001\u0007\u000eo¶­©Ñù3ß÷\n",
      "J×³4ÛÁüã\n",
      "\u0011§®_-×´\f",
      "\t×\u0013pseù)ß°ý\u000f\b·³7Ýx]>jÔCq\u0000þÇ?þ\u00019>?Ê³!f63kÎ§Áª.GÃ\u0017í\u0003",
      "\u001b\u001d",
      "¸±s66¾mPæ~sß\"ÿÊ³íËïrK¸ê«(ì®ÄõGÞß",
      ";`ót\u001c",
      "Ø\n",
      "\u0007­ÏA.¤_Ûi\u0007àhÚä°ø\u0013Eº_]mÀû\u0000\u0010\u0012Í0*P\u0015>u-ü×Y\u000b",
      "9ñ;;Ö\u0005\u0014Ãüºk¯oD±°Gâ?xu\u0001Q\u0000Ã3ÊZ¸\u001c",
      "'\u0003s$Ë\u0019\u001d",
      "",
      "¿©@f±à+/¦1ëóEÏeä'Õ.%²Éú\u0012¯à¬\u0004¦Ûr¡¾~Âg²Öÿ\u0003¥óáÓó/9k\t°\u0010Ó`1\u0014Äjâ\u0017?\u00059À´\\~åxsüH\\\u0017\u0007\u0002 u\u0018ç¾OÏÊ¥­è¼ÿ«v+Ëk:rÙíèY8Ø6 !\n",
      "Ã\f",
      "{éÅ\u0017é\u000b",
      "Î¥¢\u001d",
      "ÛÐÎ*pf+\u0015îÃAwKâË\u0004ãZ\u0014`Ó\u00191C×ôÝ×9T£N\u001c",
      "I°xh½ñúkS\u001aÅ·;ÔõçªÅÐìê«ü''\u0014qÎ9çÌ\u0002Ô68H,\u001f\u000b",
      "m+\n",
      "¦µg¢a²\\ÀÇ\u001fÏÌ{\u0016r#\u0000£\u000e²¤Ê2?÷ìÓ9À\u001fÄ77Ç)\u0004\u0007ûA¤\u0015iò³\f",
      "\f",
      "÷çõõ\u001f¥´{^9KþµþåûxÞ¢6Wy^,{W4\u0010¼{$ÆÂüãäÆN*;LFîç>Ï\u0011°BþVáé\u0000û*\u000f¶\u000f?ü\u0000\u001a¦+³SO9\u001d",
      "ÑA\u0017¡aËþ\u001c",
      "'7Ø8\u0006k\u0012ã'ÝñÛI&.úrE\u001c",
      "òçIU¶\u001aýÂgz2\u001b©.TÄõ\u0014ZB|¤ÞßE\u0017\u000f\u0003õL$¸ë³)?\b\u0003ô\u001d",
      "w\u0018P¥6\n",
      "¹µåò{K\u0011¥Ë¾ùÍCÈcMxgÐÛ3,)Ãû'W\u0000µÐ²¤4¼®^ÆÑd%¢/Ã[Âg\u000b",
      "\u0016gÛíØ\u001f·H»Rv\u000fÉ¤\u000f{ËÒJ°mmß8®øDµGëURå-\u001a!êZ8ÄMbô;\u0012ãìi9lc\u0014R#\n",
      "x£\u001c",
      "~mÿ\n",
      "mQ¶\u0001àø\u0007\u001e",
      "³\u001a6Ø¡í¬/«b \u0012p¾i\u0013ÌNs¸îZ×LÉÝ&À¬1oPdºæXFò;MF\u000b",
      "Ï¼\u000fòk?6ò\u0005ø©w\u0014Ëèuæ\\vé%9\u000eibló \u0002o¹Âÿæ}öxê:íl\u001ai^KY&L\u001874|Ä28\u000fGÒs\u0011NË_~éoù¿<#Êfzö²$oÿ¶í[\u0013×ñA;x%",
      "¹èó\u00058þ\u00131Ç©±eå\u001b¿»é¦\"ïõaØ½\u0001è¹éñ3_\\SÿsýËüËë¦mÊV¾óZÂÎÏÊø^[úÄjÓÐÐ\u0010åTku-\u00153gÌBðwXvÆY§ó½#`-\u0006cGÀ\u001c",
      "",
      "ðë8X0°o\u0010\u0002\u001a,ýÆ #",
      ",àA6ªäÓ~ù9X'Ó\u001e",
      "\u000fßúæ9Y| 2\u000e£cBèE´\u0006Jny\\xÁEüÖ¾5}a{59¿ø\u0010ÔM9;à²\bÚ\u0001îÖ¿8õlè7öx\u0012rr)\u0016,\n",
      "GãûaÍR&ÐÃ÷¯\n",
      "ÀUÓ xn\u001b×s\u0018uþ±\u001c",
      "F­ö\u0018´'ÊA¿\u0007;~Ë0cdÅ¬P+Ùº61\u001b<Ü\u0003d\u0002ÃÀ+Æ¯\\X¾#¾\u0000`²¿ÄýP\u0017Ðåî?ß\u001d",
      "F\u000f:¬Qç°\n",
      "Ú½Í\u001c",
      "E§vQ\u0011ß{0\n",
      "î¿ï>þîÏFÞuW6|ø°¬¶¶_rÉu1z\u0014>Þ9òVÖK\u0019µ°ì\u000fÍ_ zøiôt\t`hïKrR»øó\u001e",
      "\u000erü'Ç\f",
      "\u0010:È\u0011\n",
      "ùÉõª«¯@\\´Ý5\"°?@FðÓY\\çb?I3+Ò6âÏ<EÝ{t\t¨·>\b\u000fÝÔáÕEÙÊ²\u0018çÞ{ï,à 0³<\n",
      "äù\u000b",
      "/<\u001d",
      "å\u001b¶ÿ~¸\u0018\u000f\u0000:nàÎ I¾iÏ;;â­\u000b",
      "$\u0005ïFÞÇ|ï(Ú í\u0011¡,ºù\u000fÿ¦ýñ{Ü\f",
      "½¢,í ^Àhª)H\u0015<ÛP¼ÿúî_ç¸P\u001d",
      "åpe;÷_çÕûì34FÕÒ_ ¸jÕêìsÏ\u0011T\n",
      "OìØ\u001f~/ûó]wÙ\u0018n¶ ÉE_\u0015ÿºJ\u0012]c¢\u0010\u0018^q\b\u0003·\u00027î×dC\u0010;¬À¾j«6[â«ë´ðêÍF\u001f£î©§\tx\u0007ÙZÂç_x&F®ÚJZ¬\\uùUÙ,0¿\u0004¤dágîIIÝ`%BÃÓqÛÞ\u000b",
      "¯wàEøòâàl\u0001Ò\f",
      "O½\f",
      "Ø\tû\u0011aì«ãü4Þ¥\u0012W±÷½ÆÌ¬aTcK]íþØ\u0004Û\bk\u0010\u0001ý«>\u0010ÀFìf~\u0005\u0003.f°ðÛÌÙËsÁz|ï¾Çþ\u0018QcI6Wò<\u0015tB,D3Êbc<ñ\n",
      "åá\u001d",
      "jfQ¶Ö­¨J:A\u0013^m´W\"t½ñæ\u001bò/\u001fr\b'yFê A\bàè\u000fgxæI³K¨oKÁÆ\u001e",
      "=íö¾åìêÔ©S<Ã¼\u001apªä:WÈ\u0004©®#ÿ'Fo´3",
      "o~!+{\u0014\u001c",
      "µp\u001fð\u0012\u0017Ï}gþ\t¬\u001c",
      "¡ës\\<ÅûB@ªKÿüyÎd\u0003ó£ÀÇ\u001fÏâ]ÐàñÌÙµ>9}J\u0019\u000f¨i¿Ìõ\u001d",
      "òôS\u0015¨lÌÀ\u0010ãÓ\u001d",
      "!@ÌY\u001d",
      "æG\u000f;üpf§+À¦¡²BÄL+ó*ã¤ýØºG\u001d",
      "ËÇT\u001fX mÑz\u000b",
      "òq'\u0016\u0014D¹\n",
      "<öØ£QW\u0015Sm\u000b",
      "Û¤3 ab\u0017W·ëÐ\u0016õ\u001e",
      "Ù£_¡§\u0019Y¼>s:p7¸\u0017\u0012ézña\u001fýõ",
      "Ñ\u001aÚ\u0007\u0013\u00046\tåha¬¤YG\u001aiäÁ}WxHìÁ8Å|ë­w2\u000eÎQ\u0006ùÂ\u0012õéÙ'ÒÓ",
      "àøñ\u0013ð01;ôÐÃ`ð®F§¯\u001d",
      "6WûgÙE¿4\u001d",
      "Ïª\u0003,Ç±^\n",
      "T\u00070-Æ:ûÝZ\f",
      "Ï\u001fÏÎúåÙá§Ëú¸?*ÎØqÀ.Ù\u001f.\u0019ÀÌMæ[ÅsU\u0003\u0014«ÌF\"j(\u0013K½%óùB\u0018(ÌCukübB¶Ó£BC\u0015",
      "5Áu5Á\n",
      "+:n",
      "ÄA\u0004\u0002gÌä°µ¢<´ïÅ2Ä:ÄÃâ¹.r\n",
      "Uìq\u0016Æú",
      "¸f)º÷B\u0019ÔÖõ¡pNgµ´+Ö\u0016Ó\u0012\búe©ykGX¡JÖ2qÅÔ6-Fzd¦ê9®dZ±X\u0010®æa±oZë4\n",
      "\"4¢\u0016ëó^z\u0019\u0003è(9ñ\u001bÂðG\u001e",
      "=±\u001a³8Èw³\u0017uFc¾\u0018,4ÐtàE#.\u0006Ò{\u0017üu\u001d",
      "\u001e",
      "©¥\u0016v\b\u0001\u001a\u0007Â\u0007åJÁª ~\u0016c\u001b",
      "¾C÷>®\u0003¹ö@£ëí·ßÉöÝo¿¨\u0007R£é½Û4XnX[à]ô\n",
      "\"IÃ\u0018\u0004,¯bà)6áhò\u00012Cª.aréeDÜÅÊ|agï¡V\u0013¾´¯08hlW\u000b",
      "ÁPj",
      "<Dõ<5\u0001\u001b:-¥\b\u0007É(­Ëi\u0004Ä\n",
      "]|lÏoAÖ Ì¡*±B8öI¾uÌR\u001e",
      "s¡\u0001\u0019æ\u0013\u001d",
      "ï£èÌ\u0018FÎq;W\u0001b|Á\u001a½.ëÐ\tZà\u000b",
      "Î<ó\f",
      "Öë\u0001@Ä'[uÊ~ÀÞù4]ºm\u0013{ì<p\u00009QBö\tÕæf×7DC\u001c",
      "ñ#X\t^È\u000e>DX#G*\u0005p¤²ëø\u001d",
      "ÿ×jªS°@¼5[ý{ïBu¬sÄÕ!T¤_ôë\n",
      "{§ Yv8ËUìÍk¡à©·\u0014amm-ê\u0003³³K.¹$;ä°o\u0007ÜÄ\u0016­«A5dXµ*\u0004i^ÒNg¹;ïº3µMäjn6Ê=\u001d",
      "pÕ»V*­NÓ´ãÈ´¶Ë6^\u0014ømÑc°üPr{MXE0\u001a(hGtÞ\u0003L\u001e",
      "+åËVf}!Û \u0017Z\u0004\n",
      "núBúJ\u001avºs¦´#1\u001e",
      "m ÇbÖ8¿-ú\u0015ÆÕ½\u000b",
      "ò¤e\b>\u0011gã\u001e",
      "PÝsßáá\u001bä4Ã¼¹ó²öh*\u0019j$g\tÑéwÆß¤)qØw\u000eç`jö½ï\u001fmß;dWÈ46\u000eÏE\u001e",
      "úwß}o|mQZÿ¢uvÞùçgýëê²Å\u000b",
      "dí\n",
      "¯@©L\u0019¦®WcÖ\u0004É\u001d",
      "*t~Qúlk¤Ý³é,Î¬\u001c",
      " ·dR+tæ{ôX\u0015Õ\u0002¥Îh/\u0014ð9h\b\u001e",
      "­U¯^}\"ÍLT\u000b",
      "ZÂ¥TY¢FåÖÛoH-Àµh\u0006MùàMªHëÆÖw&iËÑ^\u0006çGy×Îéà)9\u001f¦^ø\u000f×zy[ëØ4e\u000b",
      "­\u0007câþH7É¨T\u001f®Í\u0017/QO£1ì£&°Î8ãôH\u0013÷",
      "\u0001åJ± z@]!!ÂFSÑ\u000b",
      "G\\XÉ_\u001fnÐyïaz}¾vÍ\n",
      "ØV'F:=zt¯\u0000ïõÚgï¡¨!'-'ï­º\u000fnÜ`\u0011¦:ñ¼_]¿ÿ\\?Ö«ÿ«þ\tÛ\u0002BÁûTNVæïw½Á·¼å5Z®ò¯ ÚRû·x^¼o]Ý\u001a|mrÐ§×CºvÏ\u0000î`Ä¶\u000b",
      "¤¯={3åÑ³\u0000àq\u001e",
      "ì\u0011P&±\u0018Ù\tÃêé¬Ë»g]v1äðÀØ/,^Î:;\u0015;¦QáíZöH",
      "\n",
      ",6´²RÌÞQ@´brÌI5*ó\n",
      "Ñù\u000f¥\u0013´tûCðÁ4ôãl=\u0006ÇHÜ\f",
      "\u0011úA\u0007í]sõ5\u0011×£ûj\u0006sÑ¢¥\u0018JÜOÐ`\u000475-¤ïÁ¬oùéìl\"þÍ¥{·\u001e",
      "A(y$pér\u0004ÓÛ\u001c",
      "k@BkDk·\u001e",
      "ñüCÙ ¬QªA×ñ »%Ð²Ç\n",
      "ÉmàWYF([GÚ\u0007=ðî°ã\u000eQ¶d\f",
      "ÇYö µ¥ÔC6m:7·\u000fKæoÚø¤AE;ÙR¶³­H\u0007+\u0017ÝK±ç \u001e",
      "Ø ´ØÃ©äúJ\u000eK\u0019\u001e",
      "Wbx}¥í\u001c",
      "?ýéÉ0j%Í%g=ô\u001a_\u0012;Ïo¾åÆóIý\f",
      "î\u001c",
      "]Éf´U\u001fç\t%)ù\u0007kÀ>\u0012\u0000\u0000\u0010ðIDAToZ#F8xæ«\u0002Dó¼ò\n",
      "ü$Æ¬\u0001ã\u0006jA>dÈÞ¼«B¼ñ¢Ùø\u001c",
      "}Å±ñMM]M\\[ÊÔØê7\u0004¹ñÊ¨ÊúÐQ1Â5\u0000./OC\u0013x@ïDàRüÚäõ¿ÞHÖ+¶ÑÎ«%¿\u0006¬Ûs\u000b",
      "\u001fÉOjÓbèFÞ±º\u0015mm\u0019¡ s`*Bnöà\u0003\u000fâÊnu#4þâ|íºEpy\u0017ó{\t\u0019%K\u000f¦L*\u0012IHÒ\u0016\n",
      "@¬o\u0011ã}ðO7LÂà|\u001fÜ\u000f#ný',Ö*ü:®ËG=ò`4ÈÀ\u0010ÕÛY5÷ÂçL´^ zàpÎ:e¡ÄL¸\u0000N!ÒOÞüù³ILnDâÜvóME>³xîù¤x\u000e8¾\u0015,eCvhê]rR#ï×¿?K\u001fùzø!Ò$UD4ªÉ[T\u0010ØeB.¸èu$ a¼#p\\àÏ+ Ê¡¬;\u001c",
      "\u001aëçç4Ó3 Kç;E¹¼kÈIã\u0006¹\u00198mçv^Ùz³Ù¦\u0015\u0010{³UIÛed+ü\u0018¶|lÇoµxðÂöî[Ø=\u0018¤²©\\wÝ\u0018\u0002ôaY\u0000\u0003jF´\u00185~$\u0005|èáG%T\u00036Q¨}\u0015ÞjRRø\u000f!ß@QÞü¹TûÊ56á6ØgIlHhÔÕÕEü·ß~+-\u0019¬Vðýöac®A\" Âg&Ü\u001fAzO01â\u0018W\u0013$\u00179\u0018Ò]4",
      "ùÇ£d\\ X\f",
      "\u001d",
      "\u001e",
      "ÇùÈó\u0014´,*wU·",
      "À\u0000Ø\u0005\u0002C.¹d¹MZòã?¯[D»\u0004ëôCí<ÎaðÄ5à²\u0002°?c2»=f·\u001f\u0007~¯~\u0005:s¹e\u000fÍjëj¡x\u0019¢\u0012wAhðíJTôª_ye\\g<Äi×»\u0018,ÙI\u0013ÿ\u0001\"æ\u001fÉ0­\u000f\f",
      "ÙOÐÙ£\u0000RÁ2QÇ\u001e",
      "\u000f\u0003r\u0015T ¨iE¸è7OHoÕºýpVÒ9\u0014-Í\u0010Ö&2p¡Þ\\ÿÕ\u0019ì\t»È¶ü`ÊÔ£\u0017DVe/`Ë¬eH`ùñM\u001d",
      "¤ôï?\"Ûª-ZNa#¸\u0005ës³Q<\n",
      "¿%Ô\u001e",
      "\n",
      "OZb+H7EE¯\u0014\u0003ÇóÜ¦`Ñd:£CåÛ<Àò?xÿ½ h££8\u0010K\tj#åÖÛ\f",
      "ýG\b\u0018\u0003À\u0007¥l\u001e",
      "6²ûø¾Ú\f",
      "û½.\u0019e ßß=ä·\u001fV\u0007Óñ±Ç.Í&¼1!öÐ¢\u0000è\tö*\\\u0012U±:\u000e\n",
      "e@\u0016¿MnÝ·©à¹ÞhÞýi}°VüõY~ôÑGÇ7¤\u0016ßËTe\u0016i¥g)Ý\u0004º¡¢÷]:vÏ?ïÒ\u0006ghL­Ê,\u000b",
      "öî@¿U`êê!®w",
      "29cª«\b«Kçºüó",
      "óc\tMbõ\u0018Áý-ÒÞ\u001e",
      "ï;eÿé\u001a>êÊ¨O\u0010ã\u001e",
      "üñ\b*5¶S_»âµù9gýïéQ_\u001a¯xN}úF\u0005ÿ}\u0014j\u000eë­1ß\u000eêr¢\\\u0017bøê+¯ H\\3£PX\u0003§Àu\u0019ÚÍózÿ3¿ûî»Q?\u0018\u0016é«1æö¡4zâyumm\u001fö-OùdÇ+\f",
      "G¹\tz£6\f",
      "ÚÓ\u001d",
      "3\u0003j+ÌIoàrâÉ'¡Ôv\u000fæézô¼ç!üS Ø3@RI\u001d",
      "ª_·ÌiÎ=È)m6fóóéÞ³\u0006EK(GÎ{;uË\n",
      "Ó\u0016ª:{ûð\tº¹hß~+Fý¢lÂ¤IÙ_Û\u0016bqáÌÓ¥[ObèðÒB¯ÍÞ{\u000f@-*àRâ\u0013[3G8ª\u0014÷ã¹Ú\u000eÃ\n",
      "\u00047ï¿÷n¶säVÄñf­\u00113ô\n",
      "ÿz,Ùâ}¤Cª&%K¦ª¥»[º\u001bBØtªÂ{lívuÙë\u0013^Ït!o\u001c",
      "ËgöQF©å-õ¶«ß^=ÁÚ=;æÿ\u0007Óy<\u0018",
      "G\u0005\u0015Ù\u000fêø\u0013N\bEþbÄ§Qã²fÜãUq\"v­ÌÙU8Hþ]<\u000f½ÊÈÚ8«¤Ä´f\u000f½?ºÐbQ¸ð\u0019åï3Ï8\n",
      "\u0006nr¦>D3¢z-RÖA\u0019wî9\u0011_P\u001d",
      "\b¿\u001b6ì[xàNÌßPÓÍ;Q¯+V}Îì`¾©ª8ÿ,\u0001Ê×Õ\u0002d\u0001ÎR½{öª(ìf\u0019Çk)<UqÂë¯!|¨h\u0015v_wDþÚÑº|Ò¨Ê;mÓ\u0019\u0004D¡>ñä\u0013ÌLçT\n",
      "\u0012ç\u001frX",
      "aëS\u0019¶0\u0017\u0018¬\u0016_R¶¾SlÞc+öD(É¦GX)\u001a¡Pp³\u000b",
      "¯Þ\u0014ð'?9µ¡X\"bÙZ|`ñ®4\u0003Rá\u0011\u001c",
      "é ¬ò\u0007÷ SCýÕæÌ¨JE=øÚ@çÿú¬¼¾~:iJÍY@¨¥\u0015çû}k\u001fÞ\u000b",
      "Ý@<ó¨«øo¾ñZPWiésò;ÔÐÐy4^)1V«):¢(O)\u0011gä«×XLmlë]>ï®aùÛü<ò(ù\u000eçY\u0002,;XßV½ûôÆ^ÿðT^æåûQ£\u001e",
      "\u000eÇ¡zhÝ¿øÆÆ$\u0015@8É LæµÖu5º!ìÀÏ\u000fl']:¥ð§n!G#\u001e",
      "vsùyç\u0017å\u001d",
      "",
      ",\u000b",
      "S\u0016ØõßgwÝu\u001b\u00006¯+Hú\u00193>[ß¾j\u0014¥ÑkmÜÿ Ã{1\u001ayW¦×=(åQÅ\f",
      "ã»¢1A\u001e",
      "cú3\"GóßþvDÄÇ{B&ãg®Ë.»Êx®ó\\\u0005\u001c",
      "¨ÍëÑi|>¾\u0017×\u001d",
      "¹g<;÷Wgç\u0017vç­\u0015çS&òÆ¬&ÞY¾4\u0003éH,W´LìZ(\u0000Y!¶\u0007ËQ§å¾wö9çä/\u001e",
      "\u001d",
      "\u0006à\u0013Ñû+ëë\u0015àMÊê±ÃNJ]±`þgùwÌùÞ1yí¶¶Q\u0006é®ùÉp_î¹çP0MQ\u0015pL0 úFñ@ÒuLUÉ¸±",
      "j4\tM4è\u0018um`vEg-ãL±\u0004_ö'FF=zÀâ\u000e",
      "¿C\u000e9\u0014\bî÷8KÍaæLÍÇ¾::?íôS\"n÷P·J3°é°uÛJ§ùÿë¡µ\u0019¸õÕRVæ¡û+äK\"¾",
      "ó2\u001d",
      "0Õ¦µÁgZO\u001d",
      "6\u0000¬ß\u0018&¤Ç\u001d",
      "\\<ü¯äïr\u0019ßR\u0017;Ï-{È?8*-âeù1G\u001f",
      "6ñ#y}C=+ò«\u0014ÞB\u0007Ñ4ììá@ÙêÎà¬2ÿ36¢Æ¥K[_Yæ2ÿç@LK]ë²IGs3aâë\u001fX\u00142\u0015ÖQ\u0003DiÀù¼ùØë\u001c",
      "]ÍëÜkÖâaîÉX2·/ \u0002â`I",
      "oºéZÞ[\u0001÷\u00147m#®þS¤é¬JTcU@³õ¤Qjà9Ú =Cñ¦",
      "GMÙC+\u0010®(x¢JW£Ò¶\u0010\u001c",
      "ßañÎ¥\u0017fh*7uð0é7§rJ¨»ÙXé//´«XÆÙ\u001fËaQ¾q/.ëU®\u000eª\\ßÆÁ{òûïA5:»Ëæ¤ \u001e",
      "\u0018þùÎ?+ùß|ó-ñLgÙ\u0006äoÀUì\u0015m&´cÇN¡eñD\f",
      "ô.]ºÆ¬\u000e:2¼ðü\u000b",
      "|Å¬DYF\n",
      "u\u0015|Pä\u0000ô1Á\u000eøGÑ»Ç¢Ó~ñã¬[\u0017Pb8|2ÚúI\u001c",
      "òf,ûwG´Ò=ìlå]U!3 Í%+yi\u001aRÓÕÌæGØ:½÷î´ìú\u001bnÆb¥;<ÇÏ`u­\t·°ñaË,\u0012å`c",
      "\u0002Åÿ1g\u001aH£$H9\u0014Öú2o~6vÜXÎuÛ ~_É3k@àºsü\u001c",
      "ðµí¡À°zÇX\n",
      "Õ\u0005'\u0012\u0018\u0015\u0011y\u000b",
      "\u0014u\u0004géÐ~ëÀEf¸L\u0007\u001füíð\"H\u0019è\u0004\u000eøÖ\n",
      "«EÎ¨æìY5\u00027\f",
      "°ô\u0013\u000e;§ålò)Ù\u001bØ\u0010ï\u0004ìÝTøªÆY·¨PñÑb$\u0019H",
      "ã,v8R\u0003Ï\u001e",
      "þ=ÿ¶i\u0013P¸©³üÈ\u000e1¤Ve{\u000eÞCßV¨ï$%[\u0019Ûtb7`ÀÏ\"vU8_i\u0002^Á\u001a¢Ä\u001fù+èÛ\f",
      "d\u0018Úó=r2\u001a÷àCE-¶KB",
      "rþ$çÙ\u001f£ræçöe¨Aój\u00002+ÉcðC\u0012â6¼Ç>ú{\u0011Í:qÆôÇ\u000f`ún\n",
      "&?r\u0015Ì«\u0015:!ÕÕÕØ \u001d",
      "\u0012QgÎ\u001d",
      "æ¤\u001d",
      "qø¼\u00184úÐë;ùä\u0013³gy\u001aìÊ«¯ÈöÛo\u0018gLJ©7ì#!pN\u0014¥Ùé[o¾Ýwß½eö0_\u000b",
      "Ó%Êàÿs\u001b\u001b¹ä!õõG\u0019ËÄô)þÒàôUh}ÆiQ#kb@\u0002M\u0007pØ±rvýÅ\t!\u0012\u001e",
      "\b@½\tk-èYêú9` ÷CLÒ$³åáûñ^[«õ\u0018°5ò;Ë}ö¯Ù¨Q\\fÄ_£°Ø/p(\u0014åµÇ+ÁB\u001bT¦\u001bßiñÌü",
      "ve½GekNÄóí\u0010ÔÕÔÔ2µ\\g$S\u0013ßïJõµ\u001c",
      "åõüb*i>ÿÜßX!N¡C·aÐ7u9àaÙsÏ>\u000ezÚ©a÷k~xì÷³Ã\u000f;,Ûkï=²>µà\u0000Ëvs`$®{r\u0014 ÷\"\t0õC©eâ\t²Q\u000f?}|d¿ÓN\u0003QF^Ì(ªYNPìL\u0005rm¬±\u000fÓ]H¼ùÉ\u0019)ÚÈeP.\u0011A9IÞß^\u0019-¾ãëî~¥\\êK=\u001aó\u000b",
      "Î?\u0017ªg!³\u001f.ýåüÖgñ¡±Ö¡«zoÚ3ÌÏ4\u001e",
      "yä\u0001¾U\n",
      "Zû«\n",
      "ù[ÿ\u0010\u001b;KDÅ\f",
      "èpG\u001e",
      "ýËÃù]PHwÞyGþóÿ,¾\u001d",
      ":t(Ð¤Oæ£\u001e",
      "}8\u001f7n\f",
      "{eRv¿?wÎÇo»öP\u0010DæWæ[^û\u0017\u0014â³Ï>Aþ,2Tc\u000fIûÈÒ¥°%\u001e",
      "0õýy\u0014?8æúVc\u00022·ôOùöÓO\u001bò'x\"?ñø\u0013Ò\u001aïÈã¯\u001fv\u0002ÝPÝb4ÿ\n",
      "¬jAÑyyLqbgFÆ½åöû²Ì¬\\y]m-ïªò'ÉÇàÙÌ\u0000s¶KD\u00044\u0017±®\u001a®Xðñ©§ýF^J\u0015|",
      "²þÌ &¿?ÆÂ&\n",
      ".½ ó÷Ý726Ííp#È0\n",
      "¯p;ï\u0002´\u0010i<öø¨ø¶t$:^ýHCHnÝÕI¯Êë?\u0016ï¤ì$oÿúÂÿ¹çýçr®%_5\u0007\u0002 ÓÃñFº?¾ï\u00070yYfóO¿ÓU+\u0010<Æ;Á÷$]eå7rÈI>R´\u0000æçp\u0006\u0012\n",
      "üñ{ñâÏò±c_\n",
      "\u001c",
      "«hÔ\"¾ÛâANR\u0004\u001a\u001d",
      "'ÓwxÃ\n",
      "×G~æeyç5Îòâ\u0002#NI\u0005SÎrñ\u0016+ÞïeiháB¥éÔY­Ü¼åØ¿Ð\u0011\u001e",
      "u¸eC\u0007\u000fb¹IÊ(ªj4Î\u0017këkã'Ò.\bÜX«]RöÙg\bÏ1ÜÆ×?\u000b",
      "\u0016,Â",
      "\u0012w%\u000f§Ä3m\u0012õ\u0019-à\n",
      "Ë*G¼hâ*\u0018ÕeÒMz\u000eæ¿;,\u001e",
      "![üó\u0019u\u000ev×¼ÆÙ\u0010,?ã}\u0006Ò\".æa5S\u001e",
      "^]<ÜÇ:ªWÁ»\u0006þWöæ¤ñD°(AH\u0013C9Û \u001aÝ f\u0014n\u0006\u0012è\u0002\b¢[Aàì\u0001;lÿìjô\u001fUaèß¯\u001fD\u0012¬³9Æ2*N ü³ÿSO<\u0015[Ä\u0011\f",
      "txòÉ'±«Ñ»9XKêhò\u001bû¢WïÞÙ3?Ì~\f",
      "2ºïDJÌokÉOø\bQ@%K\u0013W@©§ Â*±èoÆô×>îµIlÆ_ÐØ[ðþ+\\áöÈN;ãg`£¯d³®\u000b",
      "\u001c",
      "6è/´¢rlj\u0002è8Ò@Ñ½\n",
      "¿ÁåGÃ5\u0011\u001aúô¨ÄAYÓüY*I\u001fd&\u0014\u001a¡©I#í\n",
      "\u0001;wÍÕ7Nëp³ç®Ò¶=VôPs°§B×\"]©\u0017:\u0014JpµõÅyv6üÀC4_\u001f\u0010¨\b\u0003£^ÍëÖ@eªø\u0012ËAàã\u00183$çÇ\u001c",
      "ó]0\u000eÇf#GÞ}\u000fa\f",
      "ôÀØø\u0012]\tóqpëj±\n",
      "°uÞ»ï Ý½7ù½ð¦m¸\u001a4mUÔï¹çn$\u0016_ \u000eÙø[Ç÷8î$vxOê\u0015Æ\u0012ûî;4ûïßýöcÀ¡§\n",
      "êhÿ\u001f%rdTT\u0007Ä\u0000\u0000\u0000\u0000IEND®B`\n"
     ]
    }
   ],
   "source": [
    "image_as_text = open(\"CLL_WK2_HW.png\", \"r\", encoding=\"latin1\").read()\n",
    "print(image_as_text)"
   ]
  },
  {
   "cell_type": "markdown",
   "id": "d4fe2215",
   "metadata": {},
   "source": [
    "## TEXT FILES AS BYTES\n",
    "\n",
    "`rb` opens file without decoding the text file. Results are `bytes` instead of `str`"
   ]
  },
  {
   "cell_type": "code",
   "execution_count": 500,
   "id": "e4824cad",
   "metadata": {},
   "outputs": [
    {
     "data": {
      "text/plain": [
       "b'111133334444\\n111112224444\\n111222222  1\\n314422222111\\n344442223111\\n 44444433331\\n22444333333 \\n2211111133 4\\n23111111222 \\n 33311444444'"
      ]
     },
     "execution_count": 500,
     "metadata": {},
     "output_type": "execute_result"
    }
   ],
   "source": [
    "text_bytes = open(\"CLL_WK2_HW1.txt\", \"rb\").read()\n",
    "text_bytes"
   ]
  },
  {
   "cell_type": "code",
   "execution_count": 615,
   "id": "2114e4b3",
   "metadata": {},
   "outputs": [
    {
     "name": "stdout",
     "output_type": "stream",
     "text": [
      "111133334444\n",
      "111112224444\n",
      "111222222  1\n",
      "314422222111\n",
      "344442223111\n",
      "444444333312\n",
      "2444333333\n",
      "2211111133\n",
      "423111111222\n",
      "33311444444\n"
     ]
    }
   ],
   "source": [
    "text_bytes = open(\"CLL_WK2_HW1.txt\").read() #opening text file without decoding\n",
    "\n",
    "import textwrap\n",
    "#print(textwrap.fill(open(\"CLL_WK2_HW1.txt\",\"r\", encoding=\"ascii\").read(),12))\n",
    "\n",
    "res = []\n",
    "for byte in text_bytes:\n",
    "    res.append(byte.replace(\"\\n\", \"\")) #deletes all reutuns and pushes characters in string\n",
    "\n",
    "print(textwrap.fill(''.join(res), 12))"
   ]
  },
  {
   "cell_type": "code",
   "execution_count": 556,
   "id": "cf861f45",
   "metadata": {},
   "outputs": [
    {
     "name": "stdout",
     "output_type": "stream",
     "text": [
      "49 49 49 49 51 51 51 51 52 52 52 52 49 49 49 49 49 50 50 50 52 52 52 52 49 49 49 50 50 50 50 50 50 32 32 49 51 49 52 52 50 50 50 50 50 49 49 49 51 52 52 52 52 50 50 50 51 49 49 49 32 52 52 52 52 52 52 51 51 51 51 49 50 50 52 52 52 51 51 51 51 51 51 32 50 50 49 49 49 49 49 49 51 51 32 52 50 51 49 49 49 49 49 49 50 50 50 32 32 51 51 51 49 49 52 52 52 52 52 52 "
     ]
    }
   ],
   "source": [
    "# string with encoding 'utf-8'\n",
    "arr = bytes(''.join(res), 'utf-8')\n",
    "\n",
    "for byte in arr:\n",
    "    print(byte, end=' ')"
   ]
  },
  {
   "cell_type": "code",
   "execution_count": 617,
   "id": "580beff0",
   "metadata": {},
   "outputs": [
    {
     "name": "stdout",
     "output_type": "stream",
     "text": [
      "뽨뽨뽨뽨윸윸윸윸쬠쬠쬠쬠\n",
      "뽨뽨뽨뽨뽨썐썐썐쬠쬠쬠쬠\n",
      "뽨뽨뽨썐썐썐썐썐썐紀紀뽨\n",
      "윸뽨쬠쬠썐썐썐썐썐뽨뽨뽨\n",
      "윸쬠쬠쬠쬠썐썐썐윸뽨뽨뽨\n",
      "紀쬠쬠쬠쬠쬠쬠윸윸윸윸뽨\n",
      "썐썐쬠쬠쬠윸윸윸윸윸윸紀\n",
      "썐썐뽨뽨뽨뽨뽨뽨윸윸紀쬠\n",
      "썐윸뽨뽨뽨뽨뽨뽨썐썐썐紀\n",
      "紀윸윸윸뽨뽨쬠쬠쬠쬠쬠쬠\n"
     ]
    }
   ],
   "source": [
    "texts = []\n",
    "# actual bytes in the the string\n",
    "for byte in arr:\n",
    "    texts.append(chr(byte*1000))\n",
    "\n",
    "texts2 = \"\".join(texts)\n",
    "print(textwrap.fill(texts2,12))"
   ]
  },
  {
   "cell_type": "markdown",
   "id": "68ccf92d",
   "metadata": {},
   "source": [
    "---\n",
    "Plotting the bytes on a graph using `matplotlib`"
   ]
  },
  {
   "cell_type": "code",
   "execution_count": 155,
   "id": "bf8df072",
   "metadata": {},
   "outputs": [],
   "source": [
    "#importing\n",
    "import numpy as np\n",
    "import matplotlib.pyplot as plt\n",
    "plt.style.use('ggplot')"
   ]
  },
  {
   "cell_type": "code",
   "execution_count": 382,
   "id": "30e0f0f7",
   "metadata": {},
   "outputs": [
    {
     "data": {
      "image/png": "[encoded data removed]",
      "text/plain": [
       "<Figure size 2000x1000 with 1 Axes>"
      ]
     },
     "metadata": {},
     "output_type": "display_data"
    }
   ],
   "source": [
    "#plotting\n",
    "plt.figure(figsize=(20, 10))\n",
    "plt.plot(np.frombuffer(text_bytes, dtype=np.uint8))\n",
    "plt.ylabel('byte value')\n",
    "plt.xlabel('index')\n",
    "plt.show()"
   ]
  },
  {
   "cell_type": "markdown",
   "id": "ea7754cc",
   "metadata": {},
   "source": [
    "### MANIPULATING TEXT FILES AS IMAGES\n",
    "\n",
    "Install Pillow"
   ]
  },
  {
   "cell_type": "code",
   "execution_count": 166,
   "id": "fd509907",
   "metadata": {},
   "outputs": [
    {
     "name": "stdout",
     "output_type": "stream",
     "text": [
      "Collecting package metadata (current_repodata.json): done\n",
      "Solving environment: done\n",
      "\n",
      "## Package Plan ##\n",
      "\n",
      "  environment location: /Users/chengzixin/opt/anaconda3\n",
      "\n",
      "  added / updated specs:\n",
      "    - pillow\n",
      "\n",
      "\n",
      "The following packages will be downloaded:\n",
      "\n",
      "    package                    |            build\n",
      "    ---------------------------|-----------------\n",
      "    conda-23.1.0               |   py39hecd8cb5_0         938 KB\n",
      "    ruamel.yaml-0.17.21        |   py39hca72f7f_0         179 KB\n",
      "    ruamel.yaml.clib-0.2.6     |   py39hca72f7f_1         126 KB\n",
      "    ------------------------------------------------------------\n",
      "                                           Total:         1.2 MB\n",
      "\n",
      "The following NEW packages will be INSTALLED:\n",
      "\n",
      "  ruamel.yaml        pkgs/main/osx-64::ruamel.yaml-0.17.21-py39hca72f7f_0 None\n",
      "  ruamel.yaml.clib   pkgs/main/osx-64::ruamel.yaml.clib-0.2.6-py39hca72f7f_1 None\n",
      "\n",
      "The following packages will be UPDATED:\n",
      "\n",
      "  conda                               22.9.0-py39hecd8cb5_0 --> 23.1.0-py39hecd8cb5_0 None\n",
      "\n",
      "\n",
      "\n",
      "Downloading and Extracting Packages\n",
      "conda-23.1.0         | 938 KB    | ##################################### | 100% \n",
      "ruamel.yaml-0.17.21  | 179 KB    | ##################################### | 100% \n",
      "ruamel.yaml.clib-0.2 | 126 KB    | ##################################### | 100% \n",
      "Preparing transaction: done\n",
      "Verifying transaction: done\n",
      "Executing transaction: done\n",
      "Retrieving notices: ...working... done\n",
      "\n",
      "Note: you may need to restart the kernel to use updated packages.\n"
     ]
    }
   ],
   "source": [
    "conda install pillow #Using Anaconda"
   ]
  },
  {
   "cell_type": "code",
   "execution_count": 167,
   "id": "e4482737",
   "metadata": {},
   "outputs": [],
   "source": [
    "from PIL import Image, ImageOps, ImageFilter"
   ]
  },
  {
   "cell_type": "markdown",
   "id": "c06eb040",
   "metadata": {},
   "source": [
    "---\n",
    "Creating two-dimension by giving the byte strings a \"width\" value for the image\\\n",
    "`Image.frombytes` function takes a byte sequence and makes an image with it, using the provided dimensions"
   ]
  },
  {
   "cell_type": "code",
   "execution_count": 621,
   "id": "294ebcd0",
   "metadata": {},
   "outputs": [
    {
     "data": {
      "image/png": "[encoded data removed]",
      "text/plain": [
       "<PIL.Image.Image image mode=RGB size=153x214>"
      ]
     },
     "execution_count": 621,
     "metadata": {},
     "output_type": "execute_result"
    }
   ],
   "source": [
    "text_bytes = open(\"CLL_WK2_HW2.txt\", \"rb\").read()\n",
    "#setup canvas\n",
    "width =51 #arbitrary, adjust to taste\n",
    "padded_text_bytes = text_bytes + (b' ' * width * 3)\n",
    "height = int((len(padded_text_bytes) / 3) / (width))\n",
    "\n",
    "#plots bytes\n",
    "text_img = Image.frombytes('RGB', (width, height), padded_text_bytes) \n",
    "\n",
    "#rescaling canvas\n",
    "def show_scaled(img, scale=3): \n",
    "    return img.resize((img.width*scale, img.height*2))\n",
    "show_scaled(text_img)"
   ]
  },
  {
   "cell_type": "code",
   "execution_count": 306,
   "id": "e0b772dc",
   "metadata": {},
   "outputs": [],
   "source": [
    "text_bytes_2 = ''.join([chr(c*100) for c in text_bytes])\n",
    "#print(text_bytes_2)"
   ]
  },
  {
   "cell_type": "markdown",
   "id": "36aa9fdf",
   "metadata": {},
   "source": [
    "---\n",
    "Saving and loading the image as bytes again"
   ]
  },
  {
   "cell_type": "code",
   "execution_count": 297,
   "id": "366e1e2e",
   "metadata": {},
   "outputs": [
    {
     "name": "stdout",
     "output_type": "stream",
     "text": [
      "b\"              .ooooo.      ;aAAAAa:..  ..,aAAAAa.   .oOOOo.              ,oOOOOo;         IIIIIII                                YYYYYYYYYYYy;,..     \\n          :oOOOOOOOOOOOo:  .aAAAAAAAAAAAAAAAAAa.    :oOOOo:              ;oOOOOo;         IIIIIII      .\\xe2\\x80\\x99;oOOOOOOOo:,.           YYYYYYYYYYYYYYYYYYy:\\n        :OOOOOOOOOOOOOOOOo: .aAAAAAAAAAAAAAa:.      .oOOOOo.             :oOOOOo;         IIIIIII   .:oOOOOOOOOOOOOOOOOo.        YYYYYYYYYYYYYYYYYYYY\\n      :oOOOOOOOOOOOOOOOOOOOo:   \\xe2\\x80\\x99;:aAAAa:;\\xe2\\x80\\x99          .oOOOOo,           .oOOOOOo.         IIIIIII .oOOOOOOOOOOOOOOOOOOOOOo.            \\xe2\\x80\\x99\\xe2\\x80\\x99:yYYYYYYYYYY\\n     :oOOOOOo.      .oOOOOOOo:                        .oOOOOo;         ,oOOOOOo'                 ,oOOOOOOo:'.....';oOOOOOOo'                    .,yYY\\n    :oOOOOo.          .oOOOOo.           .. ,,,..     \\xe2\\x80\\x98oOOOOOOOo;,\\xe2\\x80\\x99,;oOOOOOOo'                  'oOOOOo,             .:oOOOOo.            .;:yYYYYYYY\\n    .oOOOo.            .oOOOOo.      .;aAAAAAAAAAAAAa, .oOOOOOOOOOOOOOOOOOOo.                   .oOOOOo.               :oOOOOo:       ..;yYYYYYYYYYYY\\n    .oOOOo.             .oOOOo.    .aAAAAAAAAAAAAAAAAAa. .:oOOOOOOOOOOOo:.                      .oOOOOo;               .oOOOo:   .,yYYYYYYYYYYYYYYy,.\\n    .oOOOo.             .oOOOo.   .aAAAAAAa;,,,;aAAAAAAa.    \\xe2\\x80\\x99;:OOOOO:\\xe2\\x80\\x99                         .oOOOOo:               ;oOOOo:   YYYYYYYYYYYYYy.     \\n    .oOOOo.            .oOOOOo.   .:aAAa.        .aAAAAa;                                        oOOOOo,              ;oOOOOo.   YYYYYYYYy.\\xe2\\x80\\x99         \\n   .tt.oOOOo.          .oOOOOo.      .'.          .aAAAAa:                                        .oOOOOOo,.        .,oOOOOOo.    YYYy.\\xe2\\x80\\x99          .tTT\\n .TTTTT:oOOOo:.      .;OOOOOo;           .,:aAAAAAAAAAAAAA                                         .oOOOOOOOOOOOOOOOOOOOOOo;TTTTTTT                \\xe2\\x80\\x98tT\\n,TTTTTT:OOOOOOOOOOOOOOOOOOOo:        .:aAAAAAAAAAAAAAAAAAA                                           ,oOOOOOOOOOOOOOOOOOOo, TTTTTTT                ,tT\\n;TTTTTT  :oOOOOOOOOOOOOOOo:       \\xe2\\x80\\x98aaAAAAAAAAAAAAAAAAAAAAA                                   ......   .;oOOOOOOOOOOOOoTTTTTTTTTTTTTTTTTTTTTTTTTTTTTTTT\\n;TTTTTT    :oOOOOOOOOOOo:        :aAAAAAAA.\\xe2\\x80\\x99\\xe2\\x80\\x99    \\xe2\\x80\\x98\\xe2\\x80\\x99aAAAAAA  IIIIIIIIIIIIIIIIIIIIIIIIIIII  IIIIIIIII         \\xe2\\x80\\x98\\xe2\\x80\\x99\\xe2\\x80\\x99\\xe2\\x80\\x99\\xe2\\x80\\x99\\xe2\\x80\\x99\\xe2\\x80\\x99\\xe2\\x80\\x99\\xe2\\x80\\x99.tTTTTTTTTTTTTTTTTTTTTTTTTTTTTTTT\\nTTTTTTTTTTT:  .oooooo.          ;aAAAAAAa.       .aAAAAAAA  IIIIIIIIIIIIIIIIIIIIIIIIIIII  IIIIIIIII                  . tTTTTTTTTTTTTTTTTTTTTTTTTTTTTTT\\nTTTTTTTTTTT:                    ;aAAAAAAa:.. ..,aAAAAAAAAA  IIIIIIIIIIIIIIIIIIIIIIIIIIII  IIIIIIIII                    'tTTTTTTTTTTTTTTTTTTTTTTTTTTTTT\\nTTTTTTTTTTT:.yyyyy.        .yyyyyy.aAAAAAAAAAAAAAAAAAAAAAA  IIIIIIIIIIIIIIIIIIIIIIIIIIII  IIIIIIIII                         TTTTTTT                   \\n;TTTTTT     \\xe2\\x80\\x98YYYYYY.      .YYYYYY.\\xe2\\x80\\x99aAAAAAAAAAAAAAAAAAAAAAA                   TTTTTTT                                        TTTTTTT                   \\n;TTTTTT      ;YYYYYY.    .YYYYYY;   ,aAAAAAAAAa,.   .:aAAA                   TTTTTTT                         IIIIIIIII  IIIIIIIIIIIIIIIIIIIIIIIIIIII   \\n;TTTTTT       ;YYYYYy.   .YYYYYY.                       .;.tTTTTTTTTTTTTTTTTTTTTTTTTTTt.                     IIIIIIIII  IIIIIIIIIIIIIIIIIIIIIIIIIIII \\n;TTTTTT       .yYYYYY.   :YYYYYy;                     .tTTTTTTTTTTTTTTTTTTTTTTTTTTTTTTTTt.                   IIIIIIIII  IIIIIIIIIIIIIIIIIIIIIIIIIIII  \\n;TTTTTT        .YYYYYY. .YYYYYY.                     .tTTTTTTTTTTTTTTTTTTTTTTTTTTTTTTTTTTTt.                 IIIIIIIII  IIIIIIIIIIIIIIIIIIIIIIIIIIII  \\n;TTTTTT.        ,YYYYYY.;YYYYYY;                     :tTTTTTTTTTTTTTTTTTTTTTTTTTTTTTTTTTTTtoOOOOOOOOo                                     \\n;TTTTTT.         YYYYYY..YYYYYy.                     .tTTTTt;                TTTTTTT :oOOOOOOOOOOOOOOOOOo.                                  .;ooooooo;\\n\\xe2\\x80\\x99tTTTTTTTTt,     .yYYYYYYYYYYy;                       .tTTTt,                TTTTTTToOOOOOOOOOOOOOOOOOOOOOo.                             .oOOOOOOOOOOo\\n \\xe2\\x80\\x98tTTTTTTTTt,     .yYYYYYYYYy.                                         .,yYYYY   ,oOOOOOo:\\xe2\\x80\\x99\\xe2\\x80\\x99      \\xe2\\x80\\x98\\xe2\\x80\\x99:oOOOOOo.                          .oOOOOOOOOOOOOO\\n  \\xe2\\x80\\x98TTTTTTTT.       \\xe2\\x80\\x98yYYYYYYy:           \\xe2\\x80\\x98.:;\\xe2\\x80\\x99.                    .,yYYYYYYYYY  ;oOOOOo;             .oOOOOOo;                       ,oOOOOOo:\\xe2\\x80\\x99\\xe2\\x80\\x99  \\xe2\\x80\\x98\\xe2\\x80\\x99:o\\n     .TTT.          ;yYYYYYy.          \\xe2\\x80\\x98yYYYYy.              .,yYYYYYYYYYYYYYY  :oOOOo:               .oOOOOo.   IIIIIII            ,oOOOOOo,         \\n                    .yYYYYy;           :yYYYYy.         .,:yYYYYYYYYYYYYYYYYY   ;oOOOo.               .oOOOOo:   IIIIIII           .oOOOOOo'          \\n                    .yYYYYy.           'yYYYYYYy\\xe2\\x80\\x99\\xe2\\x80\\xa6\\xe2\\x80\\x99:yYYYYYYYYYYYYYYYy:\\xe2\\x80\\x99         ;oOOOo.               .oOOOOo.   IIIIIII           ;oOOOOo;           \\n                  .,yYYYYy,             ;yYYYYYYYYYYYYYYYYYYYYYy:\\xe2\\x80\\x99.              .oOOOo:             ;oOOOOo,    IIIIIII           :oOOOOo:           \\n     IIIIIII  .yYYYYYYYYYy:               .yYYYYYYYYYYYYYYYYYYy;.                 .oOOOOOOo,..   ..'oOOOOOOo,    IIIIIII           :oOOOOo.           \\n     IIIIIII  ;yYYYYYYYYy;                   .;yYYYYYYYYYYYYYYYYYYYYYy;'..         .oOOOOOOOOOOOOOOOOOOOOo.                        .oOOOOOo\\xe2\\x80\\x99          \\n     IIIIIII  ,yYYYYYYy:.                         ..';yYYYYYYYYYYYYYYYYYYYYYYY       .oOOOOOOOOOOOOOOOOOo.       IIIIIII            \\xe2\\x80\\x98oOOOOOOo,,,   ,,,\\n     IIIIIII   .yyy.       .....................        ..,:yYYYYYYYYYYYYYYYYY             \\xe2\\x80\\x98ooooooo\\xe2\\x80\\x99             IIIIIII     TTTTTTT:;oOOOOOOOOOOOOOOo\\n     IIIIIII           .;aAAAAAAAAAAAAAAAAAAAAAAAa,               ..,:yYYYYYYY                                   IIIIIII     TTTTTTT  .oOOOOOOOOOOOOOO\\n     IIIIIII          ;aAAAAAAAAAAAAAAAAAAAAAAAa.                      ;aAAAAAa:,                                IIIIIII     TTTTTTT     :oOOOOOOOOOOO\\n     IIIIIII         ;aAAAAAAAAAAAAAAAAAAAAAAAa.                     .aAAAAAAAAAAa;      .;a;.                   IIIIIII TTTTTTTTTTTTTTTT    \\xe2\\x80\\x98;OOOOO;\\xe2\\x80\\x99\\n     IIIIIII        .aAAAAa.  .aAAAa. ..aAAAAa\\xe2\\x80\\x99                     .aAAAAAAAAAAAAAa.   .aAAAAa.                 IIIIIII TTTTTTTTTTTTTTTT             \\nTTT  IIIIIII        :aAAAa.   .aAAAa.    .aAAAa\\xe2\\x80\\x99                    aAAAAAAAAAAAAAAAa.  .aAAAAAa.                IIIIIII TTTTTTTTTTTTTTTT             \\nTTT  IIIIIII        :aAAAa.    ;aAAa;     ;aAAAa.                  .aAAAAAAa.  .aAAAa:    .aAAAAa.               IIIIIII     TTTTTTT     .yYYYYYy,    \\nTTT  IIIIIII        .aAAA\\xe2\\x80\\x99a    .aAAAa.    \\xe2\\x80\\x98aAAAAa                  .aAAAAAa,    .aAAAa.    'aAAAa,               IIIIIII     TTTTTTT      .yYYYYYy\\xe2\\x80\\x99   \\nTTT  IIIIIII        .aAAAAa.    ;aAAAa.  .aAAAAAa.                  ;aAAAa;     ;aAAAa,    .aAAAa;               IIIIIII     TTTTTTT       .yYYYYYy.  \\n     IIIIIII         .aAAAAAa.  .aAAAAAAAAAAAAAAa                    ;aAAAAa.    .aAAAa.   .aAAAa;               IIIIIII     TTTTTTT        .yYYYYYy. \\n     IIIIIII          .aAAAAa,   .aAAAAAAAAAAAAa.                     ;aAAAAa,   .aAAAa.  .aAAAAa'      .yYYy.   IIIIIII     TTTTTTT         ;yYYYYYY \\n                         .:Aa.     .aAAAAAAAAAAa.                     .:aAAAAAAAAAAAAAAAAAAAAAAAa.    'yYYYYYYYy IIIIIII     TTTTTTT          :yYYYYYY\\n     IIIIIII                         .,aAAAAAa,                      .aAAAAAAAAAAAAAAAAAAAAAAAAAa.  .yYYYYYYYYYy IIIIIII     tTTTTTt:         .yYYYYYY\\n     IIIIIII                              ,yYYYYy;\\xe2\\x80\\x99..                ;aAAAAAAAAAAAAAAAAAAAAAAAa.   .yYYYYYYYYYy. IIIIIII     tTTTTTTt.  .t     .yYYYYY\\n     IIIIIII       .;oOOOOOOOo:,.         'yYYYYYYYYYYYYy;'..           .....................     .yYYYYYy,.                  tTTTTTTTTTTt;      .yYYY\\n     IIIIIII   .,oOOOOOOOOOOOOOOOo:.      . yYYYYYYYYYYYYYYYYYYYy;'..                             ;yYYYYy.                     \\xe2\\x80\\x99tTTTTTTTTt.       .yYY\\n     IIIIIII  ;oOOOOOOOOOOOOOOOOOOOOo.        .,:yYYYYYYYYYYYYYYYYYYYYYy:'.                      .yYYYYYy                       .;tTTTTTt:         \\xe2\\x80\\x98yY\\n             ;oOOOOOo,..   ..\\xe2\\x80\\x99:oOOOOOo.                 ':yYYYYYYYYYYYYYYYYYy,                   :yYYYYYy,          .ttt.           \\xe2\\x80\\x99\\xe2\\x80\\x99\\xe2\\x80\\x99             ,y\\n            ;oOOOOo;            ,oOOOOo.            ..;yYYYYYYYYYYYYYYYYYYYYYYy.                .yYYYYYYy.         tTTTTTTt:.                       ;y\\n           .oOOOOo,              ,oOOOo,       .':yYYYYYYYYYYYYYYy,...,yYYYYYYYy.               :yYYYYYYYy.       .tTTTTTTTTt\\xe2\\x80\\x99                      \\xe2\\x80\\x98y\\n           .oOOOo,               .oOOOo;    :yYYYYYYYYYYYYy,.           ,yYYYYYy,              .yYYYYYYYYYy,      \\xe2\\x80\\x99tTTTTTTTTTt                   ..:yY\\n           .oOOOOo.              ,oOOOo,    YYYYYYYYYYYy,.              .yYYYYYy.              :yYYYYYYYYYYy;          TTTTTTT      IIIIIII   yYYYYYYY\\n           .oOOOOo:.            ,oOOOOo.    YYYYYy:\\xe2\\x80\\x99.                    .,;YYY\\xe2\\x80\\x99              .yYYYYy.'yYYYYy'         TTTTTTT      IIIIIII  \\xe2\\x80\\x98yYYYYYYY\\n            .oOOOOOOo,..   ..,oOOOOOOo:     y:.            .t.                                :yYYYy:  ;yYYYYy.        TTTTTTT      IIIIIII  ,yYYYYYYY\\n              ,oOOOOOOOOOOOOOOOOOOOo.TTTTTTT               ;tTTTt.                           .yYYYYy.   ;yYYYYy.       TTTTTTT      IIIIIII    \\xe2\\x80\\x98YYYY\\xe2\\x80\\x99 \\n                ,oOOOOOOOOOOOOOOOo;  TTTTTTT              .tTTTTt; .a.         .aaaaaa.      .yYYYYy.   .yYYYYy:       TTTTTTT      IIIIIII           \\nIII  IIIIIIIII     .:oOOOOOOOotTTTTTTTTTTTTTTTTTTTTTTTTTTTTTTTTTTt aAAAa.  .;aAAAAAAAAAAa.  .yYYYYy.     .yYYYYy;      TTTTTTT      IIIIIII           \\nIII  IIIIIIIII               ;tTTTTTTTTTTTTTTTTTTTTTTTTTTTTTTTTt. AAAAAAAAAAAAAAAAAAAAAAAa..yYYYYYy.      ,yYYYYy'     TTTTTTT      IIIIIII           \\nIII  IIIIIIIII                 \\xe2\\x80\\x98tTTTTTTTTTTTTTTTTTTTTTTTTTTTTTt:  AAAAAAAAAAAAAAAAAAAAAAAAa;yYYYYy\\xe2\\x80\\x99        :yYYYYy.    TTTTTTT      IIIIIII           \\nIII  IIIIIIIII                   .;tTTTTTTTTTTTTTTTTTTTTTTTt'.    AAAAAAAAa;\\xe2\\x80\\x99      .aAAAAAAa;                     TTTTTTTTTTTTTTTTT IIIIIII           \\n                                     TTTTTTT                      AAAAAAA,          ;aAAAAAa:                     TTTTTTTTTTTTTTTTT IIIIIII           \\n                                     TTTTTTT                      aAAAAAa.     ..,aAAAAAAAa.        .,ooooooooooo,TTTTTTTTTTTTTTTTT IIIIIII           \\nt.                 IIIIIIIII  IIIIIIIIIIIIIIIIIIIIIIIIIIII        :aAAAAAAAAAAAAAAAAAAAa'        .oOOOOOOOOOOOOOOOOo,  TTTTTTT      IIIIIII           \\nTt.                IIIIIIIII  IIIIIIIIIIIIIIIIIIIIIIIIIIII        .aAAAAAAAAAAAAAAAAa,.         .oOOOOOOOOOOOOOOOOOOo: TTTTTt;      IIIIIII           \\nTTt;.              IIIIIIIII  IIIIIIIIIIIIIIIIIIIIIIIIIIII        .aAAAAAAAaa;\\xe2\\x80\\x99\\xe2\\x80\\x99               .oOOOOOo.\\xe2\\x80\\x99\\xe2\\x80\\x99\\xe2\\x80\\x99\\xe2\\x80\\x99\\xe2\\x80\\x99\\xe2\\x80\\x99.oOOOOOo.TTTt;\\xe2\\x80\\x99       IIIIIII           \\nTTTt;oooooooo:,.   IIIIIIIII  IIIIIIIIIIIIIIIIIIIIIIIIIIII        .aAAAAa.           ,a.      .oOOOo;          .oOOOOOoTTt\\xe2\\x80\\x99         IIIIIII           \\n .oOOOOOOOOOOOOOOo,                                    ......      .aAAAAa.       .,aAAAa\\xe2\\x80\\x99    ;oOOOo;           .oOOOOOo.                             \\noOOOOOOOOOOOOOOOOOOo.                             .,oOOOOOOOOOo:.   ,aAAAAAAAAAAAAAAAAAAa.    :oOOOo'             ;oOOOo;           IIIIIII           \\nOOo:.\\xe2\\x80\\x99\\xe2\\x80\\x99\\xe2\\x80\\x99\\xe2\\x80\\x99\\xe2\\x80\\x99\\xe2\\x80\\x99\\xe2\\x80\\x99\\xe2\\x80\\x99.oOOOOOOo,                         .oOOOOOOOOOOOOOOOo'  .aAAAAAAAAAAAAAAAAa;.    :oOOOo'             ,oOOOo:           IIIIIII           \\no.             .oOOOOo.                        ;oOOOOOOOOOOOOOOOOOOo. .;aAAAAAAAAAAa;.        ,oOOOo:             :oOOOo,           IIIIIII      .,ooo\\n.               .oOOOo:    IIIIIIII           :oOOOOo,       .oOOOOOo.                        .oOOOOo.           .oOOOOo.           IIIIIII   .oOOOOOO\\n.                .oOOo:    IIIIIIII          \\xe2\\x80\\x98oOOOOo;          ,oOOOOo;                        'oOOOOo:.       .;oOOOOo,            IIIIIII .oOOOOOOOO\\n:               \\xe2\\x80\\x98oOOOo;    IIIIIIII          .oOOOo;            ,oOOOo.         .;aaaaaaaaaa;.  .oOOOOOOOo:.:oOOOOOOOo;                    .oOOOOOOo;'\\nOo;.           ;oOOOOo.    IIIIIIII         .oOOOo;             ;oOOOo.      .:aAAAAAAAAAAAAAAa:..:oOOOOOOOOOOOOOOOOo.                    .oOOOOOo.   \\nOOOOOo;,..,;oOOOOOOOo.     IIIIIIII         .oOOOo;             ;oOOOo.     ,aAAAAAAAAAAAAAAAAAAa. .:oOOOOOOOOOOOo:.                      ,oOOOOo.    \\noOOOOOOOOOOOOOOOOOo;                        .oOOOOo.            ;oOOOo.    .aAAAAAa;.     .,aAAAAa;    \\xe2\\x80\\x98oOOOOOO\\xe2\\x80\\x99                          ;oOOOOo.     \\n'oOOOOOOOOOOOOOOo'         IIIIIIII       .tTT.oOOOo.          :oOOOo:        \\xe2\\x80\\x98aAAA,       \\xe2\\x80\\x98aAAAAa.                                       .oOOOOo.    \\n   .oOOOOOOOOo.            IIIIIIII      ,tTTT.oOOOOo.      .,oOOOOOo.               ....,;aAAAAAa.                                       .oOOOOOo.   \\n                           IIIIIIII    \\xe2\\x80\\x98;tTTTT .oOOOOOOOOOOOOOOOOOOo.         .;aaAAAAAAAAAAAAAAAAA                                        .oOOOOOOo,.\\n      ..                   IIIIIIII    TTTTTTT  :oOOOOOOOOOOOOOOOOo.       .;aaAAAAAAAAAAAAAAAAAAAA                                          ;oOOOOOOO\\n    .AAAA,                 IIIIIIII TTTTTTTTTTTTTTT \\xe2\\x80\\x98OOOOOOOOOO\\xe2\\x80\\x99         .aAAAAAAAAa:,\\xe2\\x80\\x99\\xe2\\x80\\x99\\xe2\\x80\\x99\\xe2\\x80\\x99\\xe2\\x80\\x99\\xe2\\x80\\x99aAAAAAA                                           .;oOOOOO\\n.   aAAAAAa.               IIIIIIII TTTTTTTTTTTTTTT                     .aAAAAAAa;         ;aAAAAAA  IIIIIIIIIIIIIIIIIIIIIIIIIIII  IIIIIIIII     \\xe2\\x80\\x99OOOO\\na.   'aAAAAa.              IIIIIIII TTTTTTTTTTTTTTT                     .aAAAAAAa,       .:aAAAAAAA  IIIIIIIIIIIIIIIIIIIIIIIIIIII  IIIIIIIII        \\na:    .aAAAa:              IIIIIIII    TTTTTTT    .YYYYYY,        :YYYYYY;aAAAAAAAAAAa::aAAAAAAAAAA  IIIIIIIIIIIIIIIIIIIIIIIIIIII  IIIIIIIII         \\nAa.    ;aAAAa              IIIIIIII    TTTTTTT     .yYYYYy.      .yYYYYy,;aAAAAAAAAAAAAAAAAAAAAAAAA  IIIIIIIIIIIIIIIIIIIIIIIIIIII  IIIIIIIII         \\nAa\\xe2\\x80\\x99    ,aAAAa              IIIIIIII    TTTTTTT      ,yYYYYy.     :yYYYYy; .;aAAAAAAAAAAAAa, .;aAAAA                  .......                          \\nAA;    aAAAAa              IIIIIIII    TTTTTTT       :yYYYYy.   .yYYYYy;      .:aAAAa;.      ,aAAAA                  TTTTTTT                          \\nAAA::AAAAAAa\\xe2\\x80\\x99    .;yyyyy;. IIIIIIII    TTTTTTT       .yYYYYy;   ;yYYYy:                          .;tTTTTTTTTTTTTTTTTTTTTTTTTTTt.                      \\nAAAAAAAAAAa:   .yYYYYYYYy: IIIIIIII    TTTTTTT        .yYYYYy. .yYYYYy.                       .tTTTTTTTTTTTTTTTTTTTTTTTTTTTTTTTt,                    II\\nAAAAAAAAAa'   ,yYYYYYYYYy. IIIIIIII    tTTTTTT         ,yYYYYy.;yYYYy:                       .tTTTTTTTTTTTTTTTTTTTTTTTTTTTTTTTTTTt;                  II\\nAAAAAaa\\xe2\\x80\\x99.    \\xe2\\x80\\x98yYYYYYy:;.   IIIIIIII    .TTTTTT;...      :yYYYYYYYYYYy.                       .tTTTTTTTTTTTTTTTTTTTTTTTTTTTTTTTTTTTt .ooooooo.        II\\n            .yYYYYy;                   .tTTTTTTTTt;     .yYYYYYYYYYYy.                       .tTTTTt.                TTTTTTT   .oOOOOOOOOOOOOOOOo.   II\\n            ;yYYYYy.                    .tTTTTTTTt.      .yYYYYYYYYy.                         \\xe2\\x80\\x99tTTTt.                TTTTTTT :oOOOOOOOOOOOOOOOOOOOo:   \\n           .yYYYYYy.                      .:tTTTt:        ,yYYYYYYy:             .y,                              .,y\\xe2\\x80\\x99\\xe2\\x80\\x99\\xe2\\x80\\x99\\xe2\\x80\\x99\\xe2\\x80\\x99\\xe2\\x80\\x99\\xe2\\x80\\x99oOOOOOOOOOOOOOOOOOOOOOOOo. \\n           ;yYYYYYYy.       .:tttt:.                       .yYYYYYy.            .yYYYy;                      .;yYYYYY     'oOOOOOo'           \\xe2\\x80\\x98oOOOOOo;\\n          .yYYYYYYYy:       :TTTTTTTT;                     .yYYYYy:             ,yYYYYy.               .': yYYYYYYYYY    ,oOOOOo:               ;oOOOOo\\n          ;yYYYYYYYYy,      tTTTTTTTTt;                    ,yYYYYy.             :yYYYYy:          ., yYYYYYYYYYYYYYYY    .oOOOOo.                :oOOOO\\n         .yYYYYYYYYYYy.     .\\xe2\\x80\\x99.\\xe2\\x80\\x99tTTTTTT                ...:yYYYYy;              .yYYYYYYy:\\xe2\\x80\\x99..,: yYYYYYYYYYYYYYYYYy;.     .oOOOOo.                .oOOOO\\n        .yYYYYy;\\xe2\\x80\\x99yYYYYy.        ,TTTTTT    IIIIIIII  \\xe2\\x80\\x98yYYYYYYYYYy                . yYYYYYYYYYYYYYYYYYYYYYYYy,.           \\xe2\\x80\\x98oOOOOo,                ;oOOOO\\n        .yYYYYy. :yYYYy.        ,TTTTTT    IIIIIIII  yYYYYYYYYYy                   'yYYYYYYYYYYYYYYYYYYy'                 'oOOOOo;              ;oOOOOo\\n.       ;yYYYy:  .yYYYYy.       ,TTTTTT    IIIIIIII  .YYYYYYYY:                      .: yYYYYYYYYYYYYYYYYy,.               .oOOOOo.            ;oOOOOOo                                                                                                                   \"\n"
     ]
    }
   ],
   "source": [
    "text_img.save(\"text_img.png\") #save the image created\n",
    "loaded = Image.open(\"text_img.png\") #load image\n",
    "img_bytes = loaded.tobytes() #reloading image bytes gives the same result\n",
    "print(img_bytes)"
   ]
  }
 ],
 "metadata": {
  "kernelspec": {
   "display_name": "Python 3 (ipykernel)",
   "language": "python",
   "name": "python3"
  },
  "language_info": {
   "codemirror_mode": {
    "name": "ipython",
    "version": 3
   },
   "file_extension": ".py",
   "mimetype": "text/x-python",
   "name": "python",
   "nbconvert_exporter": "python",
   "pygments_lexer": "ipython3",
   "version": "3.9.13"
  }
 },
 "nbformat": 4,
 "nbformat_minor": 5
}
