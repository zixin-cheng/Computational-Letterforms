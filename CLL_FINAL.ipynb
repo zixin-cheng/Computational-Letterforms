{
 "cells": [
  {
   "cell_type": "code",
   "execution_count": 4,
   "id": "8a4b86e9",
   "metadata": {},
   "outputs": [
    {
     "name": "stdout",
     "output_type": "stream",
     "text": [
      "Collecting pypinyin\n",
      "  Downloading pypinyin-0.48.0-py2.py3-none-any.whl (1.4 MB)\n",
      "\u001b[2K     \u001b[90m━━━━━━━━━━━━━━━━━━━━━━━━━━━━━━━━━━━━━━━━\u001b[0m \u001b[32m1.4/1.4 MB\u001b[0m \u001b[31m9.5 MB/s\u001b[0m eta \u001b[36m0:00:00\u001b[0mta \u001b[36m0:00:01\u001b[0m\n",
      "\u001b[?25hInstalling collected packages: pypinyin\n",
      "Successfully installed pypinyin-0.48.0\n",
      "Note: you may need to restart the kernel to use updated packages.\n"
     ]
    }
   ],
   "source": [
    "pip install pypinyin"
   ]
  },
  {
   "cell_type": "code",
   "execution_count": 1,
   "id": "dac13056",
   "metadata": {},
   "outputs": [],
   "source": [
    "from pypinyin import pinyin, lazy_pinyin, Style\n",
    "import random\n",
    "import math\n",
    "import ipywidgets as widgets\n",
    "from IPython.display import display\n",
    "import numpy as np"
   ]
  },
  {
   "cell_type": "code",
   "execution_count": 4,
   "id": "75a04fd4",
   "metadata": {
    "scrolled": true
   },
   "outputs": [
    {
     "data": {
      "text/plain": [
       "['无',\n",
       " '言',\n",
       " '独',\n",
       " '上',\n",
       " '西',\n",
       " '楼',\n",
       " '，',\n",
       " '月',\n",
       " '如',\n",
       " '钩',\n",
       " '，',\n",
       " '寂',\n",
       " '寞',\n",
       " '梧',\n",
       " '桐',\n",
       " '深',\n",
       " '院',\n",
       " '锁',\n",
       " '清',\n",
       " '秋',\n",
       " '。',\n",
       " '剪',\n",
       " '不',\n",
       " '断',\n",
       " '，',\n",
       " '理',\n",
       " '还',\n",
       " '乱',\n",
       " '，',\n",
       " '是',\n",
       " '离',\n",
       " '愁',\n",
       " '，',\n",
       " '别',\n",
       " '是',\n",
       " '一',\n",
       " '般',\n",
       " '滋',\n",
       " '味',\n",
       " '在',\n",
       " '心',\n",
       " '头',\n",
       " '。']"
      ]
     },
     "execution_count": 4,
     "metadata": {},
     "output_type": "execute_result"
    }
   ],
   "source": [
    "src = '''无言独上西楼，月如钩，寂寞梧桐深院锁清秋。剪不断，理还乱，是离愁，别是一般滋味在心头。'''\n",
    "hanzis = []\n",
    "hanzis = list(src)\n",
    "letters = src.split()\n",
    "hanzis"
   ]
  },
  {
   "cell_type": "code",
   "execution_count": 5,
   "id": "eb2a8af1",
   "metadata": {
    "scrolled": true
   },
   "outputs": [
    {
     "data": {
      "text/plain": [
       "['wú',\n",
       " 'yán',\n",
       " 'dú',\n",
       " 'shàng',\n",
       " 'xī',\n",
       " 'lóu',\n",
       " '，',\n",
       " 'yuè',\n",
       " 'rú',\n",
       " 'gōu',\n",
       " '，',\n",
       " 'jì',\n",
       " 'mò',\n",
       " 'wú',\n",
       " 'tóng',\n",
       " 'shēn',\n",
       " 'yuàn',\n",
       " 'suǒ',\n",
       " 'qīng',\n",
       " 'qiū',\n",
       " '。',\n",
       " 'jiǎn',\n",
       " 'bù',\n",
       " 'duàn',\n",
       " '，',\n",
       " 'lǐ',\n",
       " 'hái',\n",
       " 'luàn',\n",
       " '，',\n",
       " 'shì',\n",
       " 'lí',\n",
       " 'chóu',\n",
       " '，',\n",
       " 'bié',\n",
       " 'shì',\n",
       " 'yì',\n",
       " 'bān',\n",
       " 'zī',\n",
       " 'wèi',\n",
       " 'zài',\n",
       " 'xīn',\n",
       " 'tóu',\n",
       " '。']"
      ]
     },
     "execution_count": 5,
     "metadata": {},
     "output_type": "execute_result"
    }
   ],
   "source": [
    "# pinyins = []\n",
    "show_pinyin = pinyin(src)\n",
    "pinyins = [inner[0] for inner in show_pinyin]\n",
    "pinyins"
   ]
  },
  {
   "cell_type": "code",
   "execution_count": 10,
   "id": "77c71dbf",
   "metadata": {
    "scrolled": true
   },
   "outputs": [
    {
     "data": {
      "text/plain": [
       "[['ㄨˊ'],\n",
       " ['ㄧㄢˊ'],\n",
       " ['ㄉㄨˊ'],\n",
       " ['ㄕㄤˋ'],\n",
       " ['ㄒㄧ'],\n",
       " ['ㄌㄡˊ'],\n",
       " ['，'],\n",
       " ['ㄩㄝˋ'],\n",
       " ['ㄖㄨˊ'],\n",
       " ['ㄍㄡ'],\n",
       " ['，'],\n",
       " ['ㄐㄧˋ'],\n",
       " ['ㄇㄛˋ'],\n",
       " ['ㄨˊ'],\n",
       " ['ㄊㄨㄥˊ'],\n",
       " ['ㄕㄣ'],\n",
       " ['ㄩㄢˋ'],\n",
       " ['ㄙㄨㄛˇ'],\n",
       " ['ㄑㄧㄥ'],\n",
       " ['ㄑㄧㄡ'],\n",
       " ['。'],\n",
       " ['ㄐㄧㄢˇ'],\n",
       " ['ㄅㄨˋ'],\n",
       " ['ㄉㄨㄢˋ'],\n",
       " ['，'],\n",
       " ['ㄌㄧˇ'],\n",
       " ['ㄏㄞˊ'],\n",
       " ['ㄌㄨㄢˋ'],\n",
       " ['，'],\n",
       " ['ㄕˋ'],\n",
       " ['ㄌㄧˊ'],\n",
       " ['ㄔㄡˊ'],\n",
       " ['，'],\n",
       " ['ㄅㄧㄝˊ'],\n",
       " ['ㄕˋ'],\n",
       " ['ㄧˋ'],\n",
       " ['ㄅㄢ'],\n",
       " ['ㄗ'],\n",
       " ['ㄨㄟˋ'],\n",
       " ['ㄗㄞˋ'],\n",
       " ['ㄒㄧㄣ'],\n",
       " ['ㄊㄡˊ'],\n",
       " ['。']]"
      ]
     },
     "execution_count": 10,
     "metadata": {},
     "output_type": "execute_result"
    }
   ],
   "source": [
    "show_zhuyin = pinyin(src, style=Style.BOPOMOFO) \n",
    "show_zhuyin"
   ]
  },
  {
   "cell_type": "code",
   "execution_count": 13,
   "id": "5c783268",
   "metadata": {
    "scrolled": true
   },
   "outputs": [
    {
     "data": {
      "text/plain": [
       "['ㄨˊ',\n",
       " 'ㄧㄢˊ',\n",
       " 'ㄉㄨˊ',\n",
       " 'ㄕㄤˋ',\n",
       " 'ㄒㄧ',\n",
       " 'ㄌㄡˊ',\n",
       " '，',\n",
       " 'ㄩㄝˋ',\n",
       " 'ㄖㄨˊ',\n",
       " 'ㄍㄡ',\n",
       " '，',\n",
       " 'ㄐㄧˋ',\n",
       " 'ㄇㄛˋ',\n",
       " 'ㄨˊ',\n",
       " 'ㄊㄨㄥˊ',\n",
       " 'ㄕㄣ',\n",
       " 'ㄩㄢˋ',\n",
       " 'ㄙㄨㄛˇ',\n",
       " 'ㄑㄧㄥ',\n",
       " 'ㄑㄧㄡ',\n",
       " '。',\n",
       " 'ㄐㄧㄢˇ',\n",
       " 'ㄅㄨˋ',\n",
       " 'ㄉㄨㄢˋ',\n",
       " '，',\n",
       " 'ㄌㄧˇ',\n",
       " 'ㄏㄞˊ',\n",
       " 'ㄌㄨㄢˋ',\n",
       " '，',\n",
       " 'ㄕˋ',\n",
       " 'ㄌㄧˊ',\n",
       " 'ㄔㄡˊ',\n",
       " '，',\n",
       " 'ㄅㄧㄝˊ',\n",
       " 'ㄕˋ',\n",
       " 'ㄧˋ',\n",
       " 'ㄅㄢ',\n",
       " 'ㄗ',\n",
       " 'ㄨㄟˋ',\n",
       " 'ㄗㄞˋ',\n",
       " 'ㄒㄧㄣ',\n",
       " 'ㄊㄡˊ',\n",
       " '。']"
      ]
     },
     "execution_count": 13,
     "metadata": {},
     "output_type": "execute_result"
    }
   ],
   "source": [
    "show_zhuyin = pinyin(src, style=Style.BOPOMOFO) \n",
    "zhuyins = [inner[0] for inner in show_zhuyin]\n",
    "zhuyins"
   ]
  },
  {
   "cell_type": "code",
   "execution_count": 25,
   "id": "f9a14f13",
   "metadata": {
    "scrolled": true
   },
   "outputs": [
    {
     "name": "stdout",
     "output_type": "stream",
     "text": [
      "ㄨˊㄧㄢˊㄉㄨˊㄕㄤˋㄒㄧㄌㄡˊ，ㄩㄝˋㄖㄨˊㄍㄡ，ㄐㄧˋㄇㄛˋㄨˊㄊㄨㄥˊㄕㄣㄩㄢˋㄙㄨㄛˇ清ㄑㄧㄡ。ㄐㄧㄢˇㄅㄨˋㄉㄨㄢˋ，理还ㄌㄨㄢˋ，ㄕˋㄌㄧˊㄔㄡˊ，ㄅㄧㄝˊㄕˋㄧˋ般ㄗㄨㄟˋ在ㄒㄧㄣ头。\n"
     ]
    }
   ],
   "source": [
    "outcome = []\n",
    "for i in range(len(src)):\n",
    "    options = [hanzis[i], pinyins[i], zhuyins[i]]\n",
    "    weights = [19, 1, 80]\n",
    "    selected = random.choices(options, weights = weights)[0]\n",
    "    outcome.append(selected)\n",
    "print(''.join(outcome))"
   ]
  },
  {
   "cell_type": "code",
   "execution_count": 31,
   "id": "a3c751ab",
   "metadata": {
    "scrolled": false
   },
   "outputs": [
    {
     "data": {
      "application/vnd.jupyter.widget-view+json": {
       "model_id": "4bb0574028df45e79b1062f2f6b8861e",
       "version_major": 2,
       "version_minor": 0
      },
      "text/plain": [
       "Text(value='', description='your name', placeholder='type something...')"
      ]
     },
     "metadata": {},
     "output_type": "display_data"
    }
   ],
   "source": [
    "text_input = widgets.Text(\n",
    "    description=\"your name\",\n",
    "    placeholder=\"type something...\")\n",
    "display(text_input)"
   ]
  },
  {
   "cell_type": "code",
   "execution_count": 105,
   "id": "45536d54",
   "metadata": {},
   "outputs": [
    {
     "data": {
      "text/plain": [
       "'无言独上西楼'"
      ]
     },
     "execution_count": 105,
     "metadata": {},
     "output_type": "execute_result"
    }
   ],
   "source": [
    "text_input.value"
   ]
  },
  {
   "cell_type": "code",
   "execution_count": 55,
   "id": "cf9e574e",
   "metadata": {},
   "outputs": [
    {
     "name": "stdout",
     "output_type": "stream",
     "text": [
      "wúyánㄉㄨˊㄕㄤˋㄒㄧlóu\n"
     ]
    }
   ],
   "source": [
    "def disp_text(src = \"\", hanzi_num = 0, pinyin_num = 20, zhuyin_num = 60):\n",
    "    src = \"无言独上西楼\"\n",
    "    hanzis = []\n",
    "    hanzis = list(src)\n",
    "    letters = src.split()\n",
    "\n",
    "    show_pinyin = pinyin(src)\n",
    "    pinyins = [inner[0] for inner in show_pinyin]\n",
    "\n",
    "    show_zhuyin = pinyin(src, style=Style.BOPOMOFO) \n",
    "    zhuyins = [inner[0] for inner in show_zhuyin]\n",
    "\n",
    "    # text_input = \"无言独上西楼\"\n",
    "#     hanzi_num = 10\n",
    "#     pinyin_num = 20\n",
    "#     zhuyin_num = 40\n",
    "    \n",
    "    outcome = []\n",
    "    for i in range(len(src)):\n",
    "        options = [hanzis[i], pinyins[i], zhuyins[i]]\n",
    "        weights = [hanzi_num, pinyin_num, zhuyin_num]\n",
    "        selected = random.choices(options, weights = weights)[0]\n",
    "        outcome.append(selected)\n",
    "    print(''.join(outcome))\n",
    "\n",
    "disp_text(\"无言独上西楼\",0,20,40)"
   ]
  },
  {
   "cell_type": "code",
   "execution_count": 68,
   "id": "a17c2648",
   "metadata": {},
   "outputs": [
    {
     "data": {
      "application/vnd.jupyter.widget-view+json": {
       "model_id": "d9a8a01c686747e5bdac396affaf3de8",
       "version_major": 2,
       "version_minor": 0
      },
      "text/plain": [
       "HBox(children=(Text(value='', description='your name', placeholder='type something...'), IntSlider(value=33, d…"
      ]
     },
     "metadata": {},
     "output_type": "display_data"
    }
   ],
   "source": [
    "text_input = widgets.Text(\n",
    "    description=\"your name\",\n",
    "    placeholder=\"type something...\")\n",
    "\n",
    "int_slider1 = widgets.IntSlider(\n",
    "    description=\"Hanzi\",\n",
    "    value=33,\n",
    "    min=0,\n",
    "    max=100)\n",
    "\n",
    "int_slider2 = widgets.IntSlider(\n",
    "    description=\"Pinyin\",\n",
    "    value=33,\n",
    "    min=0,\n",
    "    max=100)\n",
    "\n",
    "int_slider3 = widgets.IntSlider(\n",
    "    description=\"Zhuyin\",\n",
    "    value=34,\n",
    "    min=0,\n",
    "    max=100)\n",
    "\n",
    "layout = widgets.HBox([text_input, int_slider1, int_slider2, int_slider3])\n",
    "\n",
    "# output = widgets.interactive_output(\n",
    "#     text,\n",
    "#     {\n",
    "#         'n': number_slider,\n",
    "#         'max_size_x': maxx_slider,\n",
    "#         'max_size_y': maxy_slider,\n",
    "#         'pos_dist': pos_dist_select,\n",
    "#         'seed': seed_input\n",
    "#     }\n",
    "# )\n",
    "\n",
    "display(layout)"
   ]
  },
  {
   "cell_type": "code",
   "execution_count": 3,
   "id": "1ea5b733",
   "metadata": {
    "scrolled": false
   },
   "outputs": [
    {
     "data": {
      "application/vnd.jupyter.widget-view+json": {
       "model_id": "76e03667a32e4a7381ee724329f23ae5",
       "version_major": 2,
       "version_minor": 0
      },
      "text/plain": [
       "HBox(children=(Text(value='', description='Input', placeholder='type something...'), IntSlider(value=5, descri…"
      ]
     },
     "metadata": {},
     "output_type": "display_data"
    },
    {
     "data": {
      "application/vnd.jupyter.widget-view+json": {
       "model_id": "f2a27e0d4d954563a91c99f728eefede",
       "version_major": 2,
       "version_minor": 0
      },
      "text/plain": [
       "Output()"
      ]
     },
     "metadata": {},
     "output_type": "display_data"
    }
   ],
   "source": [
    "text_input = widgets.Text(\n",
    "    description=\"Input\",\n",
    "    placeholder=\"type something...\")\n",
    "\n",
    "int_slider1 = widgets.IntSlider(\n",
    "    description=\"Hanzi\",\n",
    "    value=5,\n",
    "    min=0,\n",
    "    max=10)\n",
    "\n",
    "int_slider2 = widgets.IntSlider(\n",
    "    description=\"Pinyin\",\n",
    "    value=5,\n",
    "    min=0,\n",
    "    max=10)\n",
    "\n",
    "int_slider3 = widgets.IntSlider(\n",
    "    description=\"Zhuyin\",\n",
    "    value=5,\n",
    "    min=0,\n",
    "    max=10)\n",
    "\n",
    "layout = widgets.HBox([text_input, int_slider1, int_slider2, int_slider3])\n",
    "\n",
    "def disp_text(src = \"\", hanzi_num = 0, pinyin_num = 20, zhuyin_num = 60):\n",
    "    hanzis = []\n",
    "    hanzis = list(src)\n",
    "    letters = src.split()\n",
    "\n",
    "    show_pinyin = pinyin(src)\n",
    "    pinyins = [inner[0] for inner in show_pinyin]\n",
    "\n",
    "    show_zhuyin = pinyin(src, style=Style.BOPOMOFO) \n",
    "    zhuyins = [inner[0] for inner in show_zhuyin]\n",
    "    \n",
    "    outcome = []\n",
    "    for i in range(len(src)):\n",
    "        options = [hanzis[i], pinyins[i], zhuyins[i]]\n",
    "        weights = [hanzi_num, pinyin_num, zhuyin_num]\n",
    "        selected = random.choices(options, weights = weights)[0]\n",
    "        outcome.append(selected)\n",
    "    print(''.join(outcome))\n",
    "\n",
    "output = widgets.interactive_output(\n",
    "    disp_text,\n",
    "    {\n",
    "        'src': text_input,\n",
    "        'hanzi_num': int_slider1,\n",
    "        'pinyin_num': int_slider2,\n",
    "        'zhuyin_num': int_slider3,\n",
    "    }\n",
    ")\n",
    "display(layout,output)"
   ]
  },
  {
   "cell_type": "code",
   "execution_count": 2,
   "id": "2319ce30",
   "metadata": {},
   "outputs": [
    {
     "data": {
      "application/vnd.jupyter.widget-view+json": {
       "model_id": "07e5827bd38c4473a63f6dc60477ffe2",
       "version_major": 2,
       "version_minor": 0
      },
      "text/plain": [
       "HBox(children=(Text(value='', description='Input', placeholder='type something...'), IntSlider(value=5, descri…"
      ]
     },
     "metadata": {},
     "output_type": "display_data"
    },
    {
     "data": {
      "application/vnd.jupyter.widget-view+json": {
       "model_id": "474260f4ffd54847b5298df28cc3d775",
       "version_major": 2,
       "version_minor": 0
      },
      "text/plain": [
       "Output()"
      ]
     },
     "metadata": {},
     "output_type": "display_data"
    }
   ],
   "source": [
    "text_input = widgets.Text(\n",
    "    description=\"Input\",\n",
    "    placeholder=\"type something...\")\n",
    "\n",
    "int_slider1 = widgets.IntSlider(\n",
    "    description=\"Hanzi\",\n",
    "    value=5,\n",
    "    min=0,\n",
    "    max=10)\n",
    "\n",
    "int_slider2 = widgets.IntSlider(\n",
    "    description=\"Pinyin\",\n",
    "    value=5,\n",
    "    min=0,\n",
    "    max=10)\n",
    "\n",
    "int_slider3 = widgets.IntSlider(\n",
    "    description=\"Zhuyin\",\n",
    "    value=5,\n",
    "    min=0,\n",
    "    max=10)\n",
    "\n",
    "layout = widgets.HBox([text_input, int_slider1, int_slider2, int_slider3])\n",
    "\n",
    "def disp_text(src = \"\", hanzi_num = 0, pinyin_num = 20, zhuyin_num = 60):\n",
    "    hanzis = []\n",
    "    hanzis = list(src)\n",
    "    letters = src.split()\n",
    "\n",
    "    show_pinyin = pinyin(src, style=Style.FIRST_LETTER)\n",
    "    pinyins = [inner[0] for inner in show_pinyin]\n",
    "\n",
    "    show_zhuyin = pinyin(src, style=Style.BOPOMOFO) \n",
    "    zhuyins = [inner[0].replace('ˊ', '').replace('ˋ', '').replace('ˇ', '') for inner in show_zhuyin]\n",
    "    \n",
    "    outcome = []\n",
    "    for i in range(len(src)):\n",
    "        options = [hanzis[i], pinyins[i], zhuyins[i]]\n",
    "        weights = [hanzi_num, pinyin_num, zhuyin_num]\n",
    "        selected = random.choices(options, weights = weights)[0]\n",
    "        outcome.append(selected)\n",
    "    print(''.join(outcome))\n",
    "\n",
    "output = widgets.interactive_output(\n",
    "    disp_text,\n",
    "    {\n",
    "        'src': text_input,\n",
    "        'hanzi_num': int_slider1,\n",
    "        'pinyin_num': int_slider2,\n",
    "        'zhuyin_num': int_slider3,\n",
    "    }\n",
    ")\n",
    "display(layout,output)"
   ]
  }
 ],
 "metadata": {
  "kernelspec": {
   "display_name": "Python 3 (ipykernel)",
   "language": "python",
   "name": "python3"
  },
  "language_info": {
   "codemirror_mode": {
    "name": "ipython",
    "version": 3
   },
   "file_extension": ".py",
   "mimetype": "text/x-python",
   "name": "python",
   "nbconvert_exporter": "python",
   "pygments_lexer": "ipython3",
   "version": "3.9.13"
  }
 },
 "nbformat": 4,
 "nbformat_minor": 5
}
